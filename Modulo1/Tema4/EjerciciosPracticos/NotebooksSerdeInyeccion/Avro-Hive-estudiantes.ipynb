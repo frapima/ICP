{
 "cells": [
  {
   "cell_type": "markdown",
   "metadata": {},
   "source": [
    "# Trabajo con Avro y Hive"
   ]
  },
  {
   "cell_type": "code",
   "execution_count": 1,
   "metadata": {
    "collapsed": true
   },
   "outputs": [],
   "source": [
    "! mkdir -p avro-hive"
   ]
  },
  {
   "cell_type": "code",
   "execution_count": 2,
   "metadata": {
    "collapsed": true
   },
   "outputs": [],
   "source": [
    "import os\n",
    "os.chdir(\"avro-hive\")"
   ]
  },
  {
   "cell_type": "code",
   "execution_count": 3,
   "metadata": {},
   "outputs": [
    {
     "name": "stdout",
     "output_type": "stream",
     "text": [
      "/media/notebooks/avro-hive\r\n"
     ]
    }
   ],
   "source": [
    "! pwd"
   ]
  },
  {
   "cell_type": "markdown",
   "metadata": {},
   "source": [
    "## Deja los ficheros de datos en la ruta /media/notebooks"
   ]
  },
  {
   "cell_type": "code",
   "execution_count": 4,
   "metadata": {},
   "outputs": [
    {
     "name": "stdout",
     "output_type": "stream",
     "text": [
      "put: `datoshive/part-00000': File exists\r\n"
     ]
    }
   ],
   "source": [
    "! hadoop fs -mkdir datoshive\n",
    "! hadoop fs -put ../part-00000 datoshive\n",
    "! hadoop fs -put ../nuevoregistro.avro datoshive\n",
    "! hadoop fs -put ../nuevoregistro2.avro datoshive\n",
    "! hadoop fs -put ../000000_0 datoshive\n"
   ]
  },
  {
   "cell_type": "markdown",
   "metadata": {},
   "source": [
    "## Creamos tabla interna\n",
    "\n",
    "Vamos a crear una tabla interna basada en Avro y la poblaremos con registros de un fichero de datos avro existente."
   ]
  },
  {
   "cell_type": "code",
   "execution_count": 5,
   "metadata": {},
   "outputs": [
    {
     "name": "stdout",
     "output_type": "stream",
     "text": [
      "2019-05-14 09:44:56,090 WARN  [main] mapreduce.TableMapReduceUtil: The hbase-prefix-tree module jar containing PrefixTreeCodec is not present.  Continuing without it.\n",
      "scan complete in 3ms\n",
      "Connecting to jdbc:hive2://localhost:10000/bioinformatica\n",
      "Connected to: Apache Hive (version 1.1.0-cdh5.7.0)\n",
      "Driver: Hive JDBC (version 1.1.0-cdh5.7.0)\n",
      "Transaction isolation: TRANSACTION_REPEATABLE_READ\n",
      "INFO  : Compiling command(queryId=hive_20190514094444_6e8748dd-f5a9-423e-b804-95f908c7c3d0): drop table avro_datacleaninternal\n",
      "INFO  : Semantic Analysis Completed\n",
      "INFO  : Returning Hive schema: Schema(fieldSchemas:null, properties:null)\n",
      "INFO  : Completed compiling command(queryId=hive_20190514094444_6e8748dd-f5a9-423e-b804-95f908c7c3d0); Time taken: 0.571 seconds\n",
      "INFO  : Concurrency mode is disabled, not creating a lock manager\n",
      "INFO  : Executing command(queryId=hive_20190514094444_6e8748dd-f5a9-423e-b804-95f908c7c3d0): drop table avro_datacleaninternal\n",
      "INFO  : Starting task [Stage-0:DDL] in serial mode\n",
      "INFO  : Completed executing command(queryId=hive_20190514094444_6e8748dd-f5a9-423e-b804-95f908c7c3d0); Time taken: 0.037 seconds\n",
      "INFO  : OK\n",
      "No rows affected (0.757 seconds)\n",
      "Beeline version 1.1.0-cdh5.7.0 by Apache Hive\n",
      "Closing: 0: jdbc:hive2://localhost:10000/bioinformatica\n",
      "2019-05-14 09:45:00,726 WARN  [main] mapreduce.TableMapReduceUtil: The hbase-prefix-tree module jar containing PrefixTreeCodec is not present.  Continuing without it.\n",
      "scan complete in 2ms\n",
      "Connecting to jdbc:hive2://localhost:10000/bioinformatica\n",
      "Connected to: Apache Hive (version 1.1.0-cdh5.7.0)\n",
      "Driver: Hive JDBC (version 1.1.0-cdh5.7.0)\n",
      "Transaction isolation: TRANSACTION_REPEATABLE_READ\n",
      "INFO  : Compiling command(queryId=hive_20190514094545_b9cb7abd-3e6e-4b83-96c9-0712128a1596): drop table avroB_datacleaninternal\n",
      "INFO  : Semantic Analysis Completed\n",
      "INFO  : Returning Hive schema: Schema(fieldSchemas:null, properties:null)\n",
      "INFO  : Completed compiling command(queryId=hive_20190514094545_b9cb7abd-3e6e-4b83-96c9-0712128a1596); Time taken: 0.054 seconds\n",
      "INFO  : Concurrency mode is disabled, not creating a lock manager\n",
      "INFO  : Executing command(queryId=hive_20190514094545_b9cb7abd-3e6e-4b83-96c9-0712128a1596): drop table avroB_datacleaninternal\n",
      "INFO  : Starting task [Stage-0:DDL] in serial mode\n",
      "INFO  : Completed executing command(queryId=hive_20190514094545_b9cb7abd-3e6e-4b83-96c9-0712128a1596); Time taken: 0.01 seconds\n",
      "INFO  : OK\n",
      "No rows affected (0.143 seconds)\n",
      "Beeline version 1.1.0-cdh5.7.0 by Apache Hive\n",
      "Closing: 0: jdbc:hive2://localhost:10000/bioinformatica\n",
      "2019-05-14 09:45:04,220 WARN  [main] mapreduce.TableMapReduceUtil: The hbase-prefix-tree module jar containing PrefixTreeCodec is not present.  Continuing without it.\n",
      "scan complete in 4ms\n",
      "Connecting to jdbc:hive2://localhost:10000/bioinformatica\n",
      "Connected to: Apache Hive (version 1.1.0-cdh5.7.0)\n",
      "Driver: Hive JDBC (version 1.1.0-cdh5.7.0)\n",
      "Transaction isolation: TRANSACTION_REPEATABLE_READ\n",
      "INFO  : Compiling command(queryId=hive_20190514094545_fdec9129-2ff8-470c-82ee-9308b88de55d): drop table avrodatacleanexternal\n",
      "INFO  : Semantic Analysis Completed\n",
      "INFO  : Returning Hive schema: Schema(fieldSchemas:null, properties:null)\n",
      "INFO  : Completed compiling command(queryId=hive_20190514094545_fdec9129-2ff8-470c-82ee-9308b88de55d); Time taken: 0.024 seconds\n",
      "INFO  : Concurrency mode is disabled, not creating a lock manager\n",
      "INFO  : Executing command(queryId=hive_20190514094545_fdec9129-2ff8-470c-82ee-9308b88de55d): drop table avrodatacleanexternal\n",
      "INFO  : Starting task [Stage-0:DDL] in serial mode\n",
      "INFO  : Completed executing command(queryId=hive_20190514094545_fdec9129-2ff8-470c-82ee-9308b88de55d); Time taken: 0.011 seconds\n",
      "INFO  : OK\n",
      "No rows affected (0.099 seconds)\n",
      "Beeline version 1.1.0-cdh5.7.0 by Apache Hive\n",
      "Closing: 0: jdbc:hive2://localhost:10000/bioinformatica\n"
     ]
    }
   ],
   "source": [
    "! beeline -u \"jdbc:hive2://localhost:10000/bioinformatica\" -e \"drop table avro_datacleaninternal;\"\n",
    "! beeline -u \"jdbc:hive2://localhost:10000/bioinformatica\" -e \"drop table avroB_datacleaninternal;\"\n",
    "! beeline -u \"jdbc:hive2://localhost:10000/bioinformatica\" -e \"drop table avrodatacleanexternal;\""
   ]
  },
  {
   "cell_type": "code",
   "execution_count": 6,
   "metadata": {},
   "outputs": [
    {
     "name": "stdout",
     "output_type": "stream",
     "text": [
      "Writing avrohive.hql\n"
     ]
    }
   ],
   "source": [
    "%%writefile avrohive.hql\n",
    "\n",
    "create  table avro_datacleaninternal (\n",
    "  idref  STRING,   \n",
    "  ident  STRING,\n",
    "  gsm19023 FLOAT,  \n",
    "  gsd19024 FLOAT, \n",
    "  gsd19025 FLOAT,    \n",
    "  gsd19026 FLOAT, \n",
    "  genetitle STRING,   \n",
    "  genesymbol STRING,\n",
    "  geneID SMALLINT,    \n",
    "  uniGenetitle STRING,\n",
    "  uniGenesymbol STRING,   \n",
    "  uniGeneID STRING,\n",
    "  NucleotideTitle STRING) \n",
    "STORED AS AVRO;"
   ]
  },
  {
   "cell_type": "code",
   "execution_count": 7,
   "metadata": {},
   "outputs": [
    {
     "name": "stdout",
     "output_type": "stream",
     "text": [
      "2019-05-14 09:45:46,134 WARN  [main] mapreduce.TableMapReduceUtil: The hbase-prefix-tree module jar containing PrefixTreeCodec is not present.  Continuing without it.\n",
      "scan complete in 2ms\n",
      "Connecting to jdbc:hive2://localhost:10000/bioinformatica\n",
      "Connected to: Apache Hive (version 1.1.0-cdh5.7.0)\n",
      "Driver: Hive JDBC (version 1.1.0-cdh5.7.0)\n",
      "Transaction isolation: TRANSACTION_REPEATABLE_READ\n",
      "0: jdbc:hive2://localhost:10000/bioinformatic> \n",
      "nal (bc:hive2://localhost:10000/bioinformatic> create  table avro_datacleaninter \n",
      "0: jdbc:hive2://localhost:10000/bioinformatic>   idref  STRING,   \n",
      "0: jdbc:hive2://localhost:10000/bioinformatic>   ident  STRING,\n",
      "0: jdbc:hive2://localhost:10000/bioinformatic>   gsm19023 FLOAT,  \n",
      "0: jdbc:hive2://localhost:10000/bioinformatic>   gsd19024 FLOAT, \n",
      "0: jdbc:hive2://localhost:10000/bioinformatic>   gsd19025 FLOAT,    \n",
      "0: jdbc:hive2://localhost:10000/bioinformatic>   gsd19026 FLOAT, \n",
      "0: jdbc:hive2://localhost:10000/bioinformatic>   genetitle STRING,   \n",
      "0: jdbc:hive2://localhost:10000/bioinformatic>   genesymbol STRING,\n",
      "0: jdbc:hive2://localhost:10000/bioinformatic>   geneID SMALLINT,    \n",
      "0: jdbc:hive2://localhost:10000/bioinformatic>   uniGenetitle STRING,\n",
      "0: jdbc:hive2://localhost:10000/bioinformatic>   uniGenesymbol STRING,   \n",
      "0: jdbc:hive2://localhost:10000/bioinformatic>   uniGeneID STRING,\n",
      "0: jdbc:hive2://localhost:10000/bioinformatic>   NucleotideTitle STRING) \n",
      "0: jdbc:hive2://localhost:10000/bioinformatic> STORED AS AVRO;\n",
      "INFO  : Compiling command(queryId=hive_20190514094545_fc0cea66-af4c-4e9d-bbc9-c29028c3a3de): create  table avro_datacleaninternal (\n",
      "  idref  STRING,   \n",
      "  ident  STRING,\n",
      "  gsm19023 FLOAT,  \n",
      "  gsd19024 FLOAT, \n",
      "  gsd19025 FLOAT,    \n",
      "  gsd19026 FLOAT, \n",
      "  genetitle STRING,   \n",
      "  genesymbol STRING,\n",
      "  geneID SMALLINT,    \n",
      "  uniGenetitle STRING,\n",
      "  uniGenesymbol STRING,   \n",
      "  uniGeneID STRING,\n",
      "  NucleotideTitle STRING) \n",
      "STORED AS AVRO\n",
      "INFO  : Semantic Analysis Completed\n",
      "INFO  : Returning Hive schema: Schema(fieldSchemas:null, properties:null)\n",
      "INFO  : Completed compiling command(queryId=hive_20190514094545_fc0cea66-af4c-4e9d-bbc9-c29028c3a3de); Time taken: 0.157 seconds\n",
      "INFO  : Concurrency mode is disabled, not creating a lock manager\n",
      "INFO  : Executing command(queryId=hive_20190514094545_fc0cea66-af4c-4e9d-bbc9-c29028c3a3de): create  table avro_datacleaninternal (\n",
      "  idref  STRING,   \n",
      "  ident  STRING,\n",
      "  gsm19023 FLOAT,  \n",
      "  gsd19024 FLOAT, \n",
      "  gsd19025 FLOAT,    \n",
      "  gsd19026 FLOAT, \n",
      "  genetitle STRING,   \n",
      "  genesymbol STRING,\n",
      "  geneID SMALLINT,    \n",
      "  uniGenetitle STRING,\n",
      "  uniGenesymbol STRING,   \n",
      "  uniGeneID STRING,\n",
      "  NucleotideTitle STRING) \n",
      "STORED AS AVRO\n",
      "INFO  : Starting task [Stage-0:DDL] in serial mode\n",
      "INFO  : Completed executing command(queryId=hive_20190514094545_fc0cea66-af4c-4e9d-bbc9-c29028c3a3de); Time taken: 0.988 seconds\n",
      "INFO  : OK\n",
      "No rows affected (1.209 seconds)\n",
      "0: jdbc:hive2://localhost:10000/bioinformatic> \n",
      "Closing: 0: jdbc:hive2://localhost:10000/bioinformatica\n"
     ]
    }
   ],
   "source": [
    "! beeline -u \"jdbc:hive2://localhost:10000/bioinformatica\" -f avrohive.hql"
   ]
  },
  {
   "cell_type": "code",
   "execution_count": 14,
   "metadata": {},
   "outputs": [
    {
     "name": "stdout",
     "output_type": "stream",
     "text": [
      "2019-05-14 09:49:30,695 WARN  [main] mapreduce.TableMapReduceUtil: The hbase-prefix-tree module jar containing PrefixTreeCodec is not present.  Continuing without it.\n",
      "scan complete in 3ms\n",
      "Connecting to jdbc:hive2://localhost:10000/bioinformatica\n",
      "Connected to: Apache Hive (version 1.1.0-cdh5.7.0)\n",
      "Driver: Hive JDBC (version 1.1.0-cdh5.7.0)\n",
      "Transaction isolation: TRANSACTION_REPEATABLE_READ\n",
      "INFO  : Compiling command(queryId=hive_20190514094949_6d7ca608-38d8-4f03-a53f-8f0be30304e6): LOAD DATA INPATH '/user/root/datoshive/000000_0' INTO TABLE avro_datacleaninternal\n",
      "INFO  : Semantic Analysis Completed\n",
      "INFO  : Returning Hive schema: Schema(fieldSchemas:null, properties:null)\n",
      "INFO  : Completed compiling command(queryId=hive_20190514094949_6d7ca608-38d8-4f03-a53f-8f0be30304e6); Time taken: 0.087 seconds\n",
      "INFO  : Concurrency mode is disabled, not creating a lock manager\n",
      "INFO  : Executing command(queryId=hive_20190514094949_6d7ca608-38d8-4f03-a53f-8f0be30304e6): LOAD DATA INPATH '/user/root/datoshive/000000_0' INTO TABLE avro_datacleaninternal\n",
      "INFO  : Starting task [Stage-0:MOVE] in serial mode\n",
      "INFO  : Loading data to table bioinformatica.avro_datacleaninternal from hdfs://quickstart.cloudera:8020/user/root/datoshive/000000_0\n",
      "INFO  : Starting task [Stage-1:STATS] in serial mode\n",
      "INFO  : Table bioinformatica.avro_datacleaninternal stats: [numFiles=1, totalSize=5385436]\n",
      "INFO  : Completed executing command(queryId=hive_20190514094949_6d7ca608-38d8-4f03-a53f-8f0be30304e6); Time taken: 0.469 seconds\n",
      "INFO  : OK\n",
      "No rows affected (0.614 seconds)\n",
      "Beeline version 1.1.0-cdh5.7.0 by Apache Hive\n",
      "Closing: 0: jdbc:hive2://localhost:10000/bioinformatica\n"
     ]
    }
   ],
   "source": [
    "! beeline -u \"jdbc:hive2://localhost:10000/bioinformatica\" -e \"LOAD DATA INPATH '/user/root/datoshive/000000_0' INTO TABLE avro_datacleaninternal;\" "
   ]
  },
  {
   "cell_type": "markdown",
   "metadata": {},
   "source": [
    "Veremos que los datos se han introducido en la tabla interna basada en avro, y que al principio del fichero de datos aparece el esquema de avro."
   ]
  },
  {
   "cell_type": "code",
   "execution_count": 20,
   "metadata": {},
   "outputs": [
    {
     "name": "stdout",
     "output_type": "stream",
     "text": [
      "Obj\u0001\u0002\u0016avro.schema�\r",
      "{\"type\":\"record\",\"name\":\"avro_datacleaninternal\",\"namespace\":\"bioinformatica\",\"fields\":[{\"name\":\"idref\",\"type\":[\"null\",\"string\"],\"default\":null},{\"name\":\"ident\",\"type\":[\"null\",\"string\"],\"default\":null},{\"name\":\"gsm19023\",\"type\":[\"null\",\"float\"],\"default\":null},{\"name\":\"gsd19024\",\"type\":[\"null\",\"float\"],\"default\":null},{\"name\":\"gsd19025\",\"type\":[\"null\",\"float\"],\"default\":null},{\"name\":\"gsd19026\",\"type\":[\"null\",\"float\"],\"default\":null},{\"name\":\"genetitle\",\"type\":[\"null\",\"string\"],\"default\":null},{\"name\":\"genesymbol\",\"type\":[\"null\",\"string\"],\"default\":null},{\"name\":\"geneid\",\"type\":[\"null\",\"int\"],\"default\":null},{\"name\":\"unigenetitle\",\"type\":[\"null\",\"string\"],\"default\":null},{\"name\":\"unigenesymbol\",\"type\":[\"null\",\"string\"],\"default\":null},{\"name\":\"unigeneid\",\"type\":[\"null\",\"string\"],\"default\":null},{\"name\":\"nucleotidetitle\",\"type\":[\"null\",\"string\"],\"default\":null}]}\u0000��=\u001d",
      "�\u000f\u0016�3c���nic�\u0006��\u0007\u0002\u0012100001_at\u0002\bCd3g\u0002�5�E\u00023C�E\u0002��9D\u0002�9\u0014D\u0002<CD3 antigen, gamma polypeptide\u0002\bCd3g\u0002��\u0001\u0002\u0000\u0002\u0000\u0002\u0000\u0002NMouse CD3-gamma (T3-gamma) gene, exon 7\u0002\u0012100002_at\u0002\r\n",
      "Itih3\u0002���B\u0002�L)C\u000233*C\u0002���B\u0002Xinter-alpha trypsin inhibitor, heavy chain 3\u0002\r\n",
      "Itih3\u0002��\u0002\u0002\u0000\u0002\u0000\u0002\u0000\u0002dM.musculus mRNA for inter-alpha-inhibitor H3 chain\u0002\u0012100003_at\u0002\bRyr1\u0002�L�C\u0002ff�C\u0002���C\u0002�\f",
      "�C\u0002Jryanodine receptor 1, skeletal muscle\u0002\bRyr1\u0002��\u0002\u0002\u0000\u0002\u0000\u0002\u0000\u0002�\u0001Mus musculus RyR1 mRNA for skeletal muscle ryanodine receptor, partial cds\u0002\u0012100004_at\u0002\r\n",
      "Ints7\u0002��MD\u0002\u0000�TD\u0002\u0000��C\u0002f��C\u00028integrator complex subunit 7\u0002\r\n",
      "Ints7\u0000\u0002\u0000\u0002\u0000\u0002\u0000\u0002�\u0001UI-M-BH2.3-aob-a-12-0-UI.s1 NIH_BMAP_M_S3.3 Mus musculus cDNA clone UI-M-BH2.3-aob-a-12-0-UI 3-, mRNA sequence\u0002\u0012100005_at\u0002\r\n",
      "Traf4\u00023��D\u0002�,�D\u00023�[D\u0002\u0000�HD\u0002@TNF receptor associated factor 4\u0002\r\n",
      "Traf4\u0002��\u0002\u0002\u0000\u0002\u0000\u0002\u0000\u0002BM.musculus mRNA for CART1 protein\u0002\u0012100006_at\u0002\r\n",
      "Cdh11\u00023�$C\u0002\u0000\u0000�B\u0002���A\u0002\u0000\u0000\u0003C\u0002\u0016cadherin 11\u0002\r\n",
      "Cdh11\u0002��\u0001\u0002\u0000\u0002\u0000\u0002\u0000\u0002nMus musculus osf-4 mRNA for OB-cadherin-1, complete cds\u0002\u0012100007_at\u0002\u000eIrf2bp1\u0002�$\u0017E\u0002f�&E\u0002��+E\u0002��)E\u0002`interferon regulatory factor 2 binding protein 1\u0002\u000eIrf2bp1\u0000\u0002\u0000\u0002\u0000\u0002\u0000\u0002�\u0001UI-M-AL0-abs-g-06-0-UI.s1 NIH_BMAP_MCO Mus musculus cDNA clone UI-M-AL0-abs-g-06-0-UI 3-, mRNA sequence\u0002\u0016100009_r_at\u0002\bSox2\u0002���C\u0002���C\u0002f��C\u0002���C\u0002HSRY (sex determining region Y)-box 2\u0002\bSox2\u0002��\u0002\u0002\u0000\u0002\u0000\u0002\u0000\u0002(M.musculus SOX2 gene\u0002\u0012100010_at\u0002\bKlf3\u00023��C\u0002f��C\u000233�C\u0002\u0000��C\u0002:Kruppel-like factor 3 (basic)\u0002\bKlf3\u0002��\u0002\u0002\u0000\u0002\u0000\u0002\u0000\u0002|Mus musculus CACCC-box binding protein BKLF mRNA, complete cds\u0002\u0012100011_at\u0002\bKlf3\u0002fF�D\u00023��D\u0002�Y�D\u0002���D\u0002:Kruppel-like factor 3 (basic)\u0002\bKlf3\u0002��\u0002\u0002\u0000\u0002\u0000\u0002\u0000\u0002�\u0001UI-M-BH0-ain-f-03-0-UI.s1 NIH_BMAP_M_S1 Mus musculus cDNA clone UI-M-BH0-ain-f-03-0-UI 3-, mRNA sequence\u0002\u0012100012_at\u0002\f",
      "Laptm5\u00023�\u0013F\u00023C#F\u0002\u0000@2E\u00023cRE\u0002Xlysosomal-associated protein transmembrane 5\u0002\f",
      "Laptm5\u0002��\u0002\u0002\u0000\u0002\u0000\u0002\u0000\u0002�\u0001Mus musculus retinoic acid-inducible E3 protein mRNA, complete cds\u0002\u0012100013_at\u0002\r\n",
      "Ifi35\u00023��D\u0002fv�D\u0002��aD\u0002f\u0006ED\u0002:interferon-induced protein 35\u0002\r\n",
      "cat: Unable to write to output stream.\r\n"
     ]
    }
   ],
   "source": [
    "! hadoop fs -cat /user/cloudera/bioinformatica/avro_datacleaninternal/000000_0 | head"
   ]
  },
  {
   "cell_type": "code",
   "execution_count": 21,
   "metadata": {},
   "outputs": [
    {
     "name": "stdout",
     "output_type": "stream",
     "text": [
      "2019-05-14 09:59:21,243 WARN  [main] mapreduce.TableMapReduceUtil: The hbase-prefix-tree module jar containing PrefixTreeCodec is not present.  Continuing without it.\n",
      "scan complete in 2ms\n",
      "Connecting to jdbc:hive2://localhost:10000/bioinformatica\n",
      "Connected to: Apache Hive (version 1.1.0-cdh5.7.0)\n",
      "Driver: Hive JDBC (version 1.1.0-cdh5.7.0)\n",
      "Transaction isolation: TRANSACTION_REPEATABLE_READ\n",
      "INFO  : Compiling command(queryId=hive_20190514095959_a0e6e08d-1205-4424-b5ad-c116d9ee7b4f): select count(*) from avro_datacleaninternal where genetitle like '%human%'\n",
      "INFO  : Semantic Analysis Completed\n",
      "INFO  : Returning Hive schema: Schema(fieldSchemas:[FieldSchema(name:_c0, type:bigint, comment:null)], properties:null)\n",
      "INFO  : Completed compiling command(queryId=hive_20190514095959_a0e6e08d-1205-4424-b5ad-c116d9ee7b4f); Time taken: 0.659 seconds\n",
      "INFO  : Concurrency mode is disabled, not creating a lock manager\n",
      "INFO  : Executing command(queryId=hive_20190514095959_a0e6e08d-1205-4424-b5ad-c116d9ee7b4f): select count(*) from avro_datacleaninternal where genetitle like '%human%'\n",
      "INFO  : Query ID = hive_20190514095959_a0e6e08d-1205-4424-b5ad-c116d9ee7b4f\n",
      "INFO  : Total jobs = 1\n",
      "INFO  : Launching Job 1 out of 1\n",
      "INFO  : Starting task [Stage-1:MAPRED] in serial mode\n",
      "INFO  : Number of reduce tasks determined at compile time: 1\n",
      "INFO  : In order to change the average load for a reducer (in bytes):\n",
      "INFO  :   set hive.exec.reducers.bytes.per.reducer=<number>\n",
      "INFO  : In order to limit the maximum number of reducers:\n",
      "INFO  :   set hive.exec.reducers.max=<number>\n",
      "INFO  : In order to set a constant number of reducers:\n",
      "INFO  :   set mapreduce.job.reduces=<number>\n",
      "INFO  : Starting Job = job_1557826693135_0001, Tracking URL = http://quickstart.cloudera:8088/proxy/application_1557826693135_0001/\n",
      "INFO  : Kill Command = /usr/lib/hadoop/bin/hadoop job  -kill job_1557826693135_0001\n",
      "INFO  : Hadoop job information for Stage-1: number of mappers: 1; number of reducers: 1\n",
      "INFO  : 2019-05-14 09:59:32,326 Stage-1 map = 0%,  reduce = 0%\n",
      "INFO  : 2019-05-14 09:59:39,691 Stage-1 map = 100%,  reduce = 0%, Cumulative CPU 3.89 sec\n",
      "INFO  : 2019-05-14 09:59:44,932 Stage-1 map = 100%,  reduce = 100%, Cumulative CPU 5.33 sec\n",
      "INFO  : MapReduce Total cumulative CPU time: 5 seconds 330 msec\n",
      "INFO  : Ended Job = job_1557826693135_0001\n",
      "INFO  : MapReduce Jobs Launched: \n",
      "INFO  : Stage-Stage-1: Map: 1  Reduce: 1   Cumulative CPU: 5.33 sec   HDFS Read: 5402080 HDFS Write: 4 SUCCESS\n",
      "INFO  : Total MapReduce CPU Time Spent: 5 seconds 330 msec\n",
      "INFO  : Completed executing command(queryId=hive_20190514095959_a0e6e08d-1205-4424-b5ad-c116d9ee7b4f); Time taken: 23.685 seconds\n",
      "INFO  : OK\n",
      "+------+--+\n",
      "| _c0  |\n",
      "+------+--+\n",
      "| 105  |\n",
      "+------+--+\n",
      "1 row selected (24.548 seconds)\n",
      "Beeline version 1.1.0-cdh5.7.0 by Apache Hive\n",
      "Closing: 0: jdbc:hive2://localhost:10000/bioinformatica\n"
     ]
    }
   ],
   "source": [
    "! beeline -u \"jdbc:hive2://localhost:10000/bioinformatica\" -e \"select count(*) from avro_datacleaninternal where genetitle like '%human%';\" "
   ]
  },
  {
   "cell_type": "markdown",
   "metadata": {},
   "source": [
    "## Creamos tabla externa"
   ]
  },
  {
   "cell_type": "code",
   "execution_count": 33,
   "metadata": {},
   "outputs": [],
   "source": [
    "! hadoop fs -mkdir   /user/cloudera/datosavrohive"
   ]
  },
  {
   "cell_type": "code",
   "execution_count": 34,
   "metadata": {},
   "outputs": [],
   "source": [
    "! hadoop fs -put ../000000_0  /user/cloudera/datosavrohive"
   ]
  },
  {
   "cell_type": "code",
   "execution_count": 36,
   "metadata": {},
   "outputs": [
    {
     "name": "stdout",
     "output_type": "stream",
     "text": [
      "2019-05-14 10:30:56,419 WARN  [main] mapreduce.TableMapReduceUtil: The hbase-prefix-tree module jar containing PrefixTreeCodec is not present.  Continuing without it.\n",
      "scan complete in 2ms\n",
      "Connecting to jdbc:hive2://localhost:10000/bioinformatica\n",
      "Connected to: Apache Hive (version 1.1.0-cdh5.7.0)\n",
      "Driver: Hive JDBC (version 1.1.0-cdh5.7.0)\n",
      "Transaction isolation: TRANSACTION_REPEATABLE_READ\n",
      "INFO  : Compiling command(queryId=hive_20190514103030_8adb8af4-4d4f-4a0c-a7ea-e9a8e4374e53): drop table avrodatacleanexternal\n",
      "INFO  : Semantic Analysis Completed\n",
      "INFO  : Returning Hive schema: Schema(fieldSchemas:null, properties:null)\n",
      "INFO  : Completed compiling command(queryId=hive_20190514103030_8adb8af4-4d4f-4a0c-a7ea-e9a8e4374e53); Time taken: 0.019 seconds\n",
      "INFO  : Concurrency mode is disabled, not creating a lock manager\n",
      "INFO  : Executing command(queryId=hive_20190514103030_8adb8af4-4d4f-4a0c-a7ea-e9a8e4374e53): drop table avrodatacleanexternal\n",
      "INFO  : Starting task [Stage-0:DDL] in serial mode\n",
      "INFO  : Completed executing command(queryId=hive_20190514103030_8adb8af4-4d4f-4a0c-a7ea-e9a8e4374e53); Time taken: 0.008 seconds\n",
      "INFO  : OK\n",
      "No rows affected (0.093 seconds)\n",
      "Beeline version 1.1.0-cdh5.7.0 by Apache Hive\n",
      "Closing: 0: jdbc:hive2://localhost:10000/bioinformatica\n"
     ]
    }
   ],
   "source": [
    "! beeline -u \"jdbc:hive2://localhost:10000/bioinformatica\" -e \"drop table avrodatacleanexternal;\""
   ]
  },
  {
   "cell_type": "code",
   "execution_count": 37,
   "metadata": {},
   "outputs": [
    {
     "name": "stdout",
     "output_type": "stream",
     "text": [
      "Overwriting ejerciciohive.hql\n"
     ]
    }
   ],
   "source": [
    "%%writefile ejerciciohive.hql\n",
    "\n",
    "create external table avrodatacleanexternal (\n",
    "  idref  STRING,   \n",
    "  ident  STRING, \n",
    "  gsm19023 FLOAT,  \n",
    "  gsd19024 FLOAT, \n",
    "  gsd19025 FLOAT,   \n",
    "  gsd19026 FLOAT, \n",
    "  genetitle STRING,   \n",
    "  genesymbol STRING,\n",
    "  geneID SMALLINT,   \n",
    "  uniGenetitle STRING,\n",
    "  uniGenesymbol STRING,  \n",
    "  uniGeneID STRING,\n",
    "  NucleotideTitle STRING) \n",
    "STORED AS AVRO\n",
    "LOCATION '/user/cloudera/datosavrohive';\n",
    "\n"
   ]
  },
  {
   "cell_type": "code",
   "execution_count": 38,
   "metadata": {},
   "outputs": [
    {
     "name": "stdout",
     "output_type": "stream",
     "text": [
      "2019-05-14 10:31:47,863 WARN  [main] mapreduce.TableMapReduceUtil: The hbase-prefix-tree module jar containing PrefixTreeCodec is not present.  Continuing without it.\n",
      "scan complete in 3ms\n",
      "Connecting to jdbc:hive2://localhost:10000/bioinformatica\n",
      "Connected to: Apache Hive (version 1.1.0-cdh5.7.0)\n",
      "Driver: Hive JDBC (version 1.1.0-cdh5.7.0)\n",
      "Transaction isolation: TRANSACTION_REPEATABLE_READ\n",
      "0: jdbc:hive2://localhost:10000/bioinformatic> \n",
      "anexternal (2://localhost:10000/bioinformatic> create external table avrodatacle \n",
      "0: jdbc:hive2://localhost:10000/bioinformatic>   idref  STRING,   \n",
      "0: jdbc:hive2://localhost:10000/bioinformatic>   ident  STRING, \n",
      "0: jdbc:hive2://localhost:10000/bioinformatic>   gsm19023 FLOAT,  \n",
      "0: jdbc:hive2://localhost:10000/bioinformatic>   gsd19024 FLOAT, \n",
      "0: jdbc:hive2://localhost:10000/bioinformatic>   gsd19025 FLOAT,   \n",
      "0: jdbc:hive2://localhost:10000/bioinformatic>   gsd19026 FLOAT, \n",
      "0: jdbc:hive2://localhost:10000/bioinformatic>   genetitle STRING,   \n",
      "0: jdbc:hive2://localhost:10000/bioinformatic>   genesymbol STRING,\n",
      "0: jdbc:hive2://localhost:10000/bioinformatic>   geneID SMALLINT,   \n",
      "0: jdbc:hive2://localhost:10000/bioinformatic>   uniGenetitle STRING,\n",
      "0: jdbc:hive2://localhost:10000/bioinformatic>   uniGenesymbol STRING,  \n",
      "0: jdbc:hive2://localhost:10000/bioinformatic>   uniGeneID STRING,\n",
      "0: jdbc:hive2://localhost:10000/bioinformatic>   NucleotideTitle STRING) \n",
      "0: jdbc:hive2://localhost:10000/bioinformatic> STORED AS AVRO\n",
      "ohive';:hive2://localhost:10000/bioinformatic> LOCATION '/user/cloudera/datosavr \n",
      "INFO  : Compiling command(queryId=hive_20190514103131_57a00616-6b8f-4590-93df-07f684c58669): create external table avrodatacleanexternal (\n",
      "  idref  STRING,   \n",
      "  ident  STRING, \n",
      "  gsm19023 FLOAT,  \n",
      "  gsd19024 FLOAT, \n",
      "  gsd19025 FLOAT,   \n",
      "  gsd19026 FLOAT, \n",
      "  genetitle STRING,   \n",
      "  genesymbol STRING,\n",
      "  geneID SMALLINT,   \n",
      "  uniGenetitle STRING,\n",
      "  uniGenesymbol STRING,  \n",
      "  uniGeneID STRING,\n",
      "  NucleotideTitle STRING) \n",
      "STORED AS AVRO\n",
      "LOCATION '/user/cloudera/datosavrohive'\n",
      "INFO  : Semantic Analysis Completed\n",
      "INFO  : Returning Hive schema: Schema(fieldSchemas:null, properties:null)\n",
      "INFO  : Completed compiling command(queryId=hive_20190514103131_57a00616-6b8f-4590-93df-07f684c58669); Time taken: 0.025 seconds\n",
      "INFO  : Concurrency mode is disabled, not creating a lock manager\n",
      "INFO  : Executing command(queryId=hive_20190514103131_57a00616-6b8f-4590-93df-07f684c58669): create external table avrodatacleanexternal (\n",
      "  idref  STRING,   \n",
      "  ident  STRING, \n",
      "  gsm19023 FLOAT,  \n",
      "  gsd19024 FLOAT, \n",
      "  gsd19025 FLOAT,   \n",
      "  gsd19026 FLOAT, \n",
      "  genetitle STRING,   \n",
      "  genesymbol STRING,\n",
      "  geneID SMALLINT,   \n",
      "  uniGenetitle STRING,\n",
      "  uniGenesymbol STRING,  \n",
      "  uniGeneID STRING,\n",
      "  NucleotideTitle STRING) \n",
      "STORED AS AVRO\n",
      "LOCATION '/user/cloudera/datosavrohive'\n",
      "INFO  : Starting task [Stage-0:DDL] in serial mode\n",
      "INFO  : Completed executing command(queryId=hive_20190514103131_57a00616-6b8f-4590-93df-07f684c58669); Time taken: 0.063 seconds\n",
      "INFO  : OK\n",
      "No rows affected (0.157 seconds)\n",
      "0: jdbc:hive2://localhost:10000/bioinformatic> \n",
      "0: jdbc:hive2://localhost:10000/bioinformatic> \n",
      "Closing: 0: jdbc:hive2://localhost:10000/bioinformatica\n"
     ]
    }
   ],
   "source": [
    "! beeline -u \"jdbc:hive2://localhost:10000/bioinformatica\" -f ejerciciohive.hql"
   ]
  },
  {
   "cell_type": "code",
   "execution_count": 40,
   "metadata": {},
   "outputs": [
    {
     "name": "stdout",
     "output_type": "stream",
     "text": [
      "2019-05-14 10:34:30,337 WARN  [main] mapreduce.TableMapReduceUtil: The hbase-prefix-tree module jar containing PrefixTreeCodec is not present.  Continuing without it.\n",
      "scan complete in 3ms\n",
      "Connecting to jdbc:hive2://localhost:10000/bioinformatica\n",
      "Connected to: Apache Hive (version 1.1.0-cdh5.7.0)\n",
      "Driver: Hive JDBC (version 1.1.0-cdh5.7.0)\n",
      "Transaction isolation: TRANSACTION_REPEATABLE_READ\n",
      "INFO  : Compiling command(queryId=hive_20190514103434_a21a3f82-47ec-4068-a8e4-c692f5821583): DESCRIBE FORMATTED avrodatacleanexternal\n",
      "INFO  : Semantic Analysis Completed\n",
      "INFO  : Returning Hive schema: Schema(fieldSchemas:[FieldSchema(name:col_name, type:string, comment:from deserializer), FieldSchema(name:data_type, type:string, comment:from deserializer), FieldSchema(name:comment, type:string, comment:from deserializer)], properties:null)\n",
      "INFO  : Completed compiling command(queryId=hive_20190514103434_a21a3f82-47ec-4068-a8e4-c692f5821583); Time taken: 0.076 seconds\n",
      "INFO  : Concurrency mode is disabled, not creating a lock manager\n",
      "INFO  : Executing command(queryId=hive_20190514103434_a21a3f82-47ec-4068-a8e4-c692f5821583): DESCRIBE FORMATTED avrodatacleanexternal\n",
      "INFO  : Starting task [Stage-0:DDL] in serial mode\n",
      "INFO  : Completed executing command(queryId=hive_20190514103434_a21a3f82-47ec-4068-a8e4-c692f5821583); Time taken: 0.02 seconds\n",
      "INFO  : OK\n",
      "+-------------------------------+--------------------------------------------------------------+-----------------------+--+\n",
      "|           col_name            |                          data_type                           |        comment        |\n",
      "+-------------------------------+--------------------------------------------------------------+-----------------------+--+\n",
      "| # col_name                    | data_type                                                    | comment               |\n",
      "|                               | NULL                                                         | NULL                  |\n",
      "| idref                         | string                                                       |                       |\n",
      "| ident                         | string                                                       |                       |\n",
      "| gsm19023                      | float                                                        |                       |\n",
      "| gsd19024                      | float                                                        |                       |\n",
      "| gsd19025                      | float                                                        |                       |\n",
      "| gsd19026                      | float                                                        |                       |\n",
      "| genetitle                     | string                                                       |                       |\n",
      "| genesymbol                    | string                                                       |                       |\n",
      "| geneid                        | int                                                          |                       |\n",
      "| unigenetitle                  | string                                                       |                       |\n",
      "| unigenesymbol                 | string                                                       |                       |\n",
      "| unigeneid                     | string                                                       |                       |\n",
      "| nucleotidetitle               | string                                                       |                       |\n",
      "|                               | NULL                                                         | NULL                  |\n",
      "| # Detailed Table Information  | NULL                                                         | NULL                  |\n",
      "| Database:                     | bioinformatica                                               | NULL                  |\n",
      "| Owner:                        | anonymous                                                    | NULL                  |\n",
      "| CreateTime:                   | Tue May 14 10:31:49 UTC 2019                                 | NULL                  |\n",
      "| LastAccessTime:               | UNKNOWN                                                      | NULL                  |\n",
      "| Protect Mode:                 | None                                                         | NULL                  |\n",
      "| Retention:                    | 0                                                            | NULL                  |\n",
      "| Location:                     | hdfs://quickstart.cloudera:8020/user/cloudera/datosavrohive  | NULL                  |\n",
      "| Table Type:                   | EXTERNAL_TABLE                                               | NULL                  |\n",
      "| Table Parameters:             | NULL                                                         | NULL                  |\n",
      "|                               | COLUMN_STATS_ACCURATE                                        | false                 |\n",
      "|                               | EXTERNAL                                                     | TRUE                  |\n",
      "|                               | numFiles                                                     | 0                     |\n",
      "|                               | numRows                                                      | -1                    |\n",
      "|                               | rawDataSize                                                  | -1                    |\n",
      "|                               | totalSize                                                    | 0                     |\n",
      "|                               | transient_lastDdlTime                                        | 1557829909            |\n",
      "|                               | NULL                                                         | NULL                  |\n",
      "| # Storage Information         | NULL                                                         | NULL                  |\n",
      "| SerDe Library:                | org.apache.hadoop.hive.serde2.avro.AvroSerDe                 | NULL                  |\n",
      "| InputFormat:                  | org.apache.hadoop.hive.ql.io.avro.AvroContainerInputFormat   | NULL                  |\n",
      "| OutputFormat:                 | org.apache.hadoop.hive.ql.io.avro.AvroContainerOutputFormat  | NULL                  |\n",
      "| Compressed:                   | No                                                           | NULL                  |\n",
      "| Num Buckets:                  | -1                                                           | NULL                  |\n",
      "| Bucket Columns:               | []                                                           | NULL                  |\n",
      "| Sort Columns:                 | []                                                           | NULL                  |\n",
      "| Storage Desc Params:          | NULL                                                         | NULL                  |\n",
      "|                               | serialization.format                                         | 1                     |\n",
      "+-------------------------------+--------------------------------------------------------------+-----------------------+--+\n",
      "44 rows selected (0.21 seconds)\n",
      "Beeline version 1.1.0-cdh5.7.0 by Apache Hive\n",
      "Closing: 0: jdbc:hive2://localhost:10000/bioinformatica\n"
     ]
    }
   ],
   "source": [
    "! beeline -u \"jdbc:hive2://localhost:10000/bioinformatica\" -e \"DESCRIBE FORMATTED avrodatacleanexternal;\""
   ]
  },
  {
   "cell_type": "markdown",
   "metadata": {},
   "source": [
    "## Modificando el esquema Avro\n",
    "\n",
    "Vamos a modificar la tabla basada en Avro añadiendo una nueva columna. Veremos que para los datos existentes esta columna adquiere valor NULL. Luego insertaremos registros que siguen el nuevo esquema, y veremos que las consultas devuelven los datos de esta columna adecuados (null para los items insertados antes del cambio de esquema, y el valor para los datos insertados tras el cambio).\n",
    "\n",
    "Tras el cambio, añadimos un registro que sigue el esquema viejo, sin problemas."
   ]
  },
  {
   "cell_type": "code",
   "execution_count": 41,
   "metadata": {},
   "outputs": [
    {
     "name": "stdout",
     "output_type": "stream",
     "text": [
      "Overwriting avrohive.hql\n"
     ]
    }
   ],
   "source": [
    "%%writefile avrohive.hql\n",
    "\n",
    "ALTER TABLE avrodatacleanexternal ADD COLUMNS (mynewcolumn STRING);"
   ]
  },
  {
   "cell_type": "code",
   "execution_count": 42,
   "metadata": {},
   "outputs": [
    {
     "name": "stdout",
     "output_type": "stream",
     "text": [
      "2019-05-14 10:36:51,614 WARN  [main] mapreduce.TableMapReduceUtil: The hbase-prefix-tree module jar containing PrefixTreeCodec is not present.  Continuing without it.\n",
      "scan complete in 3ms\n",
      "Connecting to jdbc:hive2://localhost:10000/bioinformatica\n",
      "Connected to: Apache Hive (version 1.1.0-cdh5.7.0)\n",
      "Driver: Hive JDBC (version 1.1.0-cdh5.7.0)\n",
      "Transaction isolation: TRANSACTION_REPEATABLE_READ\n",
      "0: jdbc:hive2://localhost:10000/bioinformatic> \n",
      " ADD COLUMNS (mynewcolumn STRING);oinformatic> ALTER TABLE avrodatacleanexternal \n",
      "INFO  : Compiling command(queryId=hive_20190514103636_a79a999a-36b9-4654-a564-a92751ac8346): ALTER TABLE avrodatacleanexternal ADD COLUMNS (mynewcolumn STRING)\n",
      "INFO  : Semantic Analysis Completed\n",
      "INFO  : Returning Hive schema: Schema(fieldSchemas:null, properties:null)\n",
      "INFO  : Completed compiling command(queryId=hive_20190514103636_a79a999a-36b9-4654-a564-a92751ac8346); Time taken: 0.049 seconds\n",
      "INFO  : Concurrency mode is disabled, not creating a lock manager\n",
      "INFO  : Executing command(queryId=hive_20190514103636_a79a999a-36b9-4654-a564-a92751ac8346): ALTER TABLE avrodatacleanexternal ADD COLUMNS (mynewcolumn STRING)\n",
      "INFO  : Starting task [Stage-0:DDL] in serial mode\n",
      "INFO  : Completed executing command(queryId=hive_20190514103636_a79a999a-36b9-4654-a564-a92751ac8346); Time taken: 0.118 seconds\n",
      "INFO  : OK\n",
      "No rows affected (0.223 seconds)\n",
      "0: jdbc:hive2://localhost:10000/bioinformatic> \n",
      "Closing: 0: jdbc:hive2://localhost:10000/bioinformatica\n"
     ]
    }
   ],
   "source": [
    "! beeline -u \"jdbc:hive2://localhost:10000/bioinformatica\" -f avrohive.hql"
   ]
  },
  {
   "cell_type": "code",
   "execution_count": 43,
   "metadata": {},
   "outputs": [
    {
     "name": "stdout",
     "output_type": "stream",
     "text": [
      "2019-05-14 10:37:01,982 WARN  [main] mapreduce.TableMapReduceUtil: The hbase-prefix-tree module jar containing PrefixTreeCodec is not present.  Continuing without it.\n",
      "scan complete in 2ms\n",
      "Connecting to jdbc:hive2://localhost:10000/bioinformatica\n",
      "Connected to: Apache Hive (version 1.1.0-cdh5.7.0)\n",
      "Driver: Hive JDBC (version 1.1.0-cdh5.7.0)\n",
      "Transaction isolation: TRANSACTION_REPEATABLE_READ\n",
      "INFO  : Compiling command(queryId=hive_20190514103737_206e98e1-e8af-4035-939d-facf4013a62c): describe FORMATTED avrodatacleanexternal\n",
      "INFO  : Semantic Analysis Completed\n",
      "INFO  : Returning Hive schema: Schema(fieldSchemas:[FieldSchema(name:col_name, type:string, comment:from deserializer), FieldSchema(name:data_type, type:string, comment:from deserializer), FieldSchema(name:comment, type:string, comment:from deserializer)], properties:null)\n",
      "INFO  : Completed compiling command(queryId=hive_20190514103737_206e98e1-e8af-4035-939d-facf4013a62c); Time taken: 0.09 seconds\n",
      "INFO  : Concurrency mode is disabled, not creating a lock manager\n",
      "INFO  : Executing command(queryId=hive_20190514103737_206e98e1-e8af-4035-939d-facf4013a62c): describe FORMATTED avrodatacleanexternal\n",
      "INFO  : Starting task [Stage-0:DDL] in serial mode\n",
      "INFO  : Completed executing command(queryId=hive_20190514103737_206e98e1-e8af-4035-939d-facf4013a62c); Time taken: 0.021 seconds\n",
      "INFO  : OK\n",
      "+-------------------------------+--------------------------------------------------------------+-----------------------+--+\n",
      "|           col_name            |                          data_type                           |        comment        |\n",
      "+-------------------------------+--------------------------------------------------------------+-----------------------+--+\n",
      "| # col_name                    | data_type                                                    | comment               |\n",
      "|                               | NULL                                                         | NULL                  |\n",
      "| idref                         | string                                                       |                       |\n",
      "| ident                         | string                                                       |                       |\n",
      "| gsm19023                      | float                                                        |                       |\n",
      "| gsd19024                      | float                                                        |                       |\n",
      "| gsd19025                      | float                                                        |                       |\n",
      "| gsd19026                      | float                                                        |                       |\n",
      "| genetitle                     | string                                                       |                       |\n",
      "| genesymbol                    | string                                                       |                       |\n",
      "| geneid                        | int                                                          |                       |\n",
      "| unigenetitle                  | string                                                       |                       |\n",
      "| unigenesymbol                 | string                                                       |                       |\n",
      "| unigeneid                     | string                                                       |                       |\n",
      "| nucleotidetitle               | string                                                       |                       |\n",
      "| mynewcolumn                   | string                                                       |                       |\n",
      "|                               | NULL                                                         | NULL                  |\n",
      "| # Detailed Table Information  | NULL                                                         | NULL                  |\n",
      "| Database:                     | bioinformatica                                               | NULL                  |\n",
      "| Owner:                        | anonymous                                                    | NULL                  |\n",
      "| CreateTime:                   | Tue May 14 10:31:49 UTC 2019                                 | NULL                  |\n",
      "| LastAccessTime:               | UNKNOWN                                                      | NULL                  |\n",
      "| Protect Mode:                 | None                                                         | NULL                  |\n",
      "| Retention:                    | 0                                                            | NULL                  |\n",
      "| Location:                     | hdfs://quickstart.cloudera:8020/user/cloudera/datosavrohive  | NULL                  |\n",
      "| Table Type:                   | EXTERNAL_TABLE                                               | NULL                  |\n",
      "| Table Parameters:             | NULL                                                         | NULL                  |\n",
      "|                               | COLUMN_STATS_ACCURATE                                        | false                 |\n",
      "|                               | EXTERNAL                                                     | TRUE                  |\n",
      "|                               | last_modified_by                                             | anonymous             |\n",
      "|                               | last_modified_time                                           | 1557830213            |\n",
      "|                               | numFiles                                                     | 0                     |\n",
      "|                               | numRows                                                      | -1                    |\n",
      "|                               | rawDataSize                                                  | -1                    |\n",
      "|                               | totalSize                                                    | 0                     |\n",
      "|                               | transient_lastDdlTime                                        | 1557830213            |\n",
      "|                               | NULL                                                         | NULL                  |\n",
      "| # Storage Information         | NULL                                                         | NULL                  |\n",
      "| SerDe Library:                | org.apache.hadoop.hive.serde2.avro.AvroSerDe                 | NULL                  |\n",
      "| InputFormat:                  | org.apache.hadoop.hive.ql.io.avro.AvroContainerInputFormat   | NULL                  |\n",
      "| OutputFormat:                 | org.apache.hadoop.hive.ql.io.avro.AvroContainerOutputFormat  | NULL                  |\n",
      "| Compressed:                   | No                                                           | NULL                  |\n",
      "| Num Buckets:                  | -1                                                           | NULL                  |\n",
      "| Bucket Columns:               | []                                                           | NULL                  |\n",
      "| Sort Columns:                 | []                                                           | NULL                  |\n",
      "| Storage Desc Params:          | NULL                                                         | NULL                  |\n",
      "|                               | serialization.format                                         | 1                     |\n",
      "+-------------------------------+--------------------------------------------------------------+-----------------------+--+\n",
      "47 rows selected (0.225 seconds)\n",
      "Beeline version 1.1.0-cdh5.7.0 by Apache Hive\n",
      "Closing: 0: jdbc:hive2://localhost:10000/bioinformatica\n"
     ]
    }
   ],
   "source": [
    "! beeline -u \"jdbc:hive2://localhost:10000/bioinformatica\" -e \"describe FORMATTED avrodatacleanexternal\";"
   ]
  },
  {
   "cell_type": "code",
   "execution_count": 44,
   "metadata": {},
   "outputs": [
    {
     "name": "stdout",
     "output_type": "stream",
     "text": [
      "2019-05-14 10:39:32,696 WARN  [main] mapreduce.TableMapReduceUtil: The hbase-prefix-tree module jar containing PrefixTreeCodec is not present.  Continuing without it.\n",
      "scan complete in 3ms\n",
      "Connecting to jdbc:hive2://localhost:10000/bioinformatica\n",
      "Connected to: Apache Hive (version 1.1.0-cdh5.7.0)\n",
      "Driver: Hive JDBC (version 1.1.0-cdh5.7.0)\n",
      "Transaction isolation: TRANSACTION_REPEATABLE_READ\n",
      "INFO  : Compiling command(queryId=hive_20190514103939_f9896c81-1818-419d-988f-a019b19393a1): select mynewcolumn from avrodatacleanexternal where genetitle like '%CD3%'\n",
      "INFO  : Semantic Analysis Completed\n",
      "INFO  : Returning Hive schema: Schema(fieldSchemas:[FieldSchema(name:mynewcolumn, type:string, comment:null)], properties:null)\n",
      "INFO  : Completed compiling command(queryId=hive_20190514103939_f9896c81-1818-419d-988f-a019b19393a1); Time taken: 0.115 seconds\n",
      "INFO  : Concurrency mode is disabled, not creating a lock manager\n",
      "INFO  : Executing command(queryId=hive_20190514103939_f9896c81-1818-419d-988f-a019b19393a1): select mynewcolumn from avrodatacleanexternal where genetitle like '%CD3%'\n",
      "INFO  : Completed executing command(queryId=hive_20190514103939_f9896c81-1818-419d-988f-a019b19393a1); Time taken: 0.0 seconds\n",
      "INFO  : OK\n",
      "+--------------+--+\n",
      "| mynewcolumn  |\n",
      "+--------------+--+\n",
      "| NULL         |\n",
      "| NULL         |\n",
      "| NULL         |\n",
      "| NULL         |\n",
      "| NULL         |\n",
      "| NULL         |\n",
      "| NULL         |\n",
      "| NULL         |\n",
      "| NULL         |\n",
      "| NULL         |\n",
      "| NULL         |\n",
      "| NULL         |\n",
      "| NULL         |\n",
      "| NULL         |\n",
      "| NULL         |\n",
      "| NULL         |\n",
      "| NULL         |\n",
      "| NULL         |\n",
      "| NULL         |\n",
      "| NULL         |\n",
      "| NULL         |\n",
      "| NULL         |\n",
      "| NULL         |\n",
      "| NULL         |\n",
      "| NULL         |\n",
      "| NULL         |\n",
      "| NULL         |\n",
      "| NULL         |\n",
      "| NULL         |\n",
      "| NULL         |\n",
      "+--------------+--+\n",
      "30 rows selected (1.05 seconds)\n",
      "Beeline version 1.1.0-cdh5.7.0 by Apache Hive\n",
      "Closing: 0: jdbc:hive2://localhost:10000/bioinformatica\n"
     ]
    }
   ],
   "source": [
    "! beeline -u \"jdbc:hive2://localhost:10000/bioinformatica\" -e \"select mynewcolumn from avrodatacleanexternal where genetitle like '%CD3%';\" "
   ]
  },
  {
   "cell_type": "code",
   "execution_count": 46,
   "metadata": {},
   "outputs": [],
   "source": [
    "! hadoop fs -cp datoshive/nuevoregistro.avro /user/cloudera/datosavrohive"
   ]
  },
  {
   "cell_type": "code",
   "execution_count": 47,
   "metadata": {},
   "outputs": [
    {
     "name": "stdout",
     "output_type": "stream",
     "text": [
      "2019-05-14 10:41:20,542 WARN  [main] mapreduce.TableMapReduceUtil: The hbase-prefix-tree module jar containing PrefixTreeCodec is not present.  Continuing without it.\n",
      "scan complete in 3ms\n",
      "Connecting to jdbc:hive2://localhost:10000/bioinformatica\n",
      "Connected to: Apache Hive (version 1.1.0-cdh5.7.0)\n",
      "Driver: Hive JDBC (version 1.1.0-cdh5.7.0)\n",
      "Transaction isolation: TRANSACTION_REPEATABLE_READ\n",
      "INFO  : Compiling command(queryId=hive_20190514104141_ae1e64d6-ec35-4acb-91e0-adc88f15c4f2): select mynewcolumn from avrodatacleanexternal where genetitle like '%CD3%'\n",
      "INFO  : Semantic Analysis Completed\n",
      "INFO  : Returning Hive schema: Schema(fieldSchemas:[FieldSchema(name:mynewcolumn, type:string, comment:null)], properties:null)\n",
      "INFO  : Completed compiling command(queryId=hive_20190514104141_ae1e64d6-ec35-4acb-91e0-adc88f15c4f2); Time taken: 0.097 seconds\n",
      "INFO  : Concurrency mode is disabled, not creating a lock manager\n",
      "INFO  : Executing command(queryId=hive_20190514104141_ae1e64d6-ec35-4acb-91e0-adc88f15c4f2): select mynewcolumn from avrodatacleanexternal where genetitle like '%CD3%'\n",
      "INFO  : Completed executing command(queryId=hive_20190514104141_ae1e64d6-ec35-4acb-91e0-adc88f15c4f2); Time taken: 0.0 seconds\n",
      "INFO  : OK\n",
      "+------------------------------+--+\n",
      "|         mynewcolumn          |\n",
      "+------------------------------+--+\n",
      "| NULL                         |\n",
      "| NULL                         |\n",
      "| NULL                         |\n",
      "| NULL                         |\n",
      "| NULL                         |\n",
      "| NULL                         |\n",
      "| NULL                         |\n",
      "| NULL                         |\n",
      "| NULL                         |\n",
      "| NULL                         |\n",
      "| NULL                         |\n",
      "| NULL                         |\n",
      "| NULL                         |\n",
      "| NULL                         |\n",
      "| NULL                         |\n",
      "| NULL                         |\n",
      "| NULL                         |\n",
      "| NULL                         |\n",
      "| NULL                         |\n",
      "| NULL                         |\n",
      "| NULL                         |\n",
      "| NULL                         |\n",
      "| NULL                         |\n",
      "| NULL                         |\n",
      "| NULL                         |\n",
      "| NULL                         |\n",
      "| NULL                         |\n",
      "| NULL                         |\n",
      "| NULL                         |\n",
      "| NULL                         |\n",
      "| mynewcolumn contenidos UNED  |\n",
      "+------------------------------+--+\n",
      "31 rows selected (0.524 seconds)\n",
      "Beeline version 1.1.0-cdh5.7.0 by Apache Hive\n",
      "Closing: 0: jdbc:hive2://localhost:10000/bioinformatica\n"
     ]
    }
   ],
   "source": [
    "! beeline -u \"jdbc:hive2://localhost:10000/bioinformatica\" -e \"select mynewcolumn from avrodatacleanexternal where genetitle like '%CD3%';\" "
   ]
  },
  {
   "cell_type": "markdown",
   "metadata": {},
   "source": [
    "Añadimos un nuevo registro que sigue el esquema original sin la nueva columna."
   ]
  },
  {
   "cell_type": "code",
   "execution_count": 48,
   "metadata": {
    "collapsed": true
   },
   "outputs": [],
   "source": [
    "! hadoop fs -cp datoshive/nuevoregistro2.avro /user/cloudera/datosavrohive"
   ]
  },
  {
   "cell_type": "code",
   "execution_count": 49,
   "metadata": {},
   "outputs": [
    {
     "name": "stdout",
     "output_type": "stream",
     "text": [
      "2019-05-14 10:43:04,942 WARN  [main] mapreduce.TableMapReduceUtil: The hbase-prefix-tree module jar containing PrefixTreeCodec is not present.  Continuing without it.\n",
      "scan complete in 4ms\n",
      "Connecting to jdbc:hive2://localhost:10000/bioinformatica\n",
      "Connected to: Apache Hive (version 1.1.0-cdh5.7.0)\n",
      "Driver: Hive JDBC (version 1.1.0-cdh5.7.0)\n",
      "Transaction isolation: TRANSACTION_REPEATABLE_READ\n",
      "INFO  : Compiling command(queryId=hive_20190514104343_b6e49a83-c569-4796-a269-5d0371b2f005): select mynewcolumn from avrodatacleanexternal where genetitle like '%CD3%'\n",
      "INFO  : Semantic Analysis Completed\n",
      "INFO  : Returning Hive schema: Schema(fieldSchemas:[FieldSchema(name:mynewcolumn, type:string, comment:null)], properties:null)\n",
      "INFO  : Completed compiling command(queryId=hive_20190514104343_b6e49a83-c569-4796-a269-5d0371b2f005); Time taken: 0.082 seconds\n",
      "INFO  : Concurrency mode is disabled, not creating a lock manager\n",
      "INFO  : Executing command(queryId=hive_20190514104343_b6e49a83-c569-4796-a269-5d0371b2f005): select mynewcolumn from avrodatacleanexternal where genetitle like '%CD3%'\n",
      "INFO  : Completed executing command(queryId=hive_20190514104343_b6e49a83-c569-4796-a269-5d0371b2f005); Time taken: 0.001 seconds\n",
      "INFO  : OK\n",
      "+------------------------------+--+\n",
      "|         mynewcolumn          |\n",
      "+------------------------------+--+\n",
      "| NULL                         |\n",
      "| NULL                         |\n",
      "| NULL                         |\n",
      "| NULL                         |\n",
      "| NULL                         |\n",
      "| NULL                         |\n",
      "| NULL                         |\n",
      "| NULL                         |\n",
      "| NULL                         |\n",
      "| NULL                         |\n",
      "| NULL                         |\n",
      "| NULL                         |\n",
      "| NULL                         |\n",
      "| NULL                         |\n",
      "| NULL                         |\n",
      "| NULL                         |\n",
      "| NULL                         |\n",
      "| NULL                         |\n",
      "| NULL                         |\n",
      "| NULL                         |\n",
      "| NULL                         |\n",
      "| NULL                         |\n",
      "| NULL                         |\n",
      "| NULL                         |\n",
      "| NULL                         |\n",
      "| NULL                         |\n",
      "| NULL                         |\n",
      "| NULL                         |\n",
      "| NULL                         |\n",
      "| NULL                         |\n",
      "| mynewcolumn contenidos UNED  |\n",
      "| NULL                         |\n",
      "+------------------------------+--+\n",
      "32 rows selected (0.547 seconds)\n",
      "Beeline version 1.1.0-cdh5.7.0 by Apache Hive\n",
      "Closing: 0: jdbc:hive2://localhost:10000/bioinformatica\n"
     ]
    }
   ],
   "source": [
    "! beeline -u \"jdbc:hive2://localhost:10000/bioinformatica\" -e \"select mynewcolumn from avrodatacleanexternal where genetitle like '%CD3%';\" "
   ]
  },
  {
   "cell_type": "markdown",
   "metadata": {},
   "source": [
    "## Herramientas para trabajar con Avro"
   ]
  },
  {
   "cell_type": "code",
   "execution_count": 51,
   "metadata": {},
   "outputs": [
    {
     "name": "stdout",
     "output_type": "stream",
     "text": [
      "Version 1.7.6-cdh5.7.0 of Apache Avro\r\n",
      "Copyright 2010 The Apache Software Foundation\r\n",
      "\r\n",
      "This product includes software developed at\r\n",
      "The Apache Software Foundation (http://www.apache.org/).\r\n",
      "\r\n",
      "C JSON parsing provided by Jansson and\r\n",
      "written by Petri Lehtinen. The original software is\r\n",
      "available from http://www.digip.org/jansson/.\r\n",
      "----------------\r\n",
      "Available tools:\r\n",
      "          cat  extracts samples from files\r\n",
      "      compile  Generates Java code for the given schema.\r\n",
      "       concat  Concatenates avro files without re-compressing.\r\n",
      "   fragtojson  Renders a binary-encoded Avro datum as JSON.\r\n",
      "     fromjson  Reads JSON records and writes an Avro data file.\r\n",
      "     fromtext  Imports a text file into an avro data file.\r\n",
      "      getmeta  Prints out the metadata of an Avro data file.\r\n",
      "    getschema  Prints out schema of an Avro data file.\r\n",
      "          idl  Generates a JSON schema from an Avro IDL file\r\n",
      " idl2schemata  Extract JSON schemata of the types from an Avro IDL file\r\n",
      "       induce  Induce schema/protocol from Java class/interface via reflection.\r\n",
      "   jsontofrag  Renders a JSON-encoded Avro datum as binary.\r\n",
      "       random  Creates a file with randomly generated instances of a schema.\r\n",
      "      recodec  Alters the codec of a data file.\r\n",
      "       repair  Recovers data from a corrupt Avro Data file\r\n",
      "  rpcprotocol  Output the protocol of a RPC service\r\n",
      "   rpcreceive  Opens an RPC Server and listens for one message.\r\n",
      "      rpcsend  Sends a single RPC message.\r\n",
      "       tether  Run a tethered mapreduce job.\r\n",
      "       tojson  Dumps an Avro data file as JSON, record per line or pretty.\r\n",
      "       totext  Converts an Avro data file to a text file.\r\n",
      "     totrevni  Converts an Avro data file to a Trevni file.\r\n",
      "  trevni_meta  Dumps a Trevni file's metadata as JSON.\r\n",
      "trevni_random  Create a Trevni file filled with random instances of a schema.\r\n",
      "trevni_tojson  Dumps a Trevni file as JSON.\r\n"
     ]
    }
   ],
   "source": [
    "! java -jar /usr/lib/avro/avro-tools-1.7.6-cdh5.7.0.jar"
   ]
  },
  {
   "cell_type": "markdown",
   "metadata": {},
   "source": [
    "## Ejercicio propuesto: Insertar datos de una tabla existente. \n",
    "\n",
    "Ahora vamos a repetir los mismos pasos pero ahora insertaremos en la tabla basada en avro los datos de una de las tablas existentes. Se trata de la tabla datacleaninternal, que no está codificada como avro. Comprobar que la cuenta de elementos de la tabla original (desde la que exportamos datos a avro) es la misma que en la tabla avro recién creada."
   ]
  },
  {
   "cell_type": "code",
   "execution_count": 52,
   "metadata": {},
   "outputs": [
    {
     "name": "stdout",
     "output_type": "stream",
     "text": [
      "Overwriting avrohive.hql\n"
     ]
    }
   ],
   "source": [
    "%%writefile avrohive.hql\n",
    "\n",
    "create  table avroB_datacleaninternal (\n",
    "  idref  STRING,   \n",
    "  ident  STRING,\n",
    "  gsm19023 FLOAT,  \n",
    "  gsd19024 FLOAT, \n",
    "  gsd19025 FLOAT,    \n",
    "  gsd19026 FLOAT, \n",
    "  genetitle STRING,   \n",
    "  genesymbol STRING,\n",
    "  geneID SMALLINT,    \n",
    "  uniGenetitle STRING,\n",
    "  uniGenesymbol STRING,   \n",
    "  uniGeneID STRING,\n",
    "  NucleotideTitle STRING) \n",
    "STORED AS AVRO;"
   ]
  },
  {
   "cell_type": "code",
   "execution_count": 53,
   "metadata": {
    "scrolled": true
   },
   "outputs": [
    {
     "name": "stdout",
     "output_type": "stream",
     "text": [
      "2019-05-14 10:47:05,522 WARN  [main] mapreduce.TableMapReduceUtil: The hbase-prefix-tree module jar containing PrefixTreeCodec is not present.  Continuing without it.\n",
      "scan complete in 3ms\n",
      "Connecting to jdbc:hive2://localhost:10000/bioinformatica\n",
      "Connected to: Apache Hive (version 1.1.0-cdh5.7.0)\n",
      "Driver: Hive JDBC (version 1.1.0-cdh5.7.0)\n",
      "Transaction isolation: TRANSACTION_REPEATABLE_READ\n",
      "0: jdbc:hive2://localhost:10000/bioinformatic> \n",
      "rnal (c:hive2://localhost:10000/bioinformatic> create  table avroB_datacleaninte \n",
      "0: jdbc:hive2://localhost:10000/bioinformatic>   idref  STRING,   \n",
      "0: jdbc:hive2://localhost:10000/bioinformatic>   ident  STRING,\n",
      "0: jdbc:hive2://localhost:10000/bioinformatic>   gsm19023 FLOAT,  \n",
      "0: jdbc:hive2://localhost:10000/bioinformatic>   gsd19024 FLOAT, \n",
      "0: jdbc:hive2://localhost:10000/bioinformatic>   gsd19025 FLOAT,    \n",
      "0: jdbc:hive2://localhost:10000/bioinformatic>   gsd19026 FLOAT, \n",
      "0: jdbc:hive2://localhost:10000/bioinformatic>   genetitle STRING,   \n",
      "0: jdbc:hive2://localhost:10000/bioinformatic>   genesymbol STRING,\n",
      "0: jdbc:hive2://localhost:10000/bioinformatic>   geneID SMALLINT,    \n",
      "0: jdbc:hive2://localhost:10000/bioinformatic>   uniGenetitle STRING,\n",
      "0: jdbc:hive2://localhost:10000/bioinformatic>   uniGenesymbol STRING,   \n",
      "0: jdbc:hive2://localhost:10000/bioinformatic>   uniGeneID STRING,\n",
      "0: jdbc:hive2://localhost:10000/bioinformatic>   NucleotideTitle STRING) \n",
      "0: jdbc:hive2://localhost:10000/bioinformatic> STORED AS AVRO;\n",
      "INFO  : Compiling command(queryId=hive_20190514104747_a5a2cbb3-be3d-4c0d-94aa-d247f1425c93): create  table avroB_datacleaninternal (\n",
      "  idref  STRING,   \n",
      "  ident  STRING,\n",
      "  gsm19023 FLOAT,  \n",
      "  gsd19024 FLOAT, \n",
      "  gsd19025 FLOAT,    \n",
      "  gsd19026 FLOAT, \n",
      "  genetitle STRING,   \n",
      "  genesymbol STRING,\n",
      "  geneID SMALLINT,    \n",
      "  uniGenetitle STRING,\n",
      "  uniGenesymbol STRING,   \n",
      "  uniGeneID STRING,\n",
      "  NucleotideTitle STRING) \n",
      "STORED AS AVRO\n",
      "INFO  : Semantic Analysis Completed\n",
      "INFO  : Returning Hive schema: Schema(fieldSchemas:null, properties:null)\n",
      "INFO  : Completed compiling command(queryId=hive_20190514104747_a5a2cbb3-be3d-4c0d-94aa-d247f1425c93); Time taken: 0.043 seconds\n",
      "INFO  : Concurrency mode is disabled, not creating a lock manager\n",
      "INFO  : Executing command(queryId=hive_20190514104747_a5a2cbb3-be3d-4c0d-94aa-d247f1425c93): create  table avroB_datacleaninternal (\n",
      "  idref  STRING,   \n",
      "  ident  STRING,\n",
      "  gsm19023 FLOAT,  \n",
      "  gsd19024 FLOAT, \n",
      "  gsd19025 FLOAT,    \n",
      "  gsd19026 FLOAT, \n",
      "  genetitle STRING,   \n",
      "  genesymbol STRING,\n",
      "  geneID SMALLINT,    \n",
      "  uniGenetitle STRING,\n",
      "  uniGenesymbol STRING,   \n",
      "  uniGeneID STRING,\n",
      "  NucleotideTitle STRING) \n",
      "STORED AS AVRO\n",
      "INFO  : Starting task [Stage-0:DDL] in serial mode\n",
      "INFO  : Completed executing command(queryId=hive_20190514104747_a5a2cbb3-be3d-4c0d-94aa-d247f1425c93); Time taken: 0.062 seconds\n",
      "INFO  : OK\n",
      "No rows affected (0.197 seconds)\n",
      "0: jdbc:hive2://localhost:10000/bioinformatic> \n",
      "Closing: 0: jdbc:hive2://localhost:10000/bioinformatica\n"
     ]
    }
   ],
   "source": [
    "! beeline -u \"jdbc:hive2://localhost:10000/bioinformatica\" -f avrohive.hql"
   ]
  },
  {
   "cell_type": "code",
   "execution_count": 1,
   "metadata": {
    "scrolled": true
   },
   "outputs": [],
   "source": [
    "# Orden para insertar en la tabla creada arriba los registros de  \n",
    "# la tabla datacleaninternal, que ya existe en Hive."
   ]
  }
 ],
 "metadata": {
  "kernelspec": {
   "display_name": "Python 3",
   "language": "python",
   "name": "python3"
  },
  "language_info": {
   "codemirror_mode": {
    "name": "ipython",
    "version": 3
   },
   "file_extension": ".py",
   "mimetype": "text/x-python",
   "name": "python",
   "nbconvert_exporter": "python",
   "pygments_lexer": "ipython3",
   "version": "3.7.5"
  }
 },
 "nbformat": 4,
 "nbformat_minor": 2
}

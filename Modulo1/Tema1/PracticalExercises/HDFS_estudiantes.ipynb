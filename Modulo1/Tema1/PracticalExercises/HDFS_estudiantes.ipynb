{
 "cells": [
  {
   "cell_type": "markdown",
   "metadata": {},
   "source": [
    "# Ejemplo de HDFS"
   ]
  },
  {
   "cell_type": "markdown",
   "metadata": {},
   "source": [
    "### En primer lugar creamos un directorio donde almacenar los ficheros localmente"
   ]
  },
  {
   "cell_type": "code",
   "execution_count": 7,
   "metadata": {},
   "outputs": [],
   "source": [
    "! mkdir -p hdfs"
   ]
  },
  {
   "cell_type": "code",
   "execution_count": 8,
   "metadata": {},
   "outputs": [],
   "source": [
    "import os\n",
    "os.chdir(\"/media/notebooks/hdfs\")"
   ]
  },
  {
   "cell_type": "code",
   "execution_count": 9,
   "metadata": {},
   "outputs": [
    {
     "name": "stdout",
     "output_type": "stream",
     "text": [
      "/media/notebooks/hdfs\r\n"
     ]
    }
   ],
   "source": [
    "! pwd"
   ]
  },
  {
   "cell_type": "markdown",
   "metadata": {},
   "source": [
    "### Descargamos un fichero de prueba localmente. Se trata del fichero marktwain.txt que debemos dejar en /media/notebooks"
   ]
  },
  {
   "cell_type": "markdown",
   "metadata": {},
   "source": [
    "### Comenzamos a trabajar con HDFS"
   ]
  },
  {
   "cell_type": "markdown",
   "metadata": {},
   "source": [
    "#### Creamos carpeta "
   ]
  },
  {
   "cell_type": "code",
   "execution_count": 26,
   "metadata": {},
   "outputs": [
    {
     "name": "stdout",
     "output_type": "stream",
     "text": [
      "mkdir: `/tmp/carpeta': File exists\r\n"
     ]
    }
   ],
   "source": [
    "! hdfs dfs -mkdir /tmp/carpeta"
   ]
  },
  {
   "cell_type": "markdown",
   "metadata": {},
   "source": [
    "#### Subimos el fichero de prueba desde local a HDFS"
   ]
  },
  {
   "cell_type": "code",
   "execution_count": 27,
   "metadata": {},
   "outputs": [
    {
     "name": "stdout",
     "output_type": "stream",
     "text": [
      "put: `/tmp/carpeta/marktwain.txt': File exists\r\n"
     ]
    }
   ],
   "source": [
    "! hdfs dfs -put  /media/notebooks/marktwain.txt /tmp/carpeta"
   ]
  },
  {
   "cell_type": "markdown",
   "metadata": {},
   "source": [
    "#### Mostramos el contenido de la carpeta. El número tras los permisos indica el número de réplicas de los bloques de este fichero"
   ]
  },
  {
   "cell_type": "code",
   "execution_count": 28,
   "metadata": {},
   "outputs": [
    {
     "name": "stdout",
     "output_type": "stream",
     "text": [
      "Found 1 items\r\n",
      "-rw-r--r--   3 root supergroup     15.0 M 2019-07-10 12:13 /tmp/carpeta/marktwain.txt\r\n"
     ]
    }
   ],
   "source": [
    "! hdfs dfs -ls -h /tmp/carpeta"
   ]
  },
  {
   "cell_type": "markdown",
   "metadata": {},
   "source": [
    "#### Mostramos el contenido del fichero"
   ]
  },
  {
   "cell_type": "code",
   "execution_count": 29,
   "metadata": {},
   "outputs": [
    {
     "name": "stdout",
     "output_type": "stream",
     "text": [
      ", please visit: http://pglaf.org/donate\r\n",
      "\r\n",
      "\r\n",
      "Section 5.  General Information About Project Gutenberg-tm electronic\r\n",
      "works.\r\n",
      "\r\n",
      "Professor Michael S. Hart is the originator of the Project Gutenberg-tm\r\n",
      "concept of a library of electronic works that could be freely shared\r\n",
      "with anyone.  For thirty years, he produced and distributed Project\r\n",
      "Gutenberg-tm eBooks with only a loose network of volunteer support.\r\n",
      "\r\n",
      "\r\n",
      "Project Gutenberg-tm eBooks are often created from several printed\r\n",
      "editions, all of which are confirmed as Public Domain in the U.S.\r\n",
      "unless a copyright notice is included.  Thus, we do not necessarily\r\n",
      "keep eBooks in compliance with any particular paper edition.\r\n",
      "\r\n",
      "\r\n",
      "Most people start at our Web site which has the main PG search facility:\r\n",
      "\r\n",
      "     http://www.gutenberg.net\r\n",
      "\r\n",
      "This Web site includes information about Project Gutenberg-tm,\r\n",
      "including how to make donations to the Project Gutenberg Literary\r\n",
      "Archive Foundation, how to help produce our new eBooks, and how to\r\n",
      "subscribe to our email newsletter to hear about new eBooks.\r\n"
     ]
    }
   ],
   "source": [
    "! hdfs dfs -tail  /tmp/carpeta/marktwain.txt"
   ]
  },
  {
   "cell_type": "markdown",
   "metadata": {},
   "source": [
    "#### ¿Cuánto espacio ocupan los ficheros contenidos en la carpeta? Estructura: tamaño, tamaño de todas las réplicas, fichero"
   ]
  },
  {
   "cell_type": "code",
   "execution_count": 30,
   "metadata": {},
   "outputs": [
    {
     "name": "stdout",
     "output_type": "stream",
     "text": [
      "15.0 M  45.0 M  /tmp/carpeta/marktwain.txt\r\n"
     ]
    }
   ],
   "source": [
    "! hdfs dfs -du -h /tmp/carpeta"
   ]
  },
  {
   "cell_type": "markdown",
   "metadata": {},
   "source": [
    "#### Creamos un duplicado de la carpeta"
   ]
  },
  {
   "cell_type": "code",
   "execution_count": 31,
   "metadata": {},
   "outputs": [],
   "source": [
    "! hdfs dfs -cp /tmp/carpeta /tmp/carpeta2"
   ]
  },
  {
   "cell_type": "code",
   "execution_count": 32,
   "metadata": {},
   "outputs": [
    {
     "name": "stdout",
     "output_type": "stream",
     "text": [
      "Found 1 items\n",
      "-rw-r--r--   3 root supergroup   15711663 2019-07-10 15:26 /tmp/carpeta2/marktwain.txt\n"
     ]
    }
   ],
   "source": [
    "! hdfs dfs -ls /tmp/carpeta2"
   ]
  },
  {
   "cell_type": "markdown",
   "metadata": {},
   "source": [
    "#### Descargamos un fichero desde HDFS a local"
   ]
  },
  {
   "cell_type": "code",
   "execution_count": 33,
   "metadata": {},
   "outputs": [
    {
     "name": "stdout",
     "output_type": "stream",
     "text": [
      "get: `./descargado.txt': File exists\r\n"
     ]
    }
   ],
   "source": [
    "! hdfs dfs -get /tmp/carpeta2/marktwain.txt ./descargado.txt"
   ]
  },
  {
   "cell_type": "code",
   "execution_count": 19,
   "metadata": {},
   "outputs": [
    {
     "name": "stdout",
     "output_type": "stream",
     "text": [
      "-rwxrwxrwx 1 root root 15M Apr 22 15:42 ./descargado.txt\r\n"
     ]
    }
   ],
   "source": [
    "! ls -lh ./descargado.txt"
   ]
  },
  {
   "cell_type": "markdown",
   "metadata": {},
   "source": [
    "#### Encuentra los archivos cuyo nombre comience por mark en el directorio /tmp y sus subdirectorios"
   ]
  },
  {
   "cell_type": "code",
   "execution_count": 34,
   "metadata": {},
   "outputs": [
    {
     "name": "stdout",
     "output_type": "stream",
     "text": [
      "/tmp/carpeta/marktwain.txt\n",
      "/tmp/carpeta2/marktwain.txt\n"
     ]
    }
   ],
   "source": [
    "! hdfs dfs -find /tmp -name mark*"
   ]
  },
  {
   "cell_type": "markdown",
   "metadata": {},
   "source": [
    "#### Elimina el fichero /tmp/carpeta2/marktwain.txt"
   ]
  },
  {
   "cell_type": "code",
   "execution_count": 35,
   "metadata": {},
   "outputs": [
    {
     "name": "stdout",
     "output_type": "stream",
     "text": [
      "Deleted /tmp/carpeta2/marktwain.txt\r\n"
     ]
    }
   ],
   "source": [
    "! hdfs dfs -rm /tmp/carpeta2/marktwain.txt"
   ]
  },
  {
   "cell_type": "markdown",
   "metadata": {},
   "source": [
    "#### Elimina la carpeta2"
   ]
  },
  {
   "cell_type": "code",
   "execution_count": 37,
   "metadata": {},
   "outputs": [
    {
     "name": "stdout",
     "output_type": "stream",
     "text": [
      "rmdir: `/tmp/carpeta2': No such file or directory\r\n"
     ]
    }
   ],
   "source": [
    "! hdfs dfs -rmdir /tmp/carpeta2"
   ]
  },
  {
   "cell_type": "code",
   "execution_count": 38,
   "metadata": {},
   "outputs": [
    {
     "name": "stdout",
     "output_type": "stream",
     "text": [
      "Found 8 items\r\n",
      "drwxr-xr-x   - root supergroup          0 2019-07-10 12:13 /tmp/carpeta\r\n",
      "drwxrwx---   - root supergroup          0 2019-07-10 10:44 /tmp/hadoop-yarn\r\n",
      "drwxr-xr-x   - root supergroup          0 2019-07-10 15:01 /tmp/salida-wordcount\r\n",
      "drwxr-xr-x   - root supergroup          0 2019-07-10 14:47 /tmp/salida-wordcount2\r\n",
      "drwxr-xr-x   - root supergroup          0 2019-07-10 14:57 /tmp/salida-wordcountmap\r\n",
      "drwxr-xr-x   - root supergroup          0 2019-07-10 12:20 /tmp/salida-wordcountmap2\r\n",
      "drwxr-xr-x   - root supergroup          0 2019-07-10 12:21 /tmp/salida-wordcountmap3\r\n",
      "drwxr-xr-x   - root supergroup          0 2019-07-10 14:46 /tmp/salida-wordcountmap4\r\n"
     ]
    }
   ],
   "source": [
    "! hdfs dfs -ls /tmp"
   ]
  },
  {
   "cell_type": "markdown",
   "metadata": {},
   "source": [
    "#### Ayuda de HDFS"
   ]
  },
  {
   "cell_type": "code",
   "execution_count": 39,
   "metadata": {},
   "outputs": [
    {
     "name": "stdout",
     "output_type": "stream",
     "text": [
      "Usage: hadoop fs [generic options]\r\n",
      "\t[-appendToFile <localsrc> ... <dst>]\r\n",
      "\t[-cat [-ignoreCrc] <src> ...]\r\n",
      "\t[-checksum <src> ...]\r\n",
      "\t[-chgrp [-R] GROUP PATH...]\r\n",
      "\t[-chmod [-R] <MODE[,MODE]... | OCTALMODE> PATH...]\r\n",
      "\t[-chown [-R] [OWNER][:[GROUP]] PATH...]\r\n",
      "\t[-copyFromLocal [-f] [-p] [-l] <localsrc> ... <dst>]\r\n",
      "\t[-copyToLocal [-p] [-ignoreCrc] [-crc] <src> ... <localdst>]\r\n",
      "\t[-count [-q] [-h] [-v] <path> ...]\r\n",
      "\t[-cp [-f] [-p | -p[topax]] <src> ... <dst>]\r\n",
      "\t[-createSnapshot <snapshotDir> [<snapshotName>]]\r\n",
      "\t[-deleteSnapshot <snapshotDir> <snapshotName>]\r\n",
      "\t[-df [-h] [<path> ...]]\r\n",
      "\t[-du [-s] [-h] <path> ...]\r\n",
      "\t[-expunge]\r\n",
      "\t[-find <path> ... <expression> ...]\r\n",
      "\t[-get [-p] [-ignoreCrc] [-crc] <src> ... <localdst>]\r\n",
      "\t[-getfacl [-R] <path>]\r\n",
      "\t[-getfattr [-R] {-n name | -d} [-e en] <path>]\r\n",
      "\t[-getmerge [-nl] <src> <localdst>]\r\n",
      "\t[-help [cmd ...]]\r\n",
      "\t[-ls [-C] [-d] [-h] [-q] [-R] [-t] [-S] [-r] [-u] [<path> ...]]\r\n",
      "\t[-mkdir [-p] <path> ...]\r\n",
      "\t[-moveFromLocal <localsrc> ... <dst>]\r\n",
      "\t[-moveToLocal <src> <localdst>]\r\n",
      "\t[-mv <src> ... <dst>]\r\n",
      "\t[-put [-f] [-p] [-l] <localsrc> ... <dst>]\r\n",
      "\t[-renameSnapshot <snapshotDir> <oldName> <newName>]\r\n",
      "\t[-rm [-f] [-r|-R] [-skipTrash] <src> ...]\r\n",
      "\t[-rmdir [--ignore-fail-on-non-empty] <dir> ...]\r\n",
      "\t[-setfacl [-R] [{-b|-k} {-m|-x <acl_spec>} <path>]|[--set <acl_spec> <path>]]\r\n",
      "\t[-setfattr {-n name [-v value] | -x name} <path>]\r\n",
      "\t[-setrep [-R] [-w] <rep> <path> ...]\r\n",
      "\t[-stat [format] <path> ...]\r\n",
      "\t[-tail [-f] <file>]\r\n",
      "\t[-test -[defsz] <path>]\r\n",
      "\t[-text [-ignoreCrc] <src> ...]\r\n",
      "\t[-touchz <path> ...]\r\n",
      "\t[-usage [cmd ...]]\r\n",
      "\r\n",
      "-appendToFile <localsrc> ... <dst> :\r\n",
      "  Appends the contents of all the given local files to the given dst file. The dst\r\n",
      "  file will be created if it does not exist. If <localSrc> is -, then the input is\r\n",
      "  read from stdin.\r\n",
      "\r\n",
      "-cat [-ignoreCrc] <src> ... :\r\n",
      "  Fetch all files that match the file pattern <src> and display their content on\r\n",
      "  stdout.\r\n",
      "\r\n",
      "-checksum <src> ... :\r\n",
      "  Dump checksum information for files that match the file pattern <src> to stdout.\r\n",
      "  Note that this requires a round-trip to a datanode storing each block of the\r\n",
      "  file, and thus is not efficient to run on a large number of files. The checksum\r\n",
      "  of a file depends on its content, block size and the checksum algorithm and\r\n",
      "  parameters used for creating the file.\r\n",
      "\r\n",
      "-chgrp [-R] GROUP PATH... :\r\n",
      "  This is equivalent to -chown ... :GROUP ...\r\n",
      "\r\n",
      "-chmod [-R] <MODE[,MODE]... | OCTALMODE> PATH... :\r\n",
      "  Changes permissions of a file. This works similar to the shell's chmod command\r\n",
      "  with a few exceptions.\r\n",
      "                                                                                 \r\n",
      "  -R           modifies the files recursively. This is the only option currently \r\n",
      "               supported.                                                        \r\n",
      "  <MODE>       Mode is the same as mode used for the shell's command. The only   \r\n",
      "               letters recognized are 'rwxXt', e.g. +t,a+r,g-w,+rwx,o=r.         \r\n",
      "  <OCTALMODE>  Mode specifed in 3 or 4 digits. If 4 digits, the first may be 1 or\r\n",
      "               0 to turn the sticky bit on or off, respectively.  Unlike the     \r\n",
      "               shell command, it is not possible to specify only part of the     \r\n",
      "               mode, e.g. 754 is same as u=rwx,g=rx,o=r.                         \r\n",
      "  \r\n",
      "  If none of 'augo' is specified, 'a' is assumed and unlike the shell command, no\r\n",
      "  umask is applied.\r\n",
      "\r\n",
      "-chown [-R] [OWNER][:[GROUP]] PATH... :\r\n",
      "  Changes owner and group of a file. This is similar to the shell's chown command\r\n",
      "  with a few exceptions.\r\n",
      "                                                                                 \r\n",
      "  -R  modifies the files recursively. This is the only option currently          \r\n",
      "      supported.                                                                 \r\n",
      "  \r\n",
      "  If only the owner or group is specified, then only the owner or group is\r\n",
      "  modified. The owner and group names may only consist of digits, alphabet, and\r\n",
      "  any of [-_./@a-zA-Z0-9]. The names are case sensitive.\r\n",
      "  \r\n",
      "  WARNING: Avoid using '.' to separate user name and group though Linux allows it.\r\n",
      "  If user names have dots in them and you are using local file system, you might\r\n",
      "  see surprising results since the shell command 'chown' is used for local files.\r\n",
      "\r\n",
      "-copyFromLocal [-f] [-p] [-l] <localsrc> ... <dst> :\r\n",
      "  Identical to the -put command.\r\n",
      "\r\n",
      "-copyToLocal [-p] [-ignoreCrc] [-crc] <src> ... <localdst> :\r\n",
      "  Identical to the -get command.\r\n",
      "\r\n",
      "-count [-q] [-h] [-v] <path> ... :\r\n",
      "  Count the number of directories, files and bytes under the paths\r\n",
      "  that match the specified file pattern.  The output columns are:\r\n",
      "  DIR_COUNT FILE_COUNT CONTENT_SIZE PATHNAME\r\n",
      "  or, with the -q option:\r\n",
      "  QUOTA REM_QUOTA SPACE_QUOTA REM_SPACE_QUOTA\r\n",
      "        DIR_COUNT FILE_COUNT CONTENT_SIZE PATHNAME\r\n",
      "  The -h option shows file sizes in human readable format.\r\n",
      "  The -v option displays a header line.\r\n",
      "\r\n",
      "-cp [-f] [-p | -p[topax]] <src> ... <dst> :\r\n",
      "  Copy files that match the file pattern <src> to a destination.  When copying\r\n",
      "  multiple files, the destination must be a directory. Passing -p preserves status\r\n",
      "  [topax] (timestamps, ownership, permission, ACLs, XAttr). If -p is specified\r\n",
      "  with no <arg>, then preserves timestamps, ownership, permission. If -pa is\r\n",
      "  specified, then preserves permission also because ACL is a super-set of\r\n",
      "  permission. Passing -f overwrites the destination if it already exists. raw\r\n",
      "  namespace extended attributes are preserved if (1) they are supported (HDFS\r\n",
      "  only) and, (2) all of the source and target pathnames are in the /.reserved/raw\r\n",
      "  hierarchy. raw namespace xattr preservation is determined solely by the presence\r\n",
      "  (or absence) of the /.reserved/raw prefix and not by the -p option.\r\n",
      "\r\n",
      "-createSnapshot <snapshotDir> [<snapshotName>] :\r\n",
      "  Create a snapshot on a directory\r\n",
      "\r\n",
      "-deleteSnapshot <snapshotDir> <snapshotName> :\r\n",
      "  Delete a snapshot from a directory\r\n",
      "\r\n",
      "-df [-h] [<path> ...] :\r\n",
      "  Shows the capacity, free and used space of the filesystem. If the filesystem has\r\n",
      "  multiple partitions, and no path to a particular partition is specified, then\r\n",
      "  the status of the root partitions will be shown.\r\n",
      "                                                                                 \r\n",
      "  -h  Formats the sizes of files in a human-readable fashion rather than a number\r\n",
      "      of bytes.                                                                  \r\n",
      "\r\n",
      "-du [-s] [-h] <path> ... :\r\n",
      "  Show the amount of space, in bytes, used by the files that match the specified\r\n",
      "  file pattern. The following flags are optional:\r\n",
      "                                                                                 \r\n",
      "  -s  Rather than showing the size of each individual file that matches the      \r\n",
      "      pattern, shows the total (summary) size.                                   \r\n",
      "  -h  Formats the sizes of files in a human-readable fashion rather than a number\r\n",
      "      of bytes.                                                                  \r\n",
      "  \r\n",
      "  Note that, even without the -s option, this only shows size summaries one level\r\n",
      "  deep into a directory.\r\n",
      "  \r\n",
      "  The output is in the form \r\n",
      "  \tsize\tdisk space consumed\tname(full path)\r\n",
      "\r\n",
      "-expunge :\r\n",
      "  Empty the Trash\r\n",
      "\r\n",
      "-find <path> ... <expression> ... :\r\n",
      "  Finds all files that match the specified expression and\r\n",
      "  applies selected actions to them. If no <path> is specified\r\n",
      "  then defaults to the current working directory. If no\r\n",
      "  expression is specified then defaults to -print.\r\n",
      "  \r\n",
      "  The following primary expressions are recognised:\r\n",
      "    -name pattern\r\n",
      "    -iname pattern\r\n",
      "      Evaluates as true if the basename of the file matches the\r\n",
      "      pattern using standard file system globbing.\r\n",
      "      If -iname is used then the match is case insensitive.\r\n",
      "  \r\n",
      "    -print\r\n",
      "    -print0\r\n",
      "      Always evaluates to true. Causes the current pathname to be\r\n",
      "      written to standard output followed by a newline. If the -print0\r\n",
      "      expression is used then an ASCII NULL character is appended rather\r\n",
      "      than a newline.\r\n",
      "  \r\n",
      "  The following operators are recognised:\r\n",
      "    expression -a expression\r\n",
      "    expression -and expression\r\n",
      "    expression expression\r\n",
      "      Logical AND operator for joining two expressions. Returns\r\n",
      "      true if both child expressions return true. Implied by the\r\n",
      "      juxtaposition of two expressions and so does not need to be\r\n",
      "      explicitly specified. The second expression will not be\r\n",
      "      applied if the first fails.\r\n",
      "\r\n",
      "-get [-p] [-ignoreCrc] [-crc] <src> ... <localdst> :\r\n",
      "  Copy files that match the file pattern <src> to the local name.  <src> is kept. \r\n",
      "  When copying multiple files, the destination must be a directory. Passing -p\r\n",
      "  preserves access and modification times, ownership and the mode.\r\n",
      "\r\n",
      "-getfacl [-R] <path> :\r\n",
      "  Displays the Access Control Lists (ACLs) of files and directories. If a\r\n",
      "  directory has a default ACL, then getfacl also displays the default ACL.\r\n",
      "                                                                  \r\n",
      "  -R      List the ACLs of all files and directories recursively. \r\n",
      "  <path>  File or directory to list.                              \r\n",
      "\r\n",
      "-getfattr [-R] {-n name | -d} [-e en] <path> :\r\n",
      "  Displays the extended attribute names and values (if any) for a file or\r\n",
      "  directory.\r\n",
      "                                                                                 \r\n",
      "  -R             Recursively list the attributes for all files and directories.  \r\n",
      "  -n name        Dump the named extended attribute value.                        \r\n",
      "  -d             Dump all extended attribute values associated with pathname.    \r\n",
      "  -e <encoding>  Encode values after retrieving them.Valid encodings are \"text\", \r\n",
      "                 \"hex\", and \"base64\". Values encoded as text strings are enclosed\r\n",
      "                 in double quotes (\"), and values encoded as hexadecimal and     \r\n",
      "                 base64 are prefixed with 0x and 0s, respectively.               \r\n",
      "  <path>         The file or directory.                                          \r\n",
      "\r\n",
      "-getmerge [-nl] <src> <localdst> :\r\n",
      "  Get all the files in the directories that match the source file pattern and\r\n",
      "  merge and sort them to only one file on local fs. <src> is kept.\r\n",
      "                                                        \r\n",
      "  -nl  Add a newline character at the end of each file. \r\n",
      "\r\n",
      "-help [cmd ...] :\r\n",
      "  Displays help for given command or all commands if none is specified.\r\n",
      "\r\n",
      "-ls [-C] [-d] [-h] [-q] [-R] [-t] [-S] [-r] [-u] [<path> ...] :\r\n",
      "  List the contents that match the specified file pattern. If path is not\r\n",
      "  specified, the contents of /user/<currentUser> will be listed. For a directory a\r\n",
      "  list of its direct children is returned (unless -d option is specified).\r\n",
      "  \r\n",
      "  Directory entries are of the form:\r\n"
     ]
    },
    {
     "name": "stdout",
     "output_type": "stream",
     "text": [
      "  \tpermissions - userId groupId sizeOfDirectory(in bytes)\r\n",
      "  modificationDate(yyyy-MM-dd HH:mm) directoryName\r\n",
      "  \r\n",
      "  and file entries are of the form:\r\n",
      "  \tpermissions numberOfReplicas userId groupId sizeOfFile(in bytes)\r\n",
      "  modificationDate(yyyy-MM-dd HH:mm) fileName\r\n",
      "  \r\n",
      "    -C  Display the paths of files and directories only.\r\n",
      "    -d  Directories are listed as plain files.\r\n",
      "    -h  Formats the sizes of files in a human-readable fashion\r\n",
      "        rather than a number of bytes.\r\n",
      "    -q  Print ? instead of non-printable characters.\r\n",
      "    -R  Recursively list the contents of directories.\r\n",
      "    -t  Sort files by modification time (most recent first).\r\n",
      "    -S  Sort files by size.\r\n",
      "    -r  Reverse the order of the sort.\r\n",
      "    -u  Use time of last access instead of modification for\r\n",
      "        display and sorting.\r\n",
      "\r\n",
      "-mkdir [-p] <path> ... :\r\n",
      "  Create a directory in specified location.\r\n",
      "                                                  \r\n",
      "  -p  Do not fail if the directory already exists \r\n",
      "\r\n",
      "-moveFromLocal <localsrc> ... <dst> :\r\n",
      "  Same as -put, except that the source is deleted after it's copied.\r\n",
      "\r\n",
      "-moveToLocal <src> <localdst> :\r\n",
      "  Not implemented yet\r\n",
      "\r\n",
      "-mv <src> ... <dst> :\r\n",
      "  Move files that match the specified file pattern <src> to a destination <dst>. \r\n",
      "  When moving multiple files, the destination must be a directory.\r\n",
      "\r\n",
      "-put [-f] [-p] [-l] <localsrc> ... <dst> :\r\n",
      "  Copy files from the local file system into fs. Copying fails if the file already\r\n",
      "  exists, unless the -f flag is given.\r\n",
      "  Flags:\r\n",
      "                                                                       \r\n",
      "  -p  Preserves access and modification times, ownership and the mode. \r\n",
      "  -f  Overwrites the destination if it already exists.                 \r\n",
      "  -l  Allow DataNode to lazily persist the file to disk. Forces        \r\n",
      "         replication factor of 1. This flag will result in reduced\r\n",
      "         durability. Use with care.\r\n",
      "\r\n",
      "-renameSnapshot <snapshotDir> <oldName> <newName> :\r\n",
      "  Rename a snapshot from oldName to newName\r\n",
      "\r\n",
      "-rm [-f] [-r|-R] [-skipTrash] <src> ... :\r\n",
      "  Delete all files that match the specified file pattern. Equivalent to the Unix\r\n",
      "  command \"rm <src>\"\r\n",
      "                                                                                 \r\n",
      "  -skipTrash  option bypasses trash, if enabled, and immediately deletes <src>   \r\n",
      "  -f          If the file does not exist, do not display a diagnostic message or \r\n",
      "              modify the exit status to reflect an error.                        \r\n",
      "  -[rR]       Recursively deletes directories                                    \r\n",
      "\r\n",
      "-rmdir [--ignore-fail-on-non-empty] <dir> ... :\r\n",
      "  Removes the directory entry specified by each directory argument, provided it is\r\n",
      "  empty.\r\n",
      "\r\n",
      "-setfacl [-R] [{-b|-k} {-m|-x <acl_spec>} <path>]|[--set <acl_spec> <path>] :\r\n",
      "  Sets Access Control Lists (ACLs) of files and directories.\r\n",
      "  Options:\r\n",
      "                                                                                 \r\n",
      "  -b          Remove all but the base ACL entries. The entries for user, group   \r\n",
      "              and others are retained for compatibility with permission bits.    \r\n",
      "  -k          Remove the default ACL.                                            \r\n",
      "  -R          Apply operations to all files and directories recursively.         \r\n",
      "  -m          Modify ACL. New entries are added to the ACL, and existing entries \r\n",
      "              are retained.                                                      \r\n",
      "  -x          Remove specified ACL entries. Other ACL entries are retained.      \r\n",
      "  --set       Fully replace the ACL, discarding all existing entries. The        \r\n",
      "              <acl_spec> must include entries for user, group, and others for    \r\n",
      "              compatibility with permission bits.                                \r\n",
      "  <acl_spec>  Comma separated list of ACL entries.                               \r\n",
      "  <path>      File or directory to modify.                                       \r\n",
      "\r\n",
      "-setfattr {-n name [-v value] | -x name} <path> :\r\n",
      "  Sets an extended attribute name and value for a file or directory.\r\n",
      "                                                                                 \r\n",
      "  -n name   The extended attribute name.                                         \r\n",
      "  -v value  The extended attribute value. There are three different encoding     \r\n",
      "            methods for the value. If the argument is enclosed in double quotes, \r\n",
      "            then the value is the string inside the quotes. If the argument is   \r\n",
      "            prefixed with 0x or 0X, then it is taken as a hexadecimal number. If \r\n",
      "            the argument begins with 0s or 0S, then it is taken as a base64      \r\n",
      "            encoding.                                                            \r\n",
      "  -x name   Remove the extended attribute.                                       \r\n",
      "  <path>    The file or directory.                                               \r\n",
      "\r\n",
      "-setrep [-R] [-w] <rep> <path> ... :\r\n",
      "  Set the replication level of a file. If <path> is a directory then the command\r\n",
      "  recursively changes the replication factor of all files under the directory tree\r\n",
      "  rooted at <path>.\r\n",
      "                                                                                 \r\n",
      "  -w  It requests that the command waits for the replication to complete. This   \r\n",
      "      can potentially take a very long time.                                     \r\n",
      "  -R  It is accepted for backwards compatibility. It has no effect.              \r\n",
      "\r\n",
      "-stat [format] <path> ... :\r\n",
      "  Print statistics about the file/directory at <path> in the specified format.\r\n",
      "  Format accepts filesize in blocks (%b), group name of owner(%g), filename (%n),\r\n",
      "  block size (%o), replication (%r), user name of owner(%u), modification date\r\n",
      "  (%y, %Y)\r\n",
      "\r\n",
      "-tail [-f] <file> :\r\n",
      "  Show the last 1KB of the file.\r\n",
      "                                             \r\n",
      "  -f  Shows appended data as the file grows. \r\n",
      "\r\n",
      "-test -[defsz] <path> :\r\n",
      "  Answer various questions about <path>, with result via exit status.\r\n",
      "    -d  return 0 if <path> is a directory.\r\n",
      "    -e  return 0 if <path> exists.\r\n",
      "    -f  return 0 if <path> is a file.\r\n",
      "    -s  return 0 if file <path> is greater than zero bytes in size.\r\n",
      "    -z  return 0 if file <path> is zero bytes in size, else return 1.\r\n",
      "\r\n",
      "-text [-ignoreCrc] <src> ... :\r\n",
      "  Takes a source file and outputs the file in text format.\r\n",
      "  The allowed formats are zip and TextRecordInputStream and Avro.\r\n",
      "\r\n",
      "-touchz <path> ... :\r\n",
      "  Creates a file of zero length at <path> with current time as the timestamp of\r\n",
      "  that <path>. An error is returned if the file exists with non-zero length\r\n",
      "\r\n",
      "-usage [cmd ...] :\r\n",
      "  Displays the usage for given command or all commands if none is specified.\r\n",
      "\r\n",
      "Generic options supported are\r\n",
      "-conf <configuration file>     specify an application configuration file\r\n",
      "-D <property=value>            use value for given property\r\n",
      "-fs <local|namenode:port>      specify a namenode\r\n",
      "-jt <local|resourcemanager:port>    specify a ResourceManager\r\n",
      "-files <comma separated list of files>    specify comma separated files to be copied to the map reduce cluster\r\n",
      "-libjars <comma separated list of jars>    specify comma separated jar files to include in the classpath.\r\n",
      "-archives <comma separated list of archives>    specify comma separated archives to be unarchived on the compute machines.\r\n",
      "\r\n",
      "The general command line syntax is\r\n",
      "bin/hadoop command [genericOptions] [commandOptions]\r\n",
      "\r\n"
     ]
    }
   ],
   "source": [
    "! hdfs dfs -help"
   ]
  },
  {
   "cell_type": "markdown",
   "metadata": {},
   "source": [
    "### Ejercicios"
   ]
  },
  {
   "cell_type": "markdown",
   "metadata": {},
   "source": [
    "#### ¿Cómo se calcula el checksum de un fichero?"
   ]
  },
  {
   "cell_type": "code",
   "execution_count": null,
   "metadata": {},
   "outputs": [],
   "source": []
  },
  {
   "cell_type": "markdown",
   "metadata": {},
   "source": [
    "#### ¿Cuál sería otra forma de descargar un fichero desde HDFS a local?"
   ]
  },
  {
   "cell_type": "code",
   "execution_count": null,
   "metadata": {},
   "outputs": [],
   "source": []
  },
  {
   "cell_type": "markdown",
   "metadata": {},
   "source": [
    "#### ¿Cuánto espacio libre y ocupado tenemos en el sistema de archivos?"
   ]
  },
  {
   "cell_type": "code",
   "execution_count": null,
   "metadata": {},
   "outputs": [],
   "source": []
  },
  {
   "cell_type": "markdown",
   "metadata": {},
   "source": [
    "#### ¿Cuántos archivos y carpetas hay en la carpeta /tmp?"
   ]
  },
  {
   "cell_type": "code",
   "execution_count": null,
   "metadata": {},
   "outputs": [],
   "source": []
  }
 ],
 "metadata": {
  "kernelspec": {
   "display_name": "Python 3",
   "language": "python",
   "name": "python3"
  },
  "language_info": {
   "codemirror_mode": {
    "name": "ipython",
    "version": 3
   },
   "file_extension": ".py",
   "mimetype": "text/x-python",
   "name": "python",
   "nbconvert_exporter": "python",
   "pygments_lexer": "ipython3",
   "version": "3.7.3"
  }
 },
 "nbformat": 4,
 "nbformat_minor": 2
}

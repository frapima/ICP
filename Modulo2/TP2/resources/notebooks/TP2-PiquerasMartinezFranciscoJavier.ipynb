{
 "cells": [
  {
   "cell_type": "markdown",
   "metadata": {},
   "source": [
    "### Dataset descargado desde\n",
    "## https://ieee-dataport.org/documents/smart-defender-dataset\n",
    "\n",
    "La descripción de los campos que componen los datos del dataset están disponible en esa URL"
   ]
  },
  {
   "cell_type": "markdown",
   "metadata": {},
   "source": [
    "# PARTE 1: Uso de Spark para análisis de datos, Dataframes #"
   ]
  },
  {
   "cell_type": "code",
   "execution_count": 1,
   "metadata": {
    "scrolled": false
   },
   "outputs": [
    {
     "data": {
      "text/html": [
       "\n",
       "            <div>\n",
       "                <p><b>SparkSession - hive</b></p>\n",
       "                \n",
       "        <div>\n",
       "            <p><b>SparkContext</b></p>\n",
       "\n",
       "            <p><a href=\"http://192.168.0.111:4040\">Spark UI</a></p>\n",
       "\n",
       "            <dl>\n",
       "              <dt>Version</dt>\n",
       "                <dd><code>v2.4.4</code></dd>\n",
       "              <dt>Master</dt>\n",
       "                <dd><code>local[*]</code></dd>\n",
       "              <dt>AppName</dt>\n",
       "                <dd><code>PySparkShell</code></dd>\n",
       "            </dl>\n",
       "        </div>\n",
       "        \n",
       "            </div>\n",
       "        "
      ],
      "text/plain": [
       "<pyspark.sql.session.SparkSession at 0x112519c10>"
      ]
     },
     "execution_count": 1,
     "metadata": {},
     "output_type": "execute_result"
    }
   ],
   "source": [
    "# Mostrar la versión de Spark usada\n",
    "\n",
    "# Datos de la sesión spark\n",
    "spark"
   ]
  },
  {
   "cell_type": "code",
   "execution_count": 2,
   "metadata": {},
   "outputs": [],
   "source": [
    "import pandas as pd\n",
    "import matplotlib as plt"
   ]
  },
  {
   "cell_type": "code",
   "execution_count": 3,
   "metadata": {},
   "outputs": [],
   "source": [
    "# Cargar el dataset en un Dataframe\n",
    "smartDefender = spark.read.csv('../data/dataset_descriptor.csv', mode=\"DROPMALFORMED\",inferSchema=True, header=True)"
   ]
  },
  {
   "cell_type": "code",
   "execution_count": 4,
   "metadata": {
    "scrolled": true
   },
   "outputs": [
    {
     "name": "stdout",
     "output_type": "stream",
     "text": [
      "root\n",
      " |-- ip_proto: double (nullable = true)\n",
      " |-- ip_len_mean: double (nullable = true)\n",
      " |-- ip_len_median: double (nullable = true)\n",
      " |-- ip_len_var: double (nullable = true)\n",
      " |-- ip_len_std: double (nullable = true)\n",
      " |-- ip_len_entropy: double (nullable = true)\n",
      " |-- ip_len_cv: double (nullable = true)\n",
      " |-- ip_len_cvq: double (nullable = true)\n",
      " |-- ip_len_rte: double (nullable = true)\n",
      " |-- ip_ttl_mean: double (nullable = true)\n",
      " |-- ip_ttl_median: double (nullable = true)\n",
      " |-- ip_ttl_var: double (nullable = true)\n",
      " |-- ip_ttl_std: double (nullable = true)\n",
      " |-- ip_ttl_entropy: double (nullable = true)\n",
      " |-- ip_ttl_cv: double (nullable = true)\n",
      " |-- ip_ttl_cvq: double (nullable = true)\n",
      " |-- ip_ttl_rte: double (nullable = true)\n",
      " |-- sport_mean: double (nullable = true)\n",
      " |-- sport_median: double (nullable = true)\n",
      " |-- sport_var: double (nullable = true)\n",
      " |-- sport_std: double (nullable = true)\n",
      " |-- sport_entropy: double (nullable = true)\n",
      " |-- sport_cv: double (nullable = true)\n",
      " |-- sport_cvq: double (nullable = true)\n",
      " |-- sport_rte: double (nullable = true)\n",
      " |-- dport_mean: double (nullable = true)\n",
      " |-- dport_median: double (nullable = true)\n",
      " |-- dport_var: double (nullable = true)\n",
      " |-- dport_std: double (nullable = true)\n",
      " |-- dport_entropy: double (nullable = true)\n",
      " |-- dport_cv: double (nullable = true)\n",
      " |-- dport_cvq: double (nullable = true)\n",
      " |-- dport_rte: double (nullable = true)\n",
      " |-- tcp_seq_median: double (nullable = true)\n",
      " |-- tcp_seq_mean: double (nullable = true)\n",
      " |-- tcp_seq_var: double (nullable = true)\n",
      " |-- tcp_seq_std: double (nullable = true)\n",
      " |-- tcp_seq_entropy: double (nullable = true)\n",
      " |-- tcp_seq_cv: double (nullable = true)\n",
      " |-- tcp_seq_cvq: double (nullable = true)\n",
      " |-- tcp_seq_rte: double (nullable = true)\n",
      " |-- tcp_ack_mean: double (nullable = true)\n",
      " |-- tcp_ack_median: double (nullable = true)\n",
      " |-- tcp_ack_var: double (nullable = true)\n",
      " |-- tcp_ack_std: double (nullable = true)\n",
      " |-- tcp_ack_entropy: double (nullable = true)\n",
      " |-- tcp_ack_cv: double (nullable = true)\n",
      " |-- tcp_ack_cvq: double (nullable = true)\n",
      " |-- tcp_ack_rte: double (nullable = true)\n",
      " |-- tcp_dataofs_mean: double (nullable = true)\n",
      " |-- tcp_dataofs_median: double (nullable = true)\n",
      " |-- tcp_dataofs_var: double (nullable = true)\n",
      " |-- tcp_dataofs_std: double (nullable = true)\n",
      " |-- tcp_dataofs_entropy: double (nullable = true)\n",
      " |-- tcp_dataofs_cv: double (nullable = true)\n",
      " |-- tcp_dataofs_cvq: double (nullable = true)\n",
      " |-- tcp_dataofs_rte: double (nullable = true)\n",
      " |-- tcp_flags_mean: double (nullable = true)\n",
      " |-- tcp_flags_median: double (nullable = true)\n",
      " |-- tcp_flags_var: double (nullable = true)\n",
      " |-- tcp_flags_std: double (nullable = true)\n",
      " |-- tcp_flags_entropy: double (nullable = true)\n",
      " |-- tcp_flags_cv: double (nullable = true)\n",
      " |-- tcp_flags_cvq: double (nullable = true)\n",
      " |-- tcp_flags_rte: double (nullable = true)\n",
      " |-- tcp_window_mean: double (nullable = true)\n",
      " |-- tcp_window_median: double (nullable = true)\n",
      " |-- tcp_window_var: double (nullable = true)\n",
      " |-- tcp_window_std: double (nullable = true)\n",
      " |-- tcp_window_entropy: double (nullable = true)\n",
      " |-- tcp_window_cv: double (nullable = true)\n",
      " |-- tcp_window_cvq: double (nullable = true)\n",
      " |-- tcp_window_rte: double (nullable = true)\n",
      " |-- Label1: string (nullable = true)\n",
      " |-- Label2: string (nullable = true)\n",
      " |-- Label3: string (nullable = true)\n",
      "\n"
     ]
    }
   ],
   "source": [
    "# Mostrar el schema heredado\n",
    "smartDefender.printSchema()"
   ]
  },
  {
   "cell_type": "code",
   "execution_count": 5,
   "metadata": {},
   "outputs": [
    {
     "data": {
      "text/plain": [
       "45500"
      ]
     },
     "execution_count": 5,
     "metadata": {},
     "output_type": "execute_result"
    }
   ],
   "source": [
    "# Mostrar el número de registros del dataset\n",
    "total_reg = smartDefender.count()\n",
    "total_reg"
   ]
  },
  {
   "cell_type": "code",
   "execution_count": 6,
   "metadata": {},
   "outputs": [
    {
     "name": "stdout",
     "output_type": "stream",
     "text": [
      "+-----------------+\n",
      "|           Label1|\n",
      "+-----------------+\n",
      "|       http_flood|\n",
      "|   http_slow_body|\n",
      "|    tcp_fin_flood|\n",
      "|  http_slow_range|\n",
      "|           normal|\n",
      "|        udp_flood|\n",
      "|   http_slow_read|\n",
      "|tcp_syn_ack_flood|\n",
      "|    tcp_syn_flood|\n",
      "|    tcp_ack_flood|\n",
      "|http_slow_headers|\n",
      "+-----------------+\n",
      "\n"
     ]
    }
   ],
   "source": [
    "# Q1. ¿Cuantas clases de tipo de tráfico hay clasificadas en el campo label1?\n",
    "smartDefender.select('Label1').distinct().show()"
   ]
  },
  {
   "cell_type": "code",
   "execution_count": 7,
   "metadata": {
    "scrolled": true
   },
   "outputs": [
    {
     "name": "stdout",
     "output_type": "stream",
     "text": [
      "+----------+\n",
      "|    Label3|\n",
      "+----------+\n",
      "|http_flood|\n",
      "| tcp_flood|\n",
      "|    normal|\n",
      "| udp_flood|\n",
      "| http_slow|\n",
      "+----------+\n",
      "\n"
     ]
    }
   ],
   "source": [
    "# Q2. ¿Cuantas clases de tipo de tráfico hay clasificadas en el campo label3?\n",
    "smartDefender.select('Label3').distinct().show()"
   ]
  },
  {
   "cell_type": "code",
   "execution_count": 8,
   "metadata": {},
   "outputs": [
    {
     "name": "stdout",
     "output_type": "stream",
     "text": [
      "49.26 %\n"
     ]
    }
   ],
   "source": [
    "#Q3 ¿Que porcentaje de tráfico está catalogado como anormal? Entiendase por anormal aquel que no está etiquetado como normal.\n",
    "anomalousSmartDefender = smartDefender.filter(smartDefender['Label3'] != 'normal')\n",
    "print(round(anomalousSmartDefender.count() / smartDefender.count() * 100, 2), '%')"
   ]
  },
  {
   "cell_type": "code",
   "execution_count": 9,
   "metadata": {},
   "outputs": [],
   "source": [
    "# Q4 Mostrar los porcentajes de trafico sobre el total asociados a cada tipo de etiqueta de tráfico \n",
    "# (usar el campo genérico Label3 y no el detallado Label 1)\n",
    "# Mostrar un diagrama con estos porcentajes (bar plot)\n",
    "grouped_label3 = smartDefender.groupBy('Label3').count()\n",
    "traffic_percentage = grouped_label3.select(grouped_label3['Label3'].alias('traffic'), (grouped_label3['count']/total_reg * 100).alias('percentage')).toPandas()"
   ]
  },
  {
   "cell_type": "code",
   "execution_count": 10,
   "metadata": {
    "scrolled": true
   },
   "outputs": [
    {
     "data": {
      "text/html": [
       "<div>\n",
       "<style scoped>\n",
       "    .dataframe tbody tr th:only-of-type {\n",
       "        vertical-align: middle;\n",
       "    }\n",
       "\n",
       "    .dataframe tbody tr th {\n",
       "        vertical-align: top;\n",
       "    }\n",
       "\n",
       "    .dataframe thead th {\n",
       "        text-align: right;\n",
       "    }\n",
       "</style>\n",
       "<table border=\"1\" class=\"dataframe\">\n",
       "  <thead>\n",
       "    <tr style=\"text-align: right;\">\n",
       "      <th></th>\n",
       "      <th>traffic</th>\n",
       "      <th>percentage</th>\n",
       "    </tr>\n",
       "  </thead>\n",
       "  <tbody>\n",
       "    <tr>\n",
       "      <th>0</th>\n",
       "      <td>http_flood</td>\n",
       "      <td>0.762637</td>\n",
       "    </tr>\n",
       "    <tr>\n",
       "      <th>1</th>\n",
       "      <td>tcp_flood</td>\n",
       "      <td>32.940659</td>\n",
       "    </tr>\n",
       "    <tr>\n",
       "      <th>2</th>\n",
       "      <td>normal</td>\n",
       "      <td>50.742857</td>\n",
       "    </tr>\n",
       "    <tr>\n",
       "      <th>3</th>\n",
       "      <td>udp_flood</td>\n",
       "      <td>15.151648</td>\n",
       "    </tr>\n",
       "    <tr>\n",
       "      <th>4</th>\n",
       "      <td>http_slow</td>\n",
       "      <td>0.402198</td>\n",
       "    </tr>\n",
       "  </tbody>\n",
       "</table>\n",
       "</div>"
      ],
      "text/plain": [
       "      traffic  percentage\n",
       "0  http_flood    0.762637\n",
       "1   tcp_flood   32.940659\n",
       "2      normal   50.742857\n",
       "3   udp_flood   15.151648\n",
       "4   http_slow    0.402198"
      ]
     },
     "execution_count": 10,
     "metadata": {},
     "output_type": "execute_result"
    }
   ],
   "source": [
    "traffic_percentage"
   ]
  },
  {
   "cell_type": "code",
   "execution_count": 11,
   "metadata": {},
   "outputs": [
    {
     "data": {
      "text/plain": [
       "<matplotlib.axes._subplots.AxesSubplot at 0x11a58c990>"
      ]
     },
     "execution_count": 11,
     "metadata": {},
     "output_type": "execute_result"
    }
   ],
   "source": [
    "traffic_percentage.plot(kind=\"bar\", x=\"traffic\")"
   ]
  },
  {
   "cell_type": "code",
   "execution_count": 12,
   "metadata": {},
   "outputs": [
    {
     "name": "stdout",
     "output_type": "stream",
     "text": [
      "+------------+\n",
      "|ip_proto_int|\n",
      "+------------+\n",
      "|        17.0|\n",
      "|         6.0|\n",
      "+------------+\n",
      "\n"
     ]
    }
   ],
   "source": [
    "# Q5 Identificar que tipo de tráfico de red está incluido en el dataset (usar el campo ip_proto y convertir \n",
    "# ese valor al real que debería tener, es decir, un entero en el rango definido por el IANA)\n",
    "# https://www.iana.org/assignments/protocol-numbers/protocol-numbers.xhtml\n",
    "\n",
    "fileDataTransformed = smartDefender.withColumn('ip_proto_int', smartDefender.ip_proto * 1000)\n",
    "fileDataTransformed.select('ip_proto_int').distinct().show()"
   ]
  },
  {
   "cell_type": "code",
   "execution_count": 13,
   "metadata": {},
   "outputs": [
    {
     "name": "stdout",
     "output_type": "stream",
     "text": [
      "+------------+-----------------+\n",
      "|ip_proto_int| sum(ip_len_mean)|\n",
      "+------------+-----------------+\n",
      "|        17.0|7064.346040678178|\n",
      "|         6.0| 26867.1914740567|\n",
      "+------------+-----------------+\n",
      "\n"
     ]
    }
   ],
   "source": [
    "# Q6 Calcular la cantidad total (suponer que el dato a aculumar para cada paquete es ip_len_mean) \n",
    "# de bytes transmitidos agrupados por protocolo\n",
    "fileDataTransformed.groupBy('ip_proto_int').sum('ip_len_mean').show()"
   ]
  },
  {
   "cell_type": "code",
   "execution_count": 14,
   "metadata": {},
   "outputs": [
    {
     "name": "stdout",
     "output_type": "stream",
     "text": [
      "+---------+------------------+\n",
      "|   Label1|  sum(ip_len_mean)|\n",
      "+---------+------------------+\n",
      "|udp_flood|            6894.0|\n",
      "|   normal|170.34604067817844|\n",
      "+---------+------------------+\n",
      "\n"
     ]
    }
   ],
   "source": [
    "# Q7 Indicar cual es tráfico anómalo en UDP que usa más tráfico de red. Presentar los resultados en orden demayor a menor\n",
    "UDPSmartDefender = smartDefender.filter(smartDefender.ip_proto * 1000 == 17)\n",
    "UDPSmartDefender.groupBy('Label1').sum('ip_len_mean').orderBy('sum(ip_len_mean)', ascending=False).show()"
   ]
  },
  {
   "cell_type": "code",
   "execution_count": 15,
   "metadata": {},
   "outputs": [
    {
     "name": "stdout",
     "output_type": "stream",
     "text": [
      "+-----------------+------------------+\n",
      "|           Label1|  sum(ip_len_mean)|\n",
      "+-----------------+------------------+\n",
      "|           normal|11615.053998509025|\n",
      "|    tcp_syn_flood| 5713.195544936026|\n",
      "|tcp_syn_ack_flood| 5273.157952268173|\n",
      "|    tcp_fin_flood|            2000.0|\n",
      "|    tcp_ack_flood|            2000.0|\n",
      "|       http_flood| 90.88054677859463|\n",
      "|  http_slow_range| 44.20993791090954|\n",
      "|http_slow_headers|44.157370741482964|\n",
      "|   http_slow_read|43.283366733466934|\n",
      "|   http_slow_body|43.252756179024715|\n",
      "+-----------------+------------------+\n",
      "\n"
     ]
    }
   ],
   "source": [
    "# Q8 Indicar cual es tráfico anómalo en TCP que usa más tráfico de red. Presentar los resultados en orden demayor a menor\n",
    "TCPSmartDefender = smartDefender.filter(smartDefender.ip_proto * 1000 == 6)\n",
    "TCPSmartDefender.groupBy('Label1').sum('ip_len_mean').orderBy('sum(ip_len_mean)', ascending=False).show()"
   ]
  },
  {
   "cell_type": "markdown",
   "metadata": {},
   "source": [
    "# PARTE 2: Uso de Spark para análisis de datos, Spark SQL #\n",
    "\n",
    "Contestar a las cuestiones anteriores empleando Spark SQL"
   ]
  },
  {
   "cell_type": "code",
   "execution_count": 16,
   "metadata": {},
   "outputs": [],
   "source": [
    "# Crear la vista en memoria y añadir una celda por cada cuestión que se debe responder\n",
    "smartDefender.createOrReplaceTempView(\"smartDefender\")"
   ]
  },
  {
   "cell_type": "code",
   "execution_count": 17,
   "metadata": {},
   "outputs": [
    {
     "name": "stdout",
     "output_type": "stream",
     "text": [
      "+-----------------+\n",
      "|           Label1|\n",
      "+-----------------+\n",
      "|       http_flood|\n",
      "|   http_slow_body|\n",
      "|    tcp_fin_flood|\n",
      "|  http_slow_range|\n",
      "|           normal|\n",
      "|        udp_flood|\n",
      "|   http_slow_read|\n",
      "|tcp_syn_ack_flood|\n",
      "|    tcp_syn_flood|\n",
      "|    tcp_ack_flood|\n",
      "|http_slow_headers|\n",
      "+-----------------+\n",
      "\n"
     ]
    }
   ],
   "source": [
    "# Q1. ¿Cuantas clases de tipo de tráfico hay clasificadas en el campo label1?\n",
    "spark.sql(\"SELECT DISTINCT Label1 FROM smartDefender\").show()"
   ]
  },
  {
   "cell_type": "code",
   "execution_count": 18,
   "metadata": {},
   "outputs": [
    {
     "name": "stdout",
     "output_type": "stream",
     "text": [
      "+----------+\n",
      "|    Label3|\n",
      "+----------+\n",
      "|http_flood|\n",
      "| tcp_flood|\n",
      "|    normal|\n",
      "| udp_flood|\n",
      "| http_slow|\n",
      "+----------+\n",
      "\n"
     ]
    }
   ],
   "source": [
    "# Q2. ¿Cuantas clases de tipo de tráfico hay clasificadas en el campo label3?\n",
    "spark.sql(\"SELECT DISTINCT Label3 FROM smartDefender\").show()"
   ]
  },
  {
   "cell_type": "code",
   "execution_count": 28,
   "metadata": {},
   "outputs": [
    {
     "name": "stdout",
     "output_type": "stream",
     "text": [
      "+----------+\n",
      "|percentage|\n",
      "+----------+\n",
      "|   49.26 %|\n",
      "+----------+\n",
      "\n"
     ]
    }
   ],
   "source": [
    "#Q3 ¿Que porcentaje de tráfico está catalogado como anormal? Entiendase por anormal aquel que no está etiquetado como normal.\n",
    "spark.sql(\"SELECT CONCAT(ROUND((COUNT(*) / 45500) * 100, 2), ' %') as percentage  FROM smartDefender WHERE Label1 not like 'normal'\").show()"
   ]
  },
  {
   "cell_type": "code",
   "execution_count": 29,
   "metadata": {},
   "outputs": [
    {
     "name": "stdout",
     "output_type": "stream",
     "text": [
      "+----------+-------------------+\n",
      "|   traffic|         percentage|\n",
      "+----------+-------------------+\n",
      "|http_flood| 0.7626373626373626|\n",
      "| tcp_flood|  32.94065934065934|\n",
      "|    normal|  50.74285714285715|\n",
      "| udp_flood| 15.151648351648353|\n",
      "| http_slow|0.40219780219780216|\n",
      "+----------+-------------------+\n",
      "\n"
     ]
    }
   ],
   "source": [
    "# Q4 Mostrar los porcentajes de trafico sobre el total asociados a cada tipo de etiqueta de tráfico \n",
    "# (usar el campo genérico Label3 y no el detallado Label 1)\n",
    "# Mostrar un diagrama con estos porcentajes (bar plot)\n",
    "traf_perc = spark.sql(\"SELECT Label3 as traffic, (COUNT(*) / 45500) * 100 as percentage  FROM smartDefender GROUP BY Label3\")\n",
    "traf_perc.show()"
   ]
  },
  {
   "cell_type": "code",
   "execution_count": 30,
   "metadata": {},
   "outputs": [
    {
     "data": {
      "text/plain": [
       "<matplotlib.axes._subplots.AxesSubplot at 0x11af35650>"
      ]
     },
     "execution_count": 30,
     "metadata": {},
     "output_type": "execute_result"
    },
    {
     "data": {
      "image/png": "[encoded data removed]",
      "text/plain": [
       "<Figure size 432x288 with 1 Axes>"
      ]
     },
     "metadata": {
      "needs_background": "light"
     },
     "output_type": "display_data"
    }
   ],
   "source": [
    "traf_perc.toPandas().plot(kind=\"bar\", x=\"traffic\")"
   ]
  },
  {
   "cell_type": "code",
   "execution_count": 31,
   "metadata": {},
   "outputs": [
    {
     "name": "stdout",
     "output_type": "stream",
     "text": [
      "+------------+\n",
      "|ip_proto_int|\n",
      "+------------+\n",
      "|        17.0|\n",
      "|         6.0|\n",
      "+------------+\n",
      "\n"
     ]
    }
   ],
   "source": [
    "# Q5 Identificar que tipo de tráfico de red está incluido en el dataset (usar el campo ip_proto y convertir \n",
    "# ese valor al real que debería tener, es decir, un entero en el rango definido por el IANA)\n",
    "# https://www.iana.org/assignments/protocol-numbers/protocol-numbers.xhtml\n",
    "iana = spark.sql(\"select distinct(ip_proto * 1000) as ip_proto_int FROM smartDefender\")\n",
    "iana.show()"
   ]
  },
  {
   "cell_type": "code",
   "execution_count": 32,
   "metadata": {},
   "outputs": [
    {
     "name": "stdout",
     "output_type": "stream",
     "text": [
      "+------------+-----------------+\n",
      "|ip_proto_int| sum(ip_len_mean)|\n",
      "+------------+-----------------+\n",
      "|        17.0|7064.346040678178|\n",
      "|         6.0| 26867.1914740567|\n",
      "+------------+-----------------+\n",
      "\n"
     ]
    }
   ],
   "source": [
    "# Q6 Calcular la cantidad total (suponer que el dato a aculumar para cada paquete es ip_len_mean) \n",
    "# de bytes transmitidos agrupados por protocolo\n",
    "spark.sql(\"select (ip_proto * 1000) as ip_proto_int, sum(ip_len_mean) from smartDefender group by ip_proto\").show()"
   ]
  },
  {
   "cell_type": "code",
   "execution_count": 35,
   "metadata": {},
   "outputs": [
    {
     "name": "stdout",
     "output_type": "stream",
     "text": [
      "+---------+------------------+\n",
      "|   Label1|   sum_ip_len_mean|\n",
      "+---------+------------------+\n",
      "|udp_flood|            6894.0|\n",
      "|   normal|170.34604067817844|\n",
      "+---------+------------------+\n",
      "\n"
     ]
    }
   ],
   "source": [
    "# Q7 Indicar cual es tráfico anómalo en UDP que usa más tráfico de red. Presentar los resultados en orden demayor a menor\n",
    "spark.sql(\"select Label1, sum(ip_len_mean) as sum_ip_len_mean from smartDefender where ip_proto = 0.017 group by Label1 order by sum_ip_len_mean desc\").show()"
   ]
  },
  {
   "cell_type": "code",
   "execution_count": 36,
   "metadata": {},
   "outputs": [
    {
     "name": "stdout",
     "output_type": "stream",
     "text": [
      "+-----------------+------------------+\n",
      "|           Label1|   sum_ip_len_mean|\n",
      "+-----------------+------------------+\n",
      "|           normal|11615.053998509025|\n",
      "|    tcp_syn_flood| 5713.195544936026|\n",
      "|tcp_syn_ack_flood| 5273.157952268173|\n",
      "|    tcp_fin_flood|            2000.0|\n",
      "|    tcp_ack_flood|            2000.0|\n",
      "|       http_flood| 90.88054677859463|\n",
      "|  http_slow_range| 44.20993791090954|\n",
      "|http_slow_headers|44.157370741482964|\n",
      "|   http_slow_read|43.283366733466934|\n",
      "|   http_slow_body|43.252756179024715|\n",
      "+-----------------+------------------+\n",
      "\n"
     ]
    }
   ],
   "source": [
    "# Q8 Indicar cual es tráfico anómalo en TCP que usa más tráfico de red. Presentar los resultados en orden demayor a menor\n",
    "spark.sql(\"select Label1, sum(ip_len_mean) as sum_ip_len_mean from smartDefender where ip_proto = 0.006 group by Label1 order by sum_ip_len_mean desc\").show()"
   ]
  },
  {
   "cell_type": "markdown",
   "metadata": {},
   "source": [
    "## Conclusiones de realización de la TP2\n",
    "\n",
    "Me ha parecido una buena práctica para romper mano con spark. Me ha parecido muy bien guiada así como sencilla a la vez que útil. Sin embargo, he echado en falta que se hablara de las distintas versiones de Java de las que puedo hacer uso ya que he estado muy detenido por un error por culpa de tener Java 11 en lugar de Java 8.\n",
    "\n",
    "Por el resto, muy contento con la realización de la práctica.\n",
    "\n",
    "Un saludo."
   ]
  },
  {
   "cell_type": "code",
   "execution_count": null,
   "metadata": {},
   "outputs": [],
   "source": []
  }
 ],
 "metadata": {
  "kernelspec": {
   "display_name": "Python 3",
   "language": "python",
   "name": "python3"
  },
  "language_info": {
   "codemirror_mode": {
    "name": "ipython",
    "version": 3
   },
   "file_extension": ".py",
   "mimetype": "text/x-python",
   "name": "python",
   "nbconvert_exporter": "python",
   "pygments_lexer": "ipython3",
   "version": "3.7.5"
  }
 },
 "nbformat": 4,
 "nbformat_minor": 2
}

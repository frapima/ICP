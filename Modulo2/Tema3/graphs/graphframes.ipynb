{
 "cells": [
  {
   "cell_type": "code",
   "execution_count": 1,
   "metadata": {},
   "outputs": [],
   "source": [
    "# Load data\n",
    "airports = spark.read.option(\"Header\",True).option(\"InferSchema\", True).csv(\"airports.csv\")\n",
    "trips_usa_nov2017 = spark.read.option(\"Header\",True).option(\"InferSchema\", True).csv(\"216420986_T_ONTIME.csv\")\n",
    "trips_usa_nov2017 = trips_usa_nov2017.sample(False,0.001,seed=42)"
   ]
  },
  {
   "cell_type": "code",
   "execution_count": 2,
   "metadata": {},
   "outputs": [
    {
     "name": "stdout",
     "output_type": "stream",
     "text": [
      "root\n",
      " |-- id: integer (nullable = true)\n",
      " |-- name: string (nullable = true)\n",
      " |-- city: string (nullable = true)\n",
      " |-- country: string (nullable = true)\n",
      " |-- IATA: string (nullable = true)\n",
      " |-- ICAO: string (nullable = true)\n",
      " |-- latitude: double (nullable = true)\n",
      " |-- longitude: double (nullable = true)\n",
      " |-- altitude: integer (nullable = true)\n",
      " |-- timezone: string (nullable = true)\n",
      " |-- DST: string (nullable = true)\n",
      " |-- tz: string (nullable = true)\n",
      " |-- type: string (nullable = true)\n",
      " |-- source: string (nullable = true)\n",
      "\n",
      "+----+--------------------+-------------+-------------+----+----+------------------+-------------------+--------+--------+---+-----------------+-------+-----------+\n",
      "|  id|                name|         city|      country|IATA|ICAO|          latitude|          longitude|altitude|timezone|DST|               tz|   type|     source|\n",
      "+----+--------------------+-------------+-------------+----+----+------------------+-------------------+--------+--------+---+-----------------+-------+-----------+\n",
      "|3411|Barter Island LRR...|Barter Island|United States| BTI|PABA|     70.1340026855|     -143.582000732|       2|      -9|  A|America/Anchorage|airport|OurAirports|\n",
      "|3413|Cape Lisburne LRR...|Cape Lisburne|United States| LUR|PALU|       68.87509918|       -166.1100006|      16|      -9|  A|America/Anchorage|airport|OurAirports|\n",
      "|3414|Point Lay LRRS Ai...|    Point Lay|United States| PIZ|PPIZ|       69.73290253|       -163.0050049|      22|      -9|  A|America/Anchorage|airport|OurAirports|\n",
      "|3415|Hilo Internationa...|         Hilo|United States| ITO|PHTO|19.721399307250977|-155.04800415039062|      38|     -10|  N| Pacific/Honolulu|airport|OurAirports|\n",
      "|3416|Orlando Executive...|      Orlando|United States| ORL|KORL|   28.545499801636|   -81.332901000977|     113|      -5|  A| America/New_York|airport|OurAirports|\n",
      "+----+--------------------+-------------+-------------+----+----+------------------+-------------------+--------+--------+---+-----------------+-------+-----------+\n",
      "only showing top 5 rows\n",
      "\n"
     ]
    }
   ],
   "source": [
    "# Solo necesitamos los de USA\n",
    "airports = airports.filter(airports[\"country\"] == \"United States\")\n",
    "\n",
    "airports.printSchema()\n",
    "airports.show(5)"
   ]
  },
  {
   "cell_type": "code",
   "execution_count": 3,
   "metadata": {},
   "outputs": [
    {
     "name": "stdout",
     "output_type": "stream",
     "text": [
      "root\n",
      " |-- ORIGIN: string (nullable = true)\n",
      " |-- ORIGIN_CITY_NAME: string (nullable = true)\n",
      " |-- ORIGIN_STATE_ABR: string (nullable = true)\n",
      " |-- ORIGIN_STATE_NM: string (nullable = true)\n",
      " |-- DEST: string (nullable = true)\n",
      " |-- DEST_CITY_NAME: string (nullable = true)\n",
      " |-- DEST_STATE_ABR: string (nullable = true)\n",
      " |-- DEST_STATE_NM: string (nullable = true)\n",
      " |-- DEP_DELAY: double (nullable = true)\n",
      " |-- ARR_DELAY: double (nullable = true)\n",
      " |-- CANCELLED: double (nullable = true)\n",
      " |-- _c11: string (nullable = true)\n",
      "\n",
      "+------+----------------+----------------+---------------+----+--------------+--------------+-------------+---------+---------+---------+\n",
      "|ORIGIN|ORIGIN_CITY_NAME|ORIGIN_STATE_ABR|ORIGIN_STATE_NM|DEST|DEST_CITY_NAME|DEST_STATE_ABR|DEST_STATE_NM|DEP_DELAY|ARR_DELAY|CANCELLED|\n",
      "+------+----------------+----------------+---------------+----+--------------+--------------+-------------+---------+---------+---------+\n",
      "|   ABQ| Albuquerque, NM|              NM|     New Mexico| PHX|   Phoenix, AZ|            AZ|      Arizona|     17.0|      5.0|      0.0|\n",
      "|   ADK| Adak Island, AK|              AK|         Alaska| ANC| Anchorage, AK|            AK|       Alaska|    -42.0|    -39.0|      0.0|\n",
      "|   ALB|      Albany, NY|              NY|       New York| BWI| Baltimore, MD|            MD|     Maryland|     10.0|      1.0|      0.0|\n",
      "|   ANC|   Anchorage, AK|              AK|         Alaska| BET|    Bethel, AK|            AK|       Alaska|     -4.0|    -15.0|      0.0|\n",
      "|   ATL|     Atlanta, GA|              GA|        Georgia| MLU|    Monroe, LA|            LA|    Louisiana|     -3.0|    -12.0|      0.0|\n",
      "+------+----------------+----------------+---------------+----+--------------+--------------+-------------+---------+---------+---------+\n",
      "only showing top 5 rows\n",
      "\n"
     ]
    }
   ],
   "source": [
    "trips_usa_nov2017.printSchema()\n",
    "trips_usa_nov2017 = trips_usa_nov2017.drop(\"_c11\")\n",
    "trips_usa_nov2017.show(5)"
   ]
  },
  {
   "cell_type": "code",
   "execution_count": 3,
   "metadata": {},
   "outputs": [
    {
     "name": "stdout",
     "output_type": "stream",
     "text": [
      "+--------------------+-----------+-------------+---+----+------------------+------------------+--------+--------+---+-------------------+-------+-----------+\n",
      "|                name|       city|      country| id|ICAO|          latitude|         longitude|altitude|timezone|DST|                 tz|   type|     source|\n",
      "+--------------------+-----------+-------------+---+----+------------------+------------------+--------+--------+---+-------------------+-------+-----------+\n",
      "|  Dillingham Airport| Dillingham|United States|DLG|PADL|       59.04470062|      -158.5050049|      81|      -9|  A|  America/Anchorage|airport|OurAirports|\n",
      "|    Bowerman Airport|    Hoquiam|United States|HQM|KHQM|46.971199035599994|     -123.93699646|      18|      -8|  A|America/Los_Angeles|airport|OurAirports|\n",
      "|Chippewa Valley R...| Eau Claire|United States|EAU|KEAU| 44.86579895019531|-91.48429870605469|     913|      -6|  A|    America/Chicago|airport|OurAirports|\n",
      "|Santa Maria Pub/C...|Santa Maria|United States|SMX|KSMX|       34.89889908|      -120.4570007|     261|      -8|  A|America/Los_Angeles|airport|OurAirports|\n",
      "|Victoria Regional...|   Victoria|United States|VCT|KVCT| 28.85260009765625|-96.91850280761719|     115|      -6|  A|    America/Chicago|airport|OurAirports|\n",
      "+--------------------+-----------+-------------+---+----+------------------+------------------+--------+--------+---+-------------------+-------+-----------+\n",
      "only showing top 5 rows\n",
      "\n",
      "+---------+---+---+--------------+-------------+------+\n",
      "|DEP_DELAY|src|dst|DEST_CITY_NAME|DEST_STATE_NM|tripid|\n",
      "+---------+---+---+--------------+-------------+------+\n",
      "|     17.0|ABQ|PHX|   Phoenix, AZ|      Arizona|     0|\n",
      "|    -42.0|ADK|ANC| Anchorage, AK|       Alaska|     1|\n",
      "|     10.0|ALB|BWI| Baltimore, MD|     Maryland|     2|\n",
      "|     -4.0|ANC|BET|    Bethel, AK|       Alaska|     3|\n",
      "|     -3.0|ATL|MLU|    Monroe, LA|    Louisiana|     4|\n",
      "+---------+---+---+--------------+-------------+------+\n",
      "only showing top 5 rows\n",
      "\n",
      "459\n"
     ]
    }
   ],
   "source": [
    "from graphframes import *\n",
    "from pyspark.sql.functions import monotonically_increasing_id\n",
    "\n",
    "tripVertices = airports.drop(\"id\").withColumnRenamed(\"IATA\", \"id\").distinct()\n",
    "tripEdges = trips_usa_nov2017.select(\"DEP_DELAY\", \"ORIGIN\", \"DEST\", \"DEST_CITY_NAME\", \"DEST_STATE_NM\")\\\n",
    "    .withColumnRenamed(\"ORIGIN\",\"src\").withColumnRenamed(\"DEST\",\"dst\").withColumn('tripid', monotonically_increasing_id())\n",
    "    \n",
    "## Add and id for trip\n",
    "\n",
    "tripVertices.show(5)\n",
    "tripEdges.show(5)\n",
    "print(tripEdges.count())\n",
    "# Generamos el grafo\n",
    "tripGraph = GraphFrame(tripVertices, tripEdges)"
   ]
  },
  {
   "cell_type": "code",
   "execution_count": 4,
   "metadata": {},
   "outputs": [
    {
     "name": "stdout",
     "output_type": "stream",
     "text": [
      "Airports: 1435\n",
      "Trips: 459\n"
     ]
    }
   ],
   "source": [
    "# Operaciones (queries) simples\n",
    "print( \"Airports: %d\" % tripGraph.vertices.count() )\n",
    "print( \"Trips: %d\" % tripGraph.edges.count() )"
   ]
  },
  {
   "cell_type": "code",
   "execution_count": 5,
   "metadata": {},
   "outputs": [
    {
     "name": "stdout",
     "output_type": "stream",
     "text": [
      "+---+---+--------------+\n",
      "|src|dst|avg(DEP_DELAY)|\n",
      "+---+---+--------------+\n",
      "|IMT|DTW|        1144.0|\n",
      "|SJC|DFW|         400.0|\n",
      "|LAX|IAH|         346.0|\n",
      "|FCA|SLC|         302.0|\n",
      "|TUL|PHX|         271.0|\n",
      "|LAX|IAD|         263.0|\n",
      "|ESC|DTW|         247.0|\n",
      "|SMF|SFO|         219.0|\n",
      "|ORD|SFO|         133.5|\n",
      "|SJC|LAS|         115.0|\n",
      "|RSW|EWR|         102.0|\n",
      "|SLC|LGB|          99.0|\n",
      "|MIA|DFW|          90.0|\n",
      "|SEA|ANC|          81.0|\n",
      "|LGA|CLT|          76.0|\n",
      "|MDW|PHX|          71.0|\n",
      "|BWI|PVD|          67.0|\n",
      "|SFO|LAX|          65.0|\n",
      "|MCO|MIA|          58.5|\n",
      "|PDX|SFO|          54.0|\n",
      "+---+---+--------------+\n",
      "only showing top 20 rows\n",
      "\n"
     ]
    }
   ],
   "source": [
    "# Que viajes tienen un retardo significativo?\n",
    "tripGraph.edges.groupby(\"src\",\"dst\").avg(\"DEP_DELAY\").sort(\"avg(DEP_DELAY)\",ascending=False).show()"
   ]
  },
  {
   "cell_type": "code",
   "execution_count": 6,
   "metadata": {},
   "outputs": [
    {
     "data": {
      "text/plain": [
       "4"
      ]
     },
     "execution_count": 6,
     "metadata": {},
     "output_type": "execute_result"
    }
   ],
   "source": [
    "# Aeropuertos en New York\n",
    "tripGraph.vertices.filter(tripGraph.vertices[\"city\"] == \"New York\").count()"
   ]
  },
  {
   "cell_type": "code",
   "execution_count": 7,
   "metadata": {},
   "outputs": [
    {
     "name": "stdout",
     "output_type": "stream",
     "text": [
      "+---+------+\n",
      "| id|degree|\n",
      "+---+------+\n",
      "|ATL|    66|\n",
      "|ORD|    41|\n",
      "|LAX|    36|\n",
      "|DEN|    35|\n",
      "|PHX|    29|\n",
      "|MSP|    27|\n",
      "|SFO|    27|\n",
      "|LAS|    26|\n",
      "|BWI|    26|\n",
      "|DFW|    24|\n",
      "|MCO|    21|\n",
      "|CLT|    20|\n",
      "|IAH|    19|\n",
      "|SLC|    19|\n",
      "|BOS|    19|\n",
      "|FLL|    18|\n",
      "|LGA|    18|\n",
      "|EWR|    17|\n",
      "|SEA|    17|\n",
      "|MDW|    14|\n",
      "+---+------+\n",
      "only showing top 20 rows\n",
      "\n"
     ]
    }
   ],
   "source": [
    "tripGraph.degrees.sort(\"degree\", ascending=False).show()"
   ]
  },
  {
   "cell_type": "code",
   "execution_count": 8,
   "metadata": {},
   "outputs": [
    {
     "name": "stdout",
     "output_type": "stream",
     "text": [
      "+---+--------+\n",
      "| id|inDegree|\n",
      "+---+--------+\n",
      "|ATL|      34|\n",
      "|DEN|      25|\n",
      "|LAX|      19|\n",
      "|ORD|      16|\n",
      "|SFO|      14|\n",
      "|MSP|      14|\n",
      "|BOS|      13|\n",
      "|PHX|      13|\n",
      "|BWI|      12|\n",
      "|LAS|      11|\n",
      "|MCO|      11|\n",
      "|DFW|      10|\n",
      "|DTW|      10|\n",
      "|SEA|       9|\n",
      "|PHL|       9|\n",
      "|FLL|       9|\n",
      "|EWR|       8|\n",
      "|IAH|       8|\n",
      "|MIA|       7|\n",
      "|LGA|       7|\n",
      "+---+--------+\n",
      "only showing top 20 rows\n",
      "\n",
      "+---+---------+\n",
      "| id|outDegree|\n",
      "+---+---------+\n",
      "|ATL|       32|\n",
      "|ORD|       25|\n",
      "|LAX|       17|\n",
      "|PHX|       16|\n",
      "|LAS|       15|\n",
      "|CLT|       15|\n",
      "|BWI|       14|\n",
      "|DFW|       14|\n",
      "|MSP|       13|\n",
      "|SFO|       13|\n",
      "|SLC|       13|\n",
      "|LGA|       11|\n",
      "|IAH|       11|\n",
      "|DEN|       10|\n",
      "|MCO|       10|\n",
      "|MDW|       10|\n",
      "|EWR|        9|\n",
      "|DAL|        9|\n",
      "|FLL|        9|\n",
      "|SEA|        8|\n",
      "+---+---------+\n",
      "only showing top 20 rows\n",
      "\n"
     ]
    }
   ],
   "source": [
    "tripGraph.inDegrees.sort(\"inDegree\", ascending=False).show()\n",
    "tripGraph.outDegrees.sort(\"outDegree\", ascending=False).show()"
   ]
  },
  {
   "cell_type": "code",
   "execution_count": 9,
   "metadata": {},
   "outputs": [],
   "source": [
    "results = tripGraph.pageRank(maxIter=2)"
   ]
  },
  {
   "cell_type": "code",
   "execution_count": 12,
   "metadata": {},
   "outputs": [
    {
     "name": "stdout",
     "output_type": "stream",
     "text": [
      "+---+------------------+\n",
      "| id|          pagerank|\n",
      "+---+------------------+\n",
      "|ATL|25.180545233641052|\n",
      "|LAX|22.677174030246405|\n",
      "|DEN|21.745270490884046|\n",
      "|ORD|15.864421756758215|\n",
      "|SFO|13.353888981362047|\n",
      "|LAS| 12.49171007742848|\n",
      "|PHX|12.356446930768762|\n",
      "|EWR| 11.14766171733489|\n",
      "|BWI|11.035565166241234|\n",
      "|MSP|10.865477290048789|\n",
      "|DFW| 10.53879138901022|\n",
      "|MCO| 9.947138271774534|\n",
      "|BOS| 9.583145309192634|\n",
      "|PHL| 8.968718290593522|\n",
      "|TPA|  8.93298720182507|\n",
      "|BET| 8.482824062342004|\n",
      "|IAH|7.7893737513139785|\n",
      "|FLL| 7.270464088891417|\n",
      "|IAD| 6.854605024280949|\n",
      "|RDU|  6.81861194971853|\n",
      "+---+------------------+\n",
      "only showing top 20 rows\n",
      "\n",
      "+---+---+--------------------+\n",
      "|src|dst|              weight|\n",
      "+---+---+--------------------+\n",
      "|SNA|EWR|                 1.0|\n",
      "|FCA|SLC|                 1.0|\n",
      "|DFW|BOS| 0.07142857142857142|\n",
      "|SFO|IAD| 0.07692307692307693|\n",
      "|LAX|MCO|0.058823529411764705|\n",
      "|MSP|IAH| 0.07692307692307693|\n",
      "|MSP|BOS| 0.07692307692307693|\n",
      "|MCO|ALB|                 0.1|\n",
      "|CLT|PHX| 0.06666666666666667|\n",
      "|PHX|SNA|              0.0625|\n",
      "|PHL|LAX|  0.3333333333333333|\n",
      "|CMH|MDW|                 1.0|\n",
      "|ATL|MIA| 0.03225806451612903|\n",
      "|EWR|BOS|               0.125|\n",
      "|ATL|RDU| 0.03225806451612903|\n",
      "|ATL|RDU| 0.03225806451612903|\n",
      "|ATL|RDU| 0.03225806451612903|\n",
      "|ATL|RDU| 0.03225806451612903|\n",
      "|EWR|FLL|               0.125|\n",
      "|EWR|FLL|               0.125|\n",
      "+---+---+--------------------+\n",
      "only showing top 20 rows\n",
      "\n"
     ]
    }
   ],
   "source": [
    "results.vertices.select(\"id\", \"pagerank\").sort(\"pagerank\", ascending=False).show()\n",
    "results.edges.select(\"src\", \"dst\", \"weight\").show()"
   ]
  },
  {
   "cell_type": "code",
   "execution_count": 13,
   "metadata": {},
   "outputs": [
    {
     "name": "stdout",
     "output_type": "stream",
     "text": [
      "+--------------------+--------------------+--------------------+--------------------+\n",
      "|                   a|                  e1|                   b|                  e2|\n",
      "+--------------------+--------------------+--------------------+--------------------+\n",
      "|[Phoenix Sky Harb...|[19.0, PHX, DEN, ...|[Denver Internati...|[2.0, DEN, PHX, P...|\n",
      "|[Phoenix Sky Harb...|[-8.0, PHX, SAF, ...|[Santa Fe Municip...|[-6.0, SAF, PHX, ...|\n",
      "|[Los Angeles Inte...|[346.0, LAX, IAH,...|[George Bush Inte...|[-5.0, IAH, LAX, ...|\n",
      "|[Los Angeles Inte...|[19.0, LAX, SLC, ...|[Salt Lake City I...|[-4.0, SLC, LAX, ...|\n",
      "|[Los Angeles Inte...|[-1.0, LAX, DEN, ...|[Denver Internati...|[-4.0, DEN, LAX, ...|\n",
      "|[Los Angeles Inte...|[-1.0, LAX, MCO, ...|[Orlando Internat...|[-4.0, MCO, LAX, ...|\n",
      "|[Los Angeles Inte...|[-5.0, LAX, PDX, ...|[Portland Interna...|[8.0, PDX, LAX, L...|\n",
      "|[Los Angeles Inte...|[-5.0, LAX, PDX, ...|[Portland Interna...|[-2.0, PDX, LAX, ...|\n",
      "|[Los Angeles Inte...|[3.0, LAX, SEA, S...|[Seattle Tacoma I...|[-3.0, SEA, LAX, ...|\n",
      "|[Los Angeles Inte...|[, LAX, SEA, Seat...|[Seattle Tacoma I...|[-3.0, SEA, LAX, ...|\n",
      "|[Los Angeles Inte...|[-5.0, LAX, SLC, ...|[Salt Lake City I...|[-4.0, SLC, LAX, ...|\n",
      "|[Newark Liberty I...|[-2.0, EWR, BOS, ...|[General Edward L...|[-8.0, BOS, EWR, ...|\n",
      "|[Denver Internati...|[-2.0, DEN, BNA, ...|[Nashville Intern...|[-1.0, BNA, DEN, ...|\n",
      "|[Denver Internati...|[2.0, DEN, PHX, P...|[Phoenix Sky Harb...|[19.0, PHX, DEN, ...|\n",
      "|[Denver Internati...|[4.0, DEN, MSP, M...|[Minneapolis-St P...|[-5.0, MSP, DEN, ...|\n",
      "|[Denver Internati...|[4.0, DEN, MSP, M...|[Minneapolis-St P...|[1.0, MSP, DEN, D...|\n",
      "|[Denver Internati...|[-4.0, DEN, LAX, ...|[Los Angeles Inte...|[-1.0, LAX, DEN, ...|\n",
      "|[Minneapolis-St P...|[-11.0, MSP, SFO,...|[San Francisco In...|[-1.0, SFO, MSP, ...|\n",
      "|[Minneapolis-St P...|[-5.0, MSP, DEN, ...|[Denver Internati...|[4.0, DEN, MSP, M...|\n",
      "|[Minneapolis-St P...|[1.0, MSP, DEN, D...|[Denver Internati...|[4.0, DEN, MSP, M...|\n",
      "+--------------------+--------------------+--------------------+--------------------+\n",
      "only showing top 20 rows\n",
      "\n",
      "+--------------------+--------------------+--------------------+--------------------+\n",
      "|                   a|                  e1|                   b|                  e2|\n",
      "+--------------------+--------------------+--------------------+--------------------+\n",
      "|[Los Angeles Inte...|[346.0, LAX, IAH,...|[George Bush Inte...|[-5.0, IAH, LAX, ...|\n",
      "|[Norman Y. Mineta...|[400.0, SJC, DFW,...|[Dallas Fort Wort...|[-5.0, DFW, SJC, ...|\n",
      "|[Miami Internatio...|[90.0, MIA, DFW, ...|[Dallas Fort Wort...|[49.0, DFW, MIA, ...|\n",
      "+--------------------+--------------------+--------------------+--------------------+\n",
      "\n"
     ]
    }
   ],
   "source": [
    "# Motif\n",
    "# Buscamos aeropuertos con conexiones de vuelos directos entre ellos \n",
    "motifs = tripGraph.find(\"(a)-[e1]->(b); (b)-[e2]->(a)\")\n",
    "motifs.show()\n",
    "\n",
    "# De estos viajes, miramos cuales de ellos tienen vuelos directos con mas de una hora de retraso (desde origen)\n",
    "motifs.filter(\"e1.DEP_DELAY > 60\").show()"
   ]
  },
  {
   "cell_type": "code",
   "execution_count": 10,
   "metadata": {},
   "outputs": [
    {
     "name": "stdout",
     "output_type": "stream",
     "text": [
      "+---+--------------------+\n",
      "| id|           distances|\n",
      "+---+--------------------+\n",
      "|RAC|                  []|\n",
      "|MLJ|                  []|\n",
      "|OBU|                  []|\n",
      "|PTB|                  []|\n",
      "|LUP|                  []|\n",
      "|HNH|                  []|\n",
      "|IND|[LAX -> 2, JFK -> 2]|\n",
      "|BTM|                  []|\n",
      "|ORF|                  []|\n",
      "|FDY|                  []|\n",
      "|ATW|                  []|\n",
      "|DLF|                  []|\n",
      "|GRK|                  []|\n",
      "|ALO|                  []|\n",
      "|HTS|                  []|\n",
      "|MRF|                  []|\n",
      "|GFL|                  []|\n",
      "|POU|                  []|\n",
      "|DRG|                  []|\n",
      "|MKT|                  []|\n",
      "+---+--------------------+\n",
      "only showing top 20 rows\n",
      "\n"
     ]
    }
   ],
   "source": [
    "# Shortest paths\n",
    "results = tripGraph.shortestPaths(landmarks=[\"JFK\", \"LAX\"])\n",
    "results.select(\"id\", \"distances\").show()"
   ]
  },
  {
   "cell_type": "code",
   "execution_count": null,
   "metadata": {},
   "outputs": [],
   "source": []
  },
  {
   "cell_type": "code",
   "execution_count": null,
   "metadata": {},
   "outputs": [],
   "source": []
  }
 ],
 "metadata": {
  "kernelspec": {
   "display_name": "Python 3",
   "language": "python",
   "name": "python3"
  },
  "language_info": {
   "codemirror_mode": {
    "name": "ipython",
    "version": 3
   },
   "file_extension": ".py",
   "mimetype": "text/x-python",
   "name": "python",
   "nbconvert_exporter": "python",
   "pygments_lexer": "ipython3",
   "version": "3.6.4"
  }
 },
 "nbformat": 4,
 "nbformat_minor": 2
}

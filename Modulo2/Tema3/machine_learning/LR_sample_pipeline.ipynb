{
 "cells": [
  {
   "cell_type": "markdown",
   "metadata": {},
   "source": [
    "## Machine Learning en Spark (Pipeline)"
   ]
  },
  {
   "cell_type": "code",
   "execution_count": 1,
   "metadata": {
    "scrolled": true
   },
   "outputs": [
    {
     "name": "stdout",
     "output_type": "stream",
     "text": [
      "Running Spark Version 2.4.3\n"
     ]
    }
   ],
   "source": [
    "from pyspark.context import SparkContext\n",
    "print(\"Running Spark Version %s\" % (sc.version))"
   ]
  },
  {
   "cell_type": "code",
   "execution_count": 2,
   "metadata": {
    "scrolled": true
   },
   "outputs": [
    {
     "name": "stdout",
     "output_type": "stream",
     "text": [
      "spark.app.name=PySparkShell\n",
      "spark.eventLog.dir=file:///G:/spark_outputs/logs/spark-events/\n",
      "spark.eventLog.enabled=true\n",
      "spark.history.fs.logDirectory=file:///G:/spark_outputs/logs/spark-events/\n",
      "spark.master=local[*]\n",
      "spark.submit.deployMode=client\n",
      "spark.ui.showConsoleProgress=true\n"
     ]
    }
   ],
   "source": [
    "from pyspark.conf import SparkConf\n",
    "conf = SparkConf()\n",
    "print(conf.toDebugString())"
   ]
  },
  {
   "cell_type": "code",
   "execution_count": 3,
   "metadata": {},
   "outputs": [],
   "source": [
    "df_cars = spark.read.option(\"header\",True).option(\"inferSchema\",True).csv('car-milage.csv')\n",
    "df_cars = df_cars.na.drop()"
   ]
  },
  {
   "cell_type": "code",
   "execution_count": 6,
   "metadata": {},
   "outputs": [],
   "source": [
    "# Features (Modelamos mpg a partir del resto de datos)\n",
    "from pyspark.ml.feature import VectorAssembler\n",
    "from pyspark.ml.regression import LinearRegression\n",
    "from pyspark.ml import Pipeline\n",
    "\n",
    "# Prepare train data\n",
    "train_df, test_df = df_cars.randomSplit([0.8,0.2], seed=42)\n",
    "\n",
    "assembler = VectorAssembler(\n",
    "    inputCols=[\"displacement\",\"hp\",\"torque\",\"CRatio\",\"RARatio\",\"CarbBarrells\",\"NoOfSpeed\",\"length\",\"width\",\"weight\",\"automatic\"],\n",
    "    outputCol=\"features\")\n",
    "\n",
    "lr = LinearRegression(labelCol=\"mpg\", maxIter=1000, regParam=0.3, elasticNetParam=0.8)\n",
    "\n",
    "pipeline = Pipeline(stages=[assembler, lr])\n",
    "\n",
    "model = pipeline.fit(train_df)\n"
   ]
  },
  {
   "cell_type": "code",
   "execution_count": 7,
   "metadata": {},
   "outputs": [
    {
     "name": "stdout",
     "output_type": "stream",
     "text": [
      "mse = 5.18619\n"
     ]
    }
   ],
   "source": [
    "# Predict model\n",
    "predictions = model.transform(test_df)\n",
    "\n",
    "# Evaluate\n",
    "from pyspark.ml.evaluation import RegressionEvaluator\n",
    "evaluator = RegressionEvaluator(labelCol=\"mpg\",predictionCol=\"prediction\", metricName=\"mse\")\n",
    "mse = evaluator.evaluate(predictions)\n",
    "\n",
    "print(\"mse = %g\" % mse)\n"
   ]
  },
  {
   "cell_type": "code",
   "execution_count": 8,
   "metadata": {},
   "outputs": [],
   "source": [
    "# Save model\n",
    "model.write().overwrite().save(\"models/lr\")"
   ]
  },
  {
   "cell_type": "code",
   "execution_count": 9,
   "metadata": {},
   "outputs": [
    {
     "name": "stdout",
     "output_type": "stream",
     "text": [
      "+-----------------+--------------------+-----+\n",
      "|        intercept|        coefficients|scale|\n",
      "+-----------------+--------------------+-----+\n",
      "|24.05245322506605|[-0.0263957057626...|  1.0|\n",
      "+-----------------+--------------------+-----+\n",
      "\n"
     ]
    }
   ],
   "source": [
    "model_data = spark.read.parquet(\"models/lr/stages/1_LinearRegression_51584a4207ef/data/\")\n",
    "model_data.show()"
   ]
  },
  {
   "cell_type": "code",
   "execution_count": 10,
   "metadata": {
    "scrolled": true
   },
   "outputs": [
    {
     "name": "stdout",
     "output_type": "stream",
     "text": [
      "+-----+------------+---+------+------+-------+------------+---------+------+-----+------+---------+--------------------+------------------+\n",
      "|  mpg|displacement| hp|torque|CRatio|RARatio|CarbBarrells|NoOfSpeed|length|width|weight|automatic|            features|        prediction|\n",
      "+-----+------------+---+------+------+-------+------------+---------+------+-----+------+---------+--------------------+------------------+\n",
      "|13.27|       351.0|148|   243|   8.0|   3.26|           2|        3| 216.1| 78.5|  4715|        1|[351.0,148.0,243....|16.320539906777142|\n",
      "|13.27|       460.0|223|   366|   8.0|    3.0|           4|        3| 228.0| 79.8|  5430|        1|[460.0,223.0,366....|12.082968096851397|\n",
      "|13.77|       360.0|195|   295|  8.25|   3.15|           4|        3| 209.3| 77.4|  4215|        1|[360.0,195.0,295....|16.939044397471363|\n",
      "|18.25|       351.0|143|   255|   8.0|    3.0|           2|        3| 199.9| 74.0|  3890|        1|[351.0,143.0,255....|17.362305794523685|\n",
      "|19.73|       318.0|140|   255|   8.5|   2.71|           2|        3| 215.3| 76.3|  4370|        1|[318.0,140.0,255....|17.635893860322156|\n",
      "+-----+------------+---+------+------+-------+------------+---------+------+-----+------+---------+--------------------+------------------+\n",
      "\n"
     ]
    }
   ],
   "source": [
    "# Load model\n",
    "from pyspark.ml import PipelineModel\n",
    "modelLoaded = PipelineModel.load(\"models/lr\")\n",
    "new_predictions = modelLoaded.transform(test_df)\n",
    "new_predictions.show()"
   ]
  },
  {
   "cell_type": "code",
   "execution_count": null,
   "metadata": {},
   "outputs": [],
   "source": []
  }
 ],
 "metadata": {
  "kernelspec": {
   "display_name": "Python 3",
   "language": "python",
   "name": "python3"
  },
  "language_info": {
   "codemirror_mode": {
    "name": "ipython",
    "version": 3
   },
   "file_extension": ".py",
   "mimetype": "text/x-python",
   "name": "python",
   "nbconvert_exporter": "python",
   "pygments_lexer": "ipython3",
   "version": "3.6.4"
  }
 },
 "nbformat": 4,
 "nbformat_minor": 1
}

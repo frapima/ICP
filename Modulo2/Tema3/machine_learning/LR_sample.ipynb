{
 "cells": [
  {
   "cell_type": "markdown",
   "metadata": {},
   "source": [
    "## Machine Learning en Spark"
   ]
  },
  {
   "cell_type": "code",
   "execution_count": 1,
   "metadata": {
    "scrolled": true
   },
   "outputs": [
    {
     "name": "stdout",
     "output_type": "stream",
     "text": [
      "Running Spark Version 2.4.3\n"
     ]
    }
   ],
   "source": [
    "from pyspark.context import SparkContext\n",
    "print (\"Running Spark Version %s\" % (sc.version))"
   ]
  },
  {
   "cell_type": "code",
   "execution_count": 2,
   "metadata": {
    "scrolled": false
   },
   "outputs": [
    {
     "name": "stdout",
     "output_type": "stream",
     "text": [
      "spark.app.name=PySparkShell\n",
      "spark.eventLog.dir=file:///G:/spark_outputs/logs/spark-events/\n",
      "spark.eventLog.enabled=true\n",
      "spark.history.fs.logDirectory=file:///G:/spark_outputs/logs/spark-events/\n",
      "spark.master=local[*]\n",
      "spark.submit.deployMode=client\n",
      "spark.ui.showConsoleProgress=true\n"
     ]
    }
   ],
   "source": [
    "from pyspark.conf import SparkConf\n",
    "conf = SparkConf()\n",
    "print(conf.toDebugString())"
   ]
  },
  {
   "cell_type": "code",
   "execution_count": 3,
   "metadata": {},
   "outputs": [],
   "source": [
    "df_cars = spark.read.option(\"header\",True).option(\"inferSchema\",True).csv('car-milage.csv')"
   ]
  },
  {
   "cell_type": "code",
   "execution_count": 4,
   "metadata": {},
   "outputs": [
    {
     "name": "stdout",
     "output_type": "stream",
     "text": [
      "root\n",
      " |-- mpg: double (nullable = true)\n",
      " |-- displacement: double (nullable = true)\n",
      " |-- hp: integer (nullable = true)\n",
      " |-- torque: integer (nullable = true)\n",
      " |-- CRatio: double (nullable = true)\n",
      " |-- RARatio: double (nullable = true)\n",
      " |-- CarbBarrells: integer (nullable = true)\n",
      " |-- NoOfSpeed: integer (nullable = true)\n",
      " |-- length: double (nullable = true)\n",
      " |-- width: double (nullable = true)\n",
      " |-- weight: integer (nullable = true)\n",
      " |-- automatic: integer (nullable = true)\n",
      "\n"
     ]
    }
   ],
   "source": [
    "df_cars.printSchema()"
   ]
  },
  {
   "cell_type": "code",
   "execution_count": 5,
   "metadata": {
    "scrolled": false
   },
   "outputs": [
    {
     "data": {
      "text/plain": [
       "32"
      ]
     },
     "execution_count": 5,
     "metadata": {},
     "output_type": "execute_result"
    }
   ],
   "source": [
    "df_cars.count()"
   ]
  },
  {
   "cell_type": "code",
   "execution_count": 6,
   "metadata": {
    "scrolled": false
   },
   "outputs": [
    {
     "name": "stdout",
     "output_type": "stream",
     "text": [
      "+-----+------------+---+------+------+-------+------------+---------+------+-----+------+---------+\n",
      "|  mpg|displacement| hp|torque|CRatio|RARatio|CarbBarrells|NoOfSpeed|length|width|weight|automatic|\n",
      "+-----+------------+---+------+------+-------+------------+---------+------+-----+------+---------+\n",
      "| 18.9|       350.0|165|   260|   8.0|   2.56|           4|        3| 200.3| 69.9|  3910|        1|\n",
      "| 17.0|       350.0|170|   275|   8.5|   2.56|           4|        3| 199.6| 72.9|  3860|        1|\n",
      "| 20.0|       250.0|105|   185|  8.25|   2.73|           1|        3| 196.7| 72.2|  3510|        1|\n",
      "|18.25|       351.0|143|   255|   8.0|    3.0|           2|        3| 199.9| 74.0|  3890|        1|\n",
      "|20.07|       225.0| 95|   170|   8.4|   2.76|           1|        3| 194.1| 71.8|  3365|        0|\n",
      "| 11.2|       440.0|215|   330|   8.2|   2.88|           4|        3| 184.5| 69.0|  4215|        1|\n",
      "|22.12|       231.0|110|   175|   8.0|   2.56|           2|        3| 179.3| 65.4|  3020|        1|\n",
      "|21.47|       262.0|110|   200|   8.5|   2.56|           2|        3| 179.3| 65.4|  3180|        1|\n",
      "| 34.7|        89.7| 70|    81|   8.2|    3.9|           2|        4| 155.7| 64.0|  1905|        0|\n",
      "| 30.4|        96.9| 75|    83|   9.0|    4.3|           2|        5| 165.2| 65.0|  2320|        0|\n",
      "| 16.5|       350.0|155|   250|   8.5|   3.08|           4|        3| 195.4| 74.4|  3885|        1|\n",
      "| 36.5|        85.3| 80|    83|   8.5|   3.89|           2|        4| 160.6| 62.2|  2009|        0|\n",
      "| 21.5|       171.0|109|   146|   8.2|   3.22|           2|        4| 170.4| 66.9|  2655|        0|\n",
      "| 19.7|       258.0|110|   195|   8.0|   3.08|           1|        3| 171.5| 77.0|  3375|        1|\n",
      "| 20.3|       140.0| 83|   109|   8.4|    3.4|           2|        4| 168.8| 69.4|  2700|        0|\n",
      "| 17.8|       302.0|129|   220|   8.0|    3.0|           2|        3| 199.9| 74.0|  3890|        1|\n",
      "|14.39|       500.0|190|   360|   8.5|   2.73|           4|        3| 224.1| 79.8|  5290|        1|\n",
      "|14.89|       440.0|215|   330|   8.2|   2.71|           4|        3| 231.0| 79.7|  5185|        1|\n",
      "| 17.8|       350.0|155|   250|   8.5|   3.08|           4|        3| 196.7| 72.2|  3910|        1|\n",
      "|16.41|       318.0|145|   255|   8.5|   2.45|           2|        3| 197.6| 71.0|  3660|        1|\n",
      "|23.54|       231.0|110|   175|   8.0|   2.56|           2|        3| 179.3| 65.4|  3050|        1|\n",
      "|21.47|       360.0|180|   290|   8.4|   2.45|           2|        3| 214.2| 76.3|  4250|        1|\n",
      "|16.59|       400.0|185|  null|   7.6|   3.08|           4|        3| 196.0| 73.0|  3850|        1|\n",
      "| 31.9|        96.9| 75|    83|   9.0|    4.3|           2|        5| 165.2| 61.8|  2275|        0|\n",
      "| 29.4|       140.0| 86|  null|   8.0|   2.92|           2|        4| 176.4| 65.4|  2150|        0|\n",
      "|13.27|       460.0|223|   366|   8.0|    3.0|           4|        3| 228.0| 79.8|  5430|        1|\n",
      "| 23.9|       133.6| 96|   120|   8.4|   3.91|           2|        5| 171.5| 63.4|  2535|        0|\n",
      "|19.73|       318.0|140|   255|   8.5|   2.71|           2|        3| 215.3| 76.3|  4370|        1|\n",
      "| 13.9|       351.0|148|   243|   8.0|   3.25|           2|        3| 215.5| 78.5|  4540|        1|\n",
      "|13.27|       351.0|148|   243|   8.0|   3.26|           2|        3| 216.1| 78.5|  4715|        1|\n",
      "|13.77|       360.0|195|   295|  8.25|   3.15|           4|        3| 209.3| 77.4|  4215|        1|\n",
      "| 16.5|       360.0|165|   255|   8.5|   2.73|           4|        3| 185.2| 69.0|  3660|        1|\n",
      "+-----+------------+---+------+------+-------+------------+---------+------+-----+------+---------+\n",
      "\n"
     ]
    }
   ],
   "source": [
    "df_cars.show(32)"
   ]
  },
  {
   "cell_type": "code",
   "execution_count": 7,
   "metadata": {},
   "outputs": [],
   "source": [
    "df_cars = df_cars.na.drop()"
   ]
  },
  {
   "cell_type": "code",
   "execution_count": 8,
   "metadata": {},
   "outputs": [
    {
     "data": {
      "text/plain": [
       "30"
      ]
     },
     "execution_count": 8,
     "metadata": {},
     "output_type": "execute_result"
    }
   ],
   "source": [
    "df_cars.count()"
   ]
  },
  {
   "cell_type": "code",
   "execution_count": 9,
   "metadata": {},
   "outputs": [
    {
     "name": "stdout",
     "output_type": "stream",
     "text": [
      "+-----+------------+---+------+------+-------+------------+---------+------+-----+------+---------+\n",
      "|  mpg|displacement| hp|torque|CRatio|RARatio|CarbBarrells|NoOfSpeed|length|width|weight|automatic|\n",
      "+-----+------------+---+------+------+-------+------------+---------+------+-----+------+---------+\n",
      "| 18.9|       350.0|165|   260|   8.0|   2.56|           4|        3| 200.3| 69.9|  3910|        1|\n",
      "| 17.0|       350.0|170|   275|   8.5|   2.56|           4|        3| 199.6| 72.9|  3860|        1|\n",
      "| 20.0|       250.0|105|   185|  8.25|   2.73|           1|        3| 196.7| 72.2|  3510|        1|\n",
      "|18.25|       351.0|143|   255|   8.0|    3.0|           2|        3| 199.9| 74.0|  3890|        1|\n",
      "|20.07|       225.0| 95|   170|   8.4|   2.76|           1|        3| 194.1| 71.8|  3365|        0|\n",
      "| 11.2|       440.0|215|   330|   8.2|   2.88|           4|        3| 184.5| 69.0|  4215|        1|\n",
      "|22.12|       231.0|110|   175|   8.0|   2.56|           2|        3| 179.3| 65.4|  3020|        1|\n",
      "|21.47|       262.0|110|   200|   8.5|   2.56|           2|        3| 179.3| 65.4|  3180|        1|\n",
      "| 34.7|        89.7| 70|    81|   8.2|    3.9|           2|        4| 155.7| 64.0|  1905|        0|\n",
      "| 30.4|        96.9| 75|    83|   9.0|    4.3|           2|        5| 165.2| 65.0|  2320|        0|\n",
      "| 16.5|       350.0|155|   250|   8.5|   3.08|           4|        3| 195.4| 74.4|  3885|        1|\n",
      "| 36.5|        85.3| 80|    83|   8.5|   3.89|           2|        4| 160.6| 62.2|  2009|        0|\n",
      "| 21.5|       171.0|109|   146|   8.2|   3.22|           2|        4| 170.4| 66.9|  2655|        0|\n",
      "| 19.7|       258.0|110|   195|   8.0|   3.08|           1|        3| 171.5| 77.0|  3375|        1|\n",
      "| 20.3|       140.0| 83|   109|   8.4|    3.4|           2|        4| 168.8| 69.4|  2700|        0|\n",
      "| 17.8|       302.0|129|   220|   8.0|    3.0|           2|        3| 199.9| 74.0|  3890|        1|\n",
      "|14.39|       500.0|190|   360|   8.5|   2.73|           4|        3| 224.1| 79.8|  5290|        1|\n",
      "|14.89|       440.0|215|   330|   8.2|   2.71|           4|        3| 231.0| 79.7|  5185|        1|\n",
      "| 17.8|       350.0|155|   250|   8.5|   3.08|           4|        3| 196.7| 72.2|  3910|        1|\n",
      "|16.41|       318.0|145|   255|   8.5|   2.45|           2|        3| 197.6| 71.0|  3660|        1|\n",
      "|23.54|       231.0|110|   175|   8.0|   2.56|           2|        3| 179.3| 65.4|  3050|        1|\n",
      "|21.47|       360.0|180|   290|   8.4|   2.45|           2|        3| 214.2| 76.3|  4250|        1|\n",
      "| 31.9|        96.9| 75|    83|   9.0|    4.3|           2|        5| 165.2| 61.8|  2275|        0|\n",
      "|13.27|       460.0|223|   366|   8.0|    3.0|           4|        3| 228.0| 79.8|  5430|        1|\n",
      "| 23.9|       133.6| 96|   120|   8.4|   3.91|           2|        5| 171.5| 63.4|  2535|        0|\n",
      "|19.73|       318.0|140|   255|   8.5|   2.71|           2|        3| 215.3| 76.3|  4370|        1|\n",
      "| 13.9|       351.0|148|   243|   8.0|   3.25|           2|        3| 215.5| 78.5|  4540|        1|\n",
      "|13.27|       351.0|148|   243|   8.0|   3.26|           2|        3| 216.1| 78.5|  4715|        1|\n",
      "|13.77|       360.0|195|   295|  8.25|   3.15|           4|        3| 209.3| 77.4|  4215|        1|\n",
      "| 16.5|       360.0|165|   255|   8.5|   2.73|           4|        3| 185.2| 69.0|  3660|        1|\n",
      "+-----+------------+---+------+------+-------+------------+---------+------+-----+------+---------+\n",
      "\n"
     ]
    }
   ],
   "source": [
    "df_cars.show(30)"
   ]
  },
  {
   "cell_type": "markdown",
   "metadata": {},
   "source": [
    "## Funciones estadísticas"
   ]
  },
  {
   "cell_type": "code",
   "execution_count": 10,
   "metadata": {},
   "outputs": [
    {
     "name": "stdout",
     "output_type": "stream",
     "text": [
      "+-------+------------------+------------------+------------------+----------------+------------------+------------------+-----------------+------------------+------------------+-----------------+-----------------+-------------------+\n",
      "|summary|               mpg|      displacement|                hp|          torque|            CRatio|           RARatio|     CarbBarrells|         NoOfSpeed|            length|            width|           weight|          automatic|\n",
      "+-------+------------------+------------------+------------------+----------------+------------------+------------------+-----------------+------------------+------------------+-----------------+-----------------+-------------------+\n",
      "|  count|                30|                30|                30|              30|                30|                30|               30|                30|                30|               30|               30|                 30|\n",
      "|   mean|20.038333333333334| 286.0466666666667|136.96666666666667|           217.9| 8.313333333333334|3.0589999999999997|2.566666666666667|3.3333333333333335|192.34000000000003|            71.42|           3625.8| 0.7333333333333333|\n",
      "| stddev| 6.267334627521761|116.23704891397529| 44.65073913998654|83.0697048391829|0.2772815490999435|0.5290808555638146|1.072648457158112|0.6608945522512667|21.031005026241445|5.678477212094443|940.9677117110652|0.44977644510880366|\n",
      "|    min|              11.2|              85.3|                70|              81|               8.0|              2.45|                1|                 3|             155.7|             61.8|             1905|                  0|\n",
      "|    max|              36.5|             500.0|               223|             366|               9.0|               4.3|                4|                 5|             231.0|             79.8|             5430|                  1|\n",
      "+-------+------------------+------------------+------------------+----------------+------------------+------------------+-----------------+------------------+------------------+-----------------+-----------------+-------------------+\n",
      "\n",
      "+-------+------------------+------------------+-----------------+-------------------+\n",
      "|summary|               mpg|                hp|           weight|          automatic|\n",
      "+-------+------------------+------------------+-----------------+-------------------+\n",
      "|  count|                30|                30|               30|                 30|\n",
      "|   mean|20.038333333333334|136.96666666666667|           3625.8| 0.7333333333333333|\n",
      "| stddev| 6.267334627521761| 44.65073913998654|940.9677117110652|0.44977644510880366|\n",
      "|    min|              11.2|                70|             1905|                  0|\n",
      "|    max|              36.5|               223|             5430|                  1|\n",
      "+-------+------------------+------------------+-----------------+-------------------+\n",
      "\n"
     ]
    }
   ],
   "source": [
    "df_cars.describe().show()\n",
    "df_cars.describe(\"mpg\",\"hp\",\"weight\",\"automatic\").show()"
   ]
  },
  {
   "cell_type": "code",
   "execution_count": 11,
   "metadata": {},
   "outputs": [
    {
     "name": "stdout",
     "output_type": "stream",
     "text": [
      "hp to weight : Correlation = 0.8879\n",
      "hp to weight : Covariance = 37304.2345\n"
     ]
    }
   ],
   "source": [
    "# Correlaciones/Covarianzas\n",
    "cor1 = df_cars.stat.corr(\"hp\",\"weight\",method=\"pearson\")\n",
    "print (\"hp to weight : Correlation = {0:.4f}\".format(cor1))\n",
    "# cor2 = df_cars.stat.corr(\"hp\",\"weight\",method=\"spearman\")\n",
    "# print \"hp to weight : Correlation = {0:.4f}\".format(cor2)\n",
    "cov = df_cars.stat.cov(\"hp\",\"weight\")\n",
    "print (\"hp to weight : Covariance = {0:.4f}\".format(cov))\n"
   ]
  },
  {
   "cell_type": "markdown",
   "metadata": {},
   "source": [
    "## Regresión lineal"
   ]
  },
  {
   "cell_type": "code",
   "execution_count": 12,
   "metadata": {},
   "outputs": [
    {
     "data": {
      "image/png": "[encoded data removed]",
      "text/plain": [
       "<matplotlib.figure.Figure at 0x190b052eeb8>"
      ]
     },
     "metadata": {},
     "output_type": "display_data"
    }
   ],
   "source": [
    "import matplotlib.pyplot as plt\n",
    "%matplotlib inline\n",
    "\n",
    "df_pandas = df_cars.toPandas() \n",
    "plt.plot( df_pandas [\"hp\"], df_pandas [\"weight\"],'bo' )\n",
    "plt.ylabel('Weight')\n",
    "plt.xlabel('Horsepower')\n",
    "plt.title(\"Car-Attributes\")\n",
    "plt.show()"
   ]
  },
  {
   "cell_type": "code",
   "execution_count": 13,
   "metadata": {},
   "outputs": [
    {
     "name": "stdout",
     "output_type": "stream",
     "text": [
      "+-----+------------+---+------+------+-------+------------+---------+------+-----+------+---------+--------------------+\n",
      "|  mpg|displacement| hp|torque|CRatio|RARatio|CarbBarrells|NoOfSpeed|length|width|weight|automatic|            features|\n",
      "+-----+------------+---+------+------+-------+------------+---------+------+-----+------+---------+--------------------+\n",
      "| 18.9|       350.0|165|   260|   8.0|   2.56|           4|        3| 200.3| 69.9|  3910|        1|[350.0,165.0,260....|\n",
      "| 17.0|       350.0|170|   275|   8.5|   2.56|           4|        3| 199.6| 72.9|  3860|        1|[350.0,170.0,275....|\n",
      "| 20.0|       250.0|105|   185|  8.25|   2.73|           1|        3| 196.7| 72.2|  3510|        1|[250.0,105.0,185....|\n",
      "|18.25|       351.0|143|   255|   8.0|    3.0|           2|        3| 199.9| 74.0|  3890|        1|[351.0,143.0,255....|\n",
      "|20.07|       225.0| 95|   170|   8.4|   2.76|           1|        3| 194.1| 71.8|  3365|        0|[225.0,95.0,170.0...|\n",
      "| 11.2|       440.0|215|   330|   8.2|   2.88|           4|        3| 184.5| 69.0|  4215|        1|[440.0,215.0,330....|\n",
      "|22.12|       231.0|110|   175|   8.0|   2.56|           2|        3| 179.3| 65.4|  3020|        1|[231.0,110.0,175....|\n",
      "|21.47|       262.0|110|   200|   8.5|   2.56|           2|        3| 179.3| 65.4|  3180|        1|[262.0,110.0,200....|\n",
      "| 34.7|        89.7| 70|    81|   8.2|    3.9|           2|        4| 155.7| 64.0|  1905|        0|[89.7,70.0,81.0,8...|\n",
      "| 30.4|        96.9| 75|    83|   9.0|    4.3|           2|        5| 165.2| 65.0|  2320|        0|[96.9,75.0,83.0,9...|\n",
      "| 16.5|       350.0|155|   250|   8.5|   3.08|           4|        3| 195.4| 74.4|  3885|        1|[350.0,155.0,250....|\n",
      "| 36.5|        85.3| 80|    83|   8.5|   3.89|           2|        4| 160.6| 62.2|  2009|        0|[85.3,80.0,83.0,8...|\n",
      "| 21.5|       171.0|109|   146|   8.2|   3.22|           2|        4| 170.4| 66.9|  2655|        0|[171.0,109.0,146....|\n",
      "| 19.7|       258.0|110|   195|   8.0|   3.08|           1|        3| 171.5| 77.0|  3375|        1|[258.0,110.0,195....|\n",
      "| 20.3|       140.0| 83|   109|   8.4|    3.4|           2|        4| 168.8| 69.4|  2700|        0|[140.0,83.0,109.0...|\n",
      "| 17.8|       302.0|129|   220|   8.0|    3.0|           2|        3| 199.9| 74.0|  3890|        1|[302.0,129.0,220....|\n",
      "|14.39|       500.0|190|   360|   8.5|   2.73|           4|        3| 224.1| 79.8|  5290|        1|[500.0,190.0,360....|\n",
      "|14.89|       440.0|215|   330|   8.2|   2.71|           4|        3| 231.0| 79.7|  5185|        1|[440.0,215.0,330....|\n",
      "| 17.8|       350.0|155|   250|   8.5|   3.08|           4|        3| 196.7| 72.2|  3910|        1|[350.0,155.0,250....|\n",
      "|16.41|       318.0|145|   255|   8.5|   2.45|           2|        3| 197.6| 71.0|  3660|        1|[318.0,145.0,255....|\n",
      "+-----+------------+---+------+------+-------+------------+---------+------+-----+------+---------+--------------------+\n",
      "only showing top 20 rows\n",
      "\n"
     ]
    }
   ],
   "source": [
    "# Features (Modelamos mpg a partir del resto de datos)\n",
    "from pyspark.ml.feature import VectorAssembler\n",
    "\n",
    "\n",
    "assembler = VectorAssembler(\n",
    "    inputCols=[\"displacement\",\"hp\",\"torque\",\"CRatio\",\"RARatio\",\"CarbBarrells\",\"NoOfSpeed\",\"length\",\"width\",\"weight\",\"automatic\"],\n",
    "    outputCol=\"features\")\n",
    "\n",
    "df_cars_features = assembler.transform(df_cars)\n",
    "df_cars_features.show()"
   ]
  },
  {
   "cell_type": "code",
   "execution_count": 14,
   "metadata": {},
   "outputs": [
    {
     "name": "stdout",
     "output_type": "stream",
     "text": [
      "+-----+--------------------+\n",
      "|  mpg|            features|\n",
      "+-----+--------------------+\n",
      "| 11.2|[440.0,215.0,330....|\n",
      "| 13.9|[351.0,148.0,243....|\n",
      "|14.39|[500.0,190.0,360....|\n",
      "|14.89|[440.0,215.0,330....|\n",
      "|16.41|[318.0,145.0,255....|\n",
      "| 16.5|[350.0,155.0,250....|\n",
      "| 16.5|[360.0,165.0,255....|\n",
      "| 17.0|[350.0,170.0,275....|\n",
      "| 17.8|[302.0,129.0,220....|\n",
      "| 17.8|[350.0,155.0,250....|\n",
      "| 18.9|[350.0,165.0,260....|\n",
      "| 19.7|[258.0,110.0,195....|\n",
      "| 20.0|[250.0,105.0,185....|\n",
      "|20.07|[225.0,95.0,170.0...|\n",
      "| 20.3|[140.0,83.0,109.0...|\n",
      "|21.47|[262.0,110.0,200....|\n",
      "|21.47|[360.0,180.0,290....|\n",
      "| 21.5|[171.0,109.0,146....|\n",
      "|22.12|[231.0,110.0,175....|\n",
      "|23.54|[231.0,110.0,175....|\n",
      "+-----+--------------------+\n",
      "only showing top 20 rows\n",
      "\n",
      "+-----+--------------------+\n",
      "|  mpg|            features|\n",
      "+-----+--------------------+\n",
      "|13.27|[351.0,148.0,243....|\n",
      "|13.27|[460.0,223.0,366....|\n",
      "|13.77|[360.0,195.0,295....|\n",
      "|18.25|[351.0,143.0,255....|\n",
      "|19.73|[318.0,140.0,255....|\n",
      "+-----+--------------------+\n",
      "\n"
     ]
    }
   ],
   "source": [
    "# Split data\n",
    "train, test = df_cars_features.select(\"mpg\",\"features\").randomSplit([0.8,0.2], seed=42)\n",
    "train.show()\n",
    "test.show()"
   ]
  },
  {
   "cell_type": "code",
   "execution_count": 16,
   "metadata": {
    "scrolled": false
   },
   "outputs": [],
   "source": [
    "# Train model\n",
    "from pyspark.ml.regression import LinearRegression\n",
    "lr = LinearRegression(labelCol=\"mpg\", maxIter=100, regParam=0.3, elasticNetParam=0.8)\n",
    "model = lr.fit(train)"
   ]
  },
  {
   "cell_type": "code",
   "execution_count": 20,
   "metadata": {},
   "outputs": [
    {
     "name": "stdout",
     "output_type": "stream",
     "text": [
      "[-0.010972748525383264,-0.012788534771889513,-0.011549875219324364,1.0864259517626724,1.4691216024534852,0.0,0.0,0.0,-0.14790744325252406,-0.001285094262731583,0.0]\n",
      "29.15726405117587\n",
      "numIterations: 11\n",
      "Iteration Summary History: [0.5000000000000009, 0.40117529731398494, 0.16617078122184098, 0.1624832335609037, 0.21828449887964044, 0.1546085408101498, 0.15354961616427543, 0.1534313864472479, 0.15334465019077181, 0.15308870444362024, 0.15281773644669164]\n",
      "+--------------------+\n",
      "|           residuals|\n",
      "+--------------------+\n",
      "|  -4.085738019356116|\n",
      "| -2.7274970681815542|\n",
      "|  2.6627269538523066|\n",
      "|   2.683163730712618|\n",
      "|  -2.087469340719249|\n",
      "| -1.7097205096572168|\n",
      "| -1.9880121424073849|\n",
      "|-0.21919089576703144|\n",
      "| -1.0074054014342089|\n",
      "| -0.7029895282444834|\n",
      "|  1.6073636613439994|\n",
      "| -0.4575663214455581|\n",
      "| -0.7186716649266138|\n",
      "| -1.6766630403050513|\n",
      "|   -5.38715484469688|\n",
      "| -0.3315154168148631|\n",
      "|    5.93598810646561|\n",
      "|  -3.033023124385938|\n",
      "|0.027180392259428032|\n",
      "|  1.4857332201413769|\n",
      "+--------------------+\n",
      "only showing top 20 rows\n",
      "\n",
      "RMSE: 3.034383297546629\n",
      "r2: 0.7664763207923755\n"
     ]
    }
   ],
   "source": [
    "print (model.coefficients) \n",
    "print (model.intercept)\n",
    "trSummary = model.summary\n",
    "print (\"numIterations: \" + str(trSummary.totalIterations))\n",
    "print (\"Iteration Summary History: \" + str(trSummary.objectiveHistory))\n",
    "trSummary.residuals.show()\n",
    "print (\"RMSE: \" + str(trSummary.rootMeanSquaredError))\n",
    "print (\"r2: \" + str(trSummary.r2))"
   ]
  },
  {
   "cell_type": "code",
   "execution_count": 17,
   "metadata": {},
   "outputs": [
    {
     "name": "stdout",
     "output_type": "stream",
     "text": [
      "+-----+--------------------+------------------+\n",
      "|  mpg|            features|        prediction|\n",
      "+-----+--------------------+------------------+\n",
      "|13.27|[351.0,148.0,243....|16.320520586631346|\n",
      "|13.27|[460.0,223.0,366....|12.082929107010496|\n",
      "|13.77|[360.0,195.0,295....|16.939078323839304|\n",
      "|18.25|[351.0,143.0,255....| 17.36238352358282|\n",
      "|19.73|[318.0,140.0,255....|17.635772398771298|\n",
      "+-----+--------------------+------------------+\n",
      "\n"
     ]
    }
   ],
   "source": [
    "# Predict model\n",
    "predictions = model.transform(test)\n",
    "predictions.show()"
   ]
  },
  {
   "cell_type": "code",
   "execution_count": 23,
   "metadata": {},
   "outputs": [
    {
     "name": "stdout",
     "output_type": "stream",
     "text": [
      "Root Mean Squared Error = 2.2449\n",
      "Mean Squared Error = 5.0396\n"
     ]
    }
   ],
   "source": [
    "# Model evalluation\n",
    "from pyspark.ml.evaluation import RegressionEvaluator\n",
    "evaluator = RegressionEvaluator(labelCol=\"mpg\")\n",
    "rmse = evaluator.evaluate(predictions)\n",
    "print (\"Root Mean Squared Error = {0:.4f}\".format(rmse))\n",
    "evaluator.setMetricName(\"mse\")\n",
    "mse = evaluator.evaluate(predictions)\n",
    "print (\"Mean Squared Error = {0:.4f}\".format(mse))"
   ]
  },
  {
   "cell_type": "code",
   "execution_count": null,
   "metadata": {},
   "outputs": [],
   "source": []
  }
 ],
 "metadata": {
  "kernelspec": {
   "display_name": "Python 3",
   "language": "python",
   "name": "python3"
  },
  "language_info": {
   "codemirror_mode": {
    "name": "ipython",
    "version": 3
   },
   "file_extension": ".py",
   "mimetype": "text/x-python",
   "name": "python",
   "nbconvert_exporter": "python",
   "pygments_lexer": "ipython3",
   "version": "3.6.4"
  }
 },
 "nbformat": 4,
 "nbformat_minor": 1
}

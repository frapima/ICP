{
 "cells": [
  {
   "cell_type": "markdown",
   "metadata": {},
   "source": [
    "# TP3 - Apartado 1 - Infraestructuras Computacionales para el Procesamiento de Datos Masivos\n",
    "## Kafka"
   ]
  },
  {
   "cell_type": "markdown",
   "metadata": {},
   "source": [
    "### 1. Localizar el archivo que contiene la configuración Zookeeper y levantar dicho servidor utilizando la configuración por defecto. ¿Qué puerto es el utilizado por defecto por Zookeeper?"
   ]
  },
  {
   "cell_type": "markdown",
   "metadata": {},
   "source": [
    "- Archivo: zookeeper.properties\n",
    "- Comando: `bin/zookeeper-server-start.sh config/zookeeper.properties`\n",
    "- Puerto por defecto: 2181"
   ]
  },
  {
   "cell_type": "markdown",
   "metadata": {},
   "source": [
    "### 2. Localizar el archivo que contiene la configuración de un broker y levantar dicho broker. ¿Qué puerto es el utilizado opr defecto por los brokers?"
   ]
  },
  {
   "cell_type": "markdown",
   "metadata": {},
   "source": [
    "- Archivo: server.properties\n",
    "- Comando: `bin/kafka-server-start.sh config/server.properties`\n",
    "- Puerto: 9092"
   ]
  },
  {
   "cell_type": "markdown",
   "metadata": {},
   "source": [
    "### 3. Crear un topic nuevo con el nombre \"initial\", con una partición y un factor de replicación igual a 1."
   ]
  },
  {
   "cell_type": "markdown",
   "metadata": {},
   "source": [
    "- Comando: `bin/kafka-topics.sh --create --bootstrap-server localhost:9092 --replication-factor 1 --partitions 1 --topic initial`"
   ]
  },
  {
   "cell_type": "markdown",
   "metadata": {},
   "source": [
    "### 4. Describir el topic \"initial\" y comentar los resultados que se obtienen."
   ]
  },
  {
   "cell_type": "markdown",
   "metadata": {},
   "source": [
    "- Comando: `bin/kafka-topics.sh --bootstrap-server localhost:9092 --describe initial`\n",
    "- Resultado:\n",
    "\n",
    "`Topic: initial\tPartitionCount: 1\tReplicationFactor: 1\tConfigs: segment.bytes=1073741824\n",
    "    Topic: initial\tPartition: 0\tLeader: 0\tReplicas: 0\tIsr: `\n",
    "- Comentario: La primera línea nos da información sobre todas las particiones. En este caso, solo tenemos un topic. \n",
    "    - \"leader\" es el nodo responsable de todas las lecturas y escrituras de dicha partición.\n",
    "    - \"replicas\" es la lista de nodos réplicas.\n",
    "    - \"isr\" es el número de réplicas que están actualizados con el leader.\n"
   ]
  },
  {
   "cell_type": "markdown",
   "metadata": {},
   "source": [
    "### 5. Arrancar un productor sobre el topic initial"
   ]
  },
  {
   "cell_type": "markdown",
   "metadata": {},
   "source": [
    "- Comando: `bin/kafka-console-producer.sh --broker-list localhost:9092 --topic initial`"
   ]
  },
  {
   "cell_type": "markdown",
   "metadata": {},
   "source": [
    "### 6. Arrancar un consumidor sobre \"initial\" que consuma todos los mensajes desde el principio."
   ]
  },
  {
   "cell_type": "markdown",
   "metadata": {},
   "source": [
    "- Comando: `bin/kafka-console-consumer.sh --bootstrap-server localhost:9092 --topic intial --from-beginning`"
   ]
  },
  {
   "cell_type": "markdown",
   "metadata": {},
   "source": [
    "### 7. Generar algunos mensajes en el productor levantado en el ejercicio 5 y observar como se reciben en el consumidor levantado en el ejercicio 6. Comentar la salida obtenida. Detener a continuación el productor y el consumidor."
   ]
  },
  {
   "cell_type": "markdown",
   "metadata": {},
   "source": [
    "Para la generación de mensajes simplemente se ha escrito en el productor lo siguientes textos:\n",
    "```\n",
    ">hello\n",
    ">world\n",
    ">!\n",
    "```\n",
    "Lo que ha impreso en la consola del consumidor:\n",
    "```\n",
    "hello\n",
    "world\n",
    "!\n",
    "```\n",
    "\n",
    "Para detener ambos, basta con presionar ^C sobre cada terminal en la que se estaba ejecutando cada uno de ellos."
   ]
  },
  {
   "cell_type": "markdown",
   "metadata": {},
   "source": [
    "### 8. Crear un topic nuevo con el nombre \"testRep\", con dos particiones y un factor de replicación igual a 2. ¿Qué sucede? ¿Cuál es la razón?"
   ]
  },
  {
   "cell_type": "markdown",
   "metadata": {},
   "source": [
    "- Comando: `bin/kafka-topics.sh --create --bootstrap-server localhost:9092 --replication-factor 2 --partitions 2 --topic testRep`\n",
    "- Resultado: org.apache.kafka.common.errors.InvalidReplicationFactorException\n",
    "- Razón: Se ha intentado crear un topic con más réplicas (2) que brokers disponibles (1)"
   ]
  },
  {
   "cell_type": "markdown",
   "metadata": {},
   "source": [
    "### 9. Detener el broker levantado en el ejercicio 2."
   ]
  },
  {
   "cell_type": "markdown",
   "metadata": {},
   "source": [
    "Para detener el broker, basta con ejecutar el siguiente comando: `bin/kafka-server-stop.sh`"
   ]
  },
  {
   "cell_type": "markdown",
   "metadata": {},
   "source": [
    "### 10. Levantar 3 brokers distintos: generar nuevos ficheros de configuración para cada uno de ellos indicando las modificaciones que han sido necesarias. Los identificadores de los brokers serán 0, 1 y 2."
   ]
  },
  {
   "cell_type": "markdown",
   "metadata": {},
   "source": [
    "En primer lugar, creamos tres archivos de configuración distintos, uno para cada broker:\n",
    "- `cp config/server.properties config/server-0.properties`\n",
    "- `cp config/server.properties config/server-1.properties`\n",
    "- `cp config/server.properties config/server-2.properties`\n",
    "\n",
    "A continuación, en los archivos server-1.properties y server-2.properties, modificamos las diferentes propiedades:\n",
    "- broker.id -> 1 y 2 respectivamente.\n",
    "- listeners -> PLAINTEXT://:9094 y PLAINTEXT://:9095 respectivamente.\n",
    "- log.dirs -> /tmp/kafka-logs-1 y /tmp/kafka-logs-2 respectivamente.\n",
    "\n",
    "Para arrancar los brokers:\n",
    "\n",
    "- Archivo: server-0.properties\n",
    "- Comando: `bin/kafka-server-start.sh config/server-0.properties`\n",
    "- Puerto: 9092\n",
    "\n",
    "\n",
    "- Archivo: server-1.properties\n",
    "- Comando: `bin/kafka-server-start.sh config/server-2.properties`\n",
    "- Puerto: 9093\n",
    "\n",
    "\n",
    "- Archivo: server-2.properties\n",
    "- Comando: `bin/kafka-server-start.sh config/server-2.properties`\n",
    "- Puerto: 9094"
   ]
  },
  {
   "cell_type": "markdown",
   "metadata": {},
   "source": [
    "### 11. Describir el topic \"initial\". Comentar los resultados que se obtienen"
   ]
  },
  {
   "cell_type": "markdown",
   "metadata": {},
   "source": [
    "Comando: `bin/kafka-topics.sh --describe --bootstrap-server localhost:9092 --topic initial`\n",
    "\n",
    "Sigue igual que antes, sin replicas y en el servidor (broker) que inicialmente lo habíamos creado (0):\n",
    "\n",
    "```Topic: initial\tPartitionCount: 1\tReplicationFactor: 1\tConfigs: segment.bytes=1073741824\n",
    "\tTopic: initial\tPartition: 0\tLeader: 0\tReplicas: 0\tIsr: 0```\n"
   ]
  },
  {
   "cell_type": "markdown",
   "metadata": {},
   "source": [
    "### 12. Crear un topic nuevo con el nombre \"testOrder1\", con 1 partición y factor de replicación igual a 3."
   ]
  },
  {
   "cell_type": "markdown",
   "metadata": {},
   "source": [
    "- Comando: `bin/kafka-topics.sh --create --bootstrap-server localhost:9092 --replication-factor 3 --partitions 1 --topic testOrder1`"
   ]
  },
  {
   "cell_type": "markdown",
   "metadata": {},
   "source": [
    "### 13. Crear un topic nuevo con el nombre \"testOrder2\", con 3 particiones y factor de replicación igual a 3."
   ]
  },
  {
   "cell_type": "markdown",
   "metadata": {},
   "source": [
    "- Comando: `bin/kafka-topics.sh --create --bootstrap-server localhost:9092 --replication-factor 3 --partitions 3 --topic testOrder2`"
   ]
  },
  {
   "cell_type": "markdown",
   "metadata": {},
   "source": [
    "### 14. Describir los topics \"testOrder1\" y \"testOrder2\" y comentar los resultados que se obtienen."
   ]
  },
  {
   "cell_type": "markdown",
   "metadata": {},
   "source": [
    "- Comando: `bin/kafka-topics.sh --describe --bootstrap-server localhost:9092 --topic testOrder1`\n",
    "- Resultado:\n",
    "\n",
    "```Topic: testOrder1\tPartitionCount: 1\tReplicationFactor: 3\tConfigs: segment.bytes=1073741824\n",
    "\tTopic: testOrder1\tPartition: 0\tLeader: 1\tReplicas: 1,2,0Isr: 1,2,0```\n",
    "\n",
    "- Comentarios: Se puede comprobar que hay únicamente una partición, cuyo líder es el broker 1, y cuyas réplicas se encuentran en los brokers 1, 2 y 0.\n",
    "\n",
    "- Comando: `bin/kafka-topics.sh --describe --bootstrap-server localhost:9092 --topic testOrder2`\n",
    "- Resultado:\n",
    "\n",
    "```Topic: testOrder2\tPartitionCount: 3\tReplicationFactor: 3\tConfigs: segment.bytes=1073741824\n",
    "\tTopic: testOrder2\tPartition: 0\tLeader: 0\tReplicas: 0,2,1Isr: 0,2,1\n",
    "\tTopic: testOrder2\tPartition: 1\tLeader: 2\tReplicas: 2,1,0Isr: 2,1,0\n",
    "\tTopic: testOrder2\tPartition: 2\tLeader: 1\tReplicas: 1,0,2Isr: 1,0,2```\n",
    "\n",
    "- Comentarios: Se puede comprobar que hay 3 particiones (0, 1 y 2) , cuyos líderes son los broker 0, 1 y 2 respectivamente, y cuyas réplicas se encuentran en los brokers 0,2,1 para la partición 0, 2,1,0 para la partición 1 y 1,0,2 para la partición 2."
   ]
  },
  {
   "cell_type": "markdown",
   "metadata": {},
   "source": [
    "### 15. Arrancar un productor sobre el topic \"testOrder1\" y un consumidor desde el inicio sobre el mismo topic. Introducir algunos mensajes y observar como se consumen. Detener el productor y el consumidor."
   ]
  },
  {
   "cell_type": "markdown",
   "metadata": {},
   "source": [
    "Comandos:\n",
    "- `bin/kafka-console-producer.sh --broker-list localhost:9092 --topic testOrder1` \n",
    "- `bin/kafka-console-consumer.sh --bootstrap-server localhost:9092 --from-beginning --topic testOrder1`\n",
    "\n",
    "\n",
    "Para la generación de mensajes simplemente se ha escrito en el productor lo siguientes textos:\n",
    "```\n",
    ">hello\n",
    ">world\n",
    ">!\n",
    "```\n",
    "Lo que ha impreso en la consola del consumidor:\n",
    "```\n",
    "hello\n",
    "world\n",
    "!\n",
    "```\n",
    "\n",
    "Para detener ambos, basta con presionar ^C sobre cada terminal en la que se estaba ejecutando cada uno de ellos."
   ]
  },
  {
   "cell_type": "markdown",
   "metadata": {},
   "source": [
    "### 16. Arrancar un productor sobre el topic \"testOrder2\" y un consumidor desde el inicio sobre el mismo topic. Introducir algunos mensajes y observar como se consumen. Detener el productor y el consumidor."
   ]
  },
  {
   "cell_type": "markdown",
   "metadata": {},
   "source": [
    "Comandos:\n",
    "- `bin/kafka-console-producer.sh --broker-list localhost:9092 --topic testOrder2` \n",
    "- `bin/kafka-console-consumer.sh --bootstrap-server localhost:9092 --from-beginning --topic testOrder2`\n",
    "\n",
    "\n",
    "Para la generación de mensajes simplemente se ha escrito en el productor lo siguientes textos:\n",
    "```\n",
    ">hello\n",
    ">world\n",
    ">!\n",
    "```\n",
    "Lo que ha impreso en la consola del consumidor:\n",
    "```\n",
    "hello\n",
    "world\n",
    "!\n",
    "```\n",
    "\n",
    "Para detener ambos, basta con presionar ^C sobre cada terminal en la que se estaba ejecutando cada uno de ellos."
   ]
  },
  {
   "cell_type": "markdown",
   "metadata": {},
   "source": [
    "### 17. Arrancar un consumidor sobre el topic \"testOrder1\", sin que consuma desde el principio, únicamente los valores que le lleguen desde el nuevo arranque. En otra consola, generar una secuencia de números del 1 al 30 (utilizando el comando \"seq\") y enviársela mediante una tubería o pipe (indicada con el carácter \"|\") a un productor sobre el topic \"testOrder1\". Observar como se consume dicha secuencia en el consumidor."
   ]
  },
  {
   "cell_type": "markdown",
   "metadata": {},
   "source": [
    "Comandos:\n",
    "- `bin/kafka-console-consumer.sh --bootstrap-server localhost:9092 --topic testOrder1`\n",
    "- `seq 1 30 | bin/kafka-console-producer.sh --broker-list localhost:9092 --topic testOrder1` \n",
    "\n",
    "Lo que ha impreso en la consola del consumidor:\n",
    "```\n",
    "1\n",
    "2\n",
    "3\n",
    "4\n",
    "5\n",
    "6\n",
    "7\n",
    "8\n",
    "9\n",
    "10\n",
    "11\n",
    "12\n",
    "13\n",
    "14\n",
    "15\n",
    "16\n",
    "17\n",
    "18\n",
    "19\n",
    "20\n",
    "21\n",
    "22\n",
    "23\n",
    "24\n",
    "25\n",
    "26\n",
    "27\n",
    "28\n",
    "29\n",
    "30\n",
    "```"
   ]
  },
  {
   "cell_type": "markdown",
   "metadata": {},
   "source": [
    "### 18. Arrancar un consumidor sobre el topic \"testOrder2\", sin que consuma desde el principio, únicamente los valores que le lleguen desde el nuevo arranque. En otra consola, generar una secuencia de números del 1 al 30 (utilizando el comando \"seq\") y enviársela mediante una tubería o pipe (indicada con el carácter \"|\") a un productor sobre el topic \"testOrder2\". Observar como se consume dicha secuencia en el consumidor."
   ]
  },
  {
   "cell_type": "markdown",
   "metadata": {},
   "source": [
    "> Nota: Para emular este resultado, he tenido que degradar la versión de kafka a la 2.3.1\n",
    "\n",
    "Comando:\n",
    "- `bin/kafka-console-consumer.sh --bootstrap-server localhost:9092 --topic testOrder2`\n",
    "- `seq 1 30 | bin/kafka-console-producer.sh --broker-list localhost:9092 --topic testOrder2` \n",
    "\n",
    "Lo que ha impreso en la consola del consumidor:\n",
    "```\n",
    "2\n",
    "5\n",
    "8\n",
    "11\n",
    "14\n",
    "17\n",
    "20\n",
    "23\n",
    "26\n",
    "29\n",
    "3\n",
    "6\n",
    "9\n",
    "12\n",
    "15\n",
    "18\n",
    "21\n",
    "24\n",
    "27\n",
    "30\n",
    "1\n",
    "4\n",
    "7\n",
    "10\n",
    "13\n",
    "16\n",
    "19\n",
    "22\n",
    "25\n",
    "28\n",
    "\n",
    "```"
   ]
  },
  {
   "cell_type": "markdown",
   "metadata": {},
   "source": [
    "### 19. ¿Cuáles son las diferencias entre lo mostrado en el consumidor en los dos ejercicios anteriores? ¿A qué se deben?"
   ]
  },
  {
   "cell_type": "markdown",
   "metadata": {},
   "source": [
    "La diferencia es que, en el caso del producer-consumer del topic testOrder1, los resultados llegan ordenados, del 1 al 30. En el caso del producer-consumer del topic testOrder2, llegan desordenados.\n",
    "\n",
    "Esto se debe a que el orden se mantiene solo dentro de las particiones."
   ]
  },
  {
   "cell_type": "markdown",
   "metadata": {},
   "source": [
    "### 20. Obtener los últimos offsets de los mensajes del topic \"testOrder1\" y \"testOrder2\". ¿Qué se observa?. (Utilizar el comando kafka-run-class con la opción kafka.tools.GetOffsetShell)"
   ]
  },
  {
   "cell_type": "markdown",
   "metadata": {},
   "source": [
    "Comandos:\n",
    "- ` bin/kafka-run-class.sh kafka.tools.GetOffsetShell --broker-list localhost:9092,localhost:9093,localhost:9094 --topic testOrder1`\n",
    "\n",
    "Resultado:\n",
    "```\n",
    "testOrder1:0:33\n",
    "```\n",
    "\n",
    "Comandos:\n",
    "- ` bin/kafka-run-class.sh kafka.tools.GetOffsetShell --broker-list localhost:9092,localhost:9093,localhost:9094 --topic testOrder2`\n",
    "\n",
    "Resultado:\n",
    "```\n",
    "testOrder2:0:102\n",
    "testOrder2:1:40\n",
    "testOrder2:2:71\n",
    "```\n",
    "\n",
    "Conclusión: Se oberva que el topic testOrder2 tiene 3 offset, pues el offset es el ordinal que corresponde a un evento dentro de una partición. Y éste tiene tres particiones. En cambio, en testOrder1, al solo haber una partición, solamente hay un offset."
   ]
  },
  {
   "cell_type": "markdown",
   "metadata": {},
   "source": [
    "### 21. Detener de forma no planificada (utilizando Ctrl-C o cerrando la consola) el broker con identificador 2, y describir el topic \"testOrder2\". ¿Cuáles son las diferencias con la descripción que obtuvimos en el ejercicio 14? ¿A qué se deben?"
   ]
  },
  {
   "cell_type": "markdown",
   "metadata": {},
   "source": [
    "- Comando: `bin/kafka-topics.sh --describe --bootstrap-server localhost:9092,localhost:9093,localhost:9094 --topic testOrder2`\n",
    "- Resultado:\n",
    "\n",
    "```Topic:testOrder2\tPartitionCount:3\tReplicationFactor:3\tConfigs:segment.bytes=1073741824\n",
    "\tTopic: testOrder2\tPartition: 0\tLeader: 0\tReplicas: 0,2,1\tIsr: 1,0\n",
    "\tTopic: testOrder2\tPartition: 1\tLeader: 1\tReplicas: 2,1,0\tIsr: 1,0\n",
    "\tTopic: testOrder2\tPartition: 2\tLeader: 1\tReplicas: 1,0,2\tIsr: 1,0```\n",
    "\n",
    "- Comentarios: Se puede comprobar que debido a la alta tolerancia a fallos de kafka, los líderes han sido reasignados a los brokers 1 y 2, las réplicas siguen iguales. No obstante, lás únicas réplicas actualizadas con el líder (isr) son los brokers 1 y 0. Pues el dos se ha detenido."
   ]
  }
 ],
 "metadata": {
  "kernelspec": {
   "display_name": "Python 3",
   "language": "python",
   "name": "python3"
  },
  "language_info": {
   "codemirror_mode": {
    "name": "ipython",
    "version": 3
   },
   "file_extension": ".py",
   "mimetype": "text/x-python",
   "name": "python",
   "nbconvert_exporter": "python",
   "pygments_lexer": "ipython3",
   "version": "3.7.5"
  }
 },
 "nbformat": 4,
 "nbformat_minor": 2
}

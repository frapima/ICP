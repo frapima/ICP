{
 "cells": [
  {
   "cell_type": "markdown",
   "metadata": {},
   "source": [
    "Francisco Javier Piqueras Martínez\n",
    "\n",
    "# TP3 - Apartado 2 - Infraestructuras Computacionales para el Procesamiento de Datos Masivos\n",
    "## Ejercicio 1\n",
    "Desarrollar un notebook de Jupyter, denominado “tweetCount.ipynb” en el que se utilice como fuente de datos Kafka, y en concreto el topic kafkaTwitter, se establezca una duración de batch de un segundo, y se muestre, cada 5 segundos, el número de tweets recibidos en los últimos 10 segundos."
   ]
  },
  {
   "cell_type": "markdown",
   "metadata": {},
   "source": [
    "En primer lugar, realizamos todos los imports necesarios."
   ]
  },
  {
   "cell_type": "code",
   "execution_count": 1,
   "metadata": {},
   "outputs": [],
   "source": [
    "import findspark\n",
    "findspark.init('/Users/javierpiquerasmartinez/dev/spark-2.4.4-bin-hadoop2.7')"
   ]
  },
  {
   "cell_type": "code",
   "execution_count": 2,
   "metadata": {},
   "outputs": [],
   "source": [
    "import os\n",
    "os.environ['JAVA_HOME']='/Library/Java/JavaVirtualMachines/jdk1.8.0_231.jdk/Contents/Home/jre'\n",
    "os.environ['PYSPARK_SUBMIT_ARGS']='--master local[*] --packages org.apache.spark:spark-streaming-kafka-0-8_2.11:2.4.4 pyspark-shell'"
   ]
  },
  {
   "cell_type": "code",
   "execution_count": 3,
   "metadata": {},
   "outputs": [],
   "source": [
    "from pyspark import SparkContext\n",
    "from pyspark.streaming import StreamingContext\n",
    "from pyspark.streaming.kafka import KafkaUtils"
   ]
  },
  {
   "cell_type": "markdown",
   "metadata": {},
   "source": [
    "Inicializamos SparkContext y el StreamingContext, con una duración de batch de 1 segundo."
   ]
  },
  {
   "cell_type": "code",
   "execution_count": 4,
   "metadata": {},
   "outputs": [],
   "source": [
    "sc = SparkContext(master=\"local[*]\", appName=\"tweetCount\")\n",
    "ssc = StreamingContext(sc, batchDuration = 1)\n",
    "\n",
    "ssc.checkpoint(\"checkpoint\")"
   ]
  },
  {
   "cell_type": "markdown",
   "metadata": {},
   "source": [
    "Para la recepción de datos, creamos un DirectStream que atienda a el evento 'kafkaTwitter' en el servidor localhost:9092."
   ]
  },
  {
   "cell_type": "code",
   "execution_count": 5,
   "metadata": {},
   "outputs": [],
   "source": [
    "dstream = KafkaUtils.createDirectStream(\n",
    "    ssc, \n",
    "    topics = ['kafkaTwitter'],\n",
    "    kafkaParams = {\n",
    "        'bootstrap.servers' : 'localhost:9092'\n",
    "    })"
   ]
  },
  {
   "cell_type": "markdown",
   "metadata": {},
   "source": [
    "Finalmente, mapeamos el número de procesamientos del batch para su devolución:"
   ]
  },
  {
   "cell_type": "code",
   "execution_count": 6,
   "metadata": {},
   "outputs": [],
   "source": [
    "count_windowed = dstream.countByWindow(10, 5).map(lambda x:('Number of tweets after 5 seconds: %s' % x))\n",
    "\n",
    "count_windowed.pprint()"
   ]
  },
  {
   "cell_type": "code",
   "execution_count": 7,
   "metadata": {
    "scrolled": false
   },
   "outputs": [
    {
     "name": "stdout",
     "output_type": "stream",
     "text": [
      "-------------------------------------------\n",
      "Time: 2020-01-12 21:27:02\n",
      "-------------------------------------------\n",
      "\n",
      "-------------------------------------------\n",
      "Time: 2020-01-12 21:27:07\n",
      "-------------------------------------------\n",
      "Number of tweets after 5 seconds: 18\n",
      "\n",
      "-------------------------------------------\n",
      "Time: 2020-01-12 21:27:12\n",
      "-------------------------------------------\n",
      "Number of tweets after 5 seconds: 115\n",
      "\n",
      "-------------------------------------------\n",
      "Time: 2020-01-12 21:27:17\n",
      "-------------------------------------------\n",
      "Number of tweets after 5 seconds: 190\n",
      "\n",
      "-------------------------------------------\n",
      "Time: 2020-01-12 21:27:22\n",
      "-------------------------------------------\n",
      "Number of tweets after 5 seconds: 178\n",
      "\n",
      "-------------------------------------------\n",
      "Time: 2020-01-12 21:27:27\n",
      "-------------------------------------------\n",
      "Number of tweets after 5 seconds: 188\n",
      "\n",
      "-------------------------------------------\n",
      "Time: 2020-01-12 21:27:32\n",
      "-------------------------------------------\n",
      "Number of tweets after 5 seconds: 196\n",
      "\n",
      "-------------------------------------------\n",
      "Time: 2020-01-12 21:27:37\n",
      "-------------------------------------------\n",
      "Number of tweets after 5 seconds: 184\n",
      "\n",
      "-------------------------------------------\n",
      "Time: 2020-01-12 21:27:42\n",
      "-------------------------------------------\n",
      "Number of tweets after 5 seconds: 184\n",
      "\n",
      "-------------------------------------------\n",
      "Time: 2020-01-12 21:27:47\n",
      "-------------------------------------------\n",
      "Number of tweets after 5 seconds: 192\n",
      "\n",
      "-------------------------------------------\n",
      "Time: 2020-01-12 21:27:52\n",
      "-------------------------------------------\n",
      "Number of tweets after 5 seconds: 193\n",
      "\n",
      "-------------------------------------------\n",
      "Time: 2020-01-12 21:27:57\n",
      "-------------------------------------------\n",
      "Number of tweets after 5 seconds: 191\n",
      "\n",
      "-------------------------------------------\n",
      "Time: 2020-01-12 21:28:02\n",
      "-------------------------------------------\n",
      "Number of tweets after 5 seconds: 193\n",
      "\n",
      "-------------------------------------------\n",
      "Time: 2020-01-12 21:28:07\n",
      "-------------------------------------------\n",
      "Number of tweets after 5 seconds: 138\n",
      "\n",
      "-------------------------------------------\n",
      "Time: 2020-01-12 21:28:12\n",
      "-------------------------------------------\n",
      "Number of tweets after 5 seconds: 42\n",
      "\n",
      "-------------------------------------------\n",
      "Time: 2020-01-12 21:28:17\n",
      "-------------------------------------------\n",
      "\n",
      "-------------------------------------------\n",
      "Time: 2020-01-12 21:28:22\n",
      "-------------------------------------------\n",
      "\n"
     ]
    }
   ],
   "source": [
    "ssc.start()"
   ]
  },
  {
   "cell_type": "markdown",
   "metadata": {},
   "source": [
    "#### ¿Alrededor de qué número (aproximado) se estabiliza el número de tweets que se procesan en el lapso de tiempo indicado (10 segundos)? ¿Tiene sentido? ¿Por qué?"
   ]
  },
  {
   "cell_type": "markdown",
   "metadata": {},
   "source": [
    "Las primeras ventanas no tienen registros porque el aún no se ha ejecutado el script, por lo tanto el producer aún no está activo.\n",
    "La 2º ventana recoge los primeros registros. Sin embargo, tiene pocos: 18.\n",
    "A partir de la 4º ventana se estabilizan los registros entorno a 185 o 190 registros cada 10 segundos.\n",
    "\n",
    "Esto ocurre porque hasta que el desplazamiento de la ventana no ha llegado a cubrir en su totalidad el máximo de registros por segundo(tiempo de batch) de procesamiento."
   ]
  }
 ],
 "metadata": {
  "kernelspec": {
   "display_name": "Python 3",
   "language": "python",
   "name": "python3"
  },
  "language_info": {
   "codemirror_mode": {
    "name": "ipython",
    "version": 3
   },
   "file_extension": ".py",
   "mimetype": "text/x-python",
   "name": "python",
   "nbconvert_exporter": "python",
   "pygments_lexer": "ipython3",
   "version": "3.7.5"
  }
 },
 "nbformat": 4,
 "nbformat_minor": 2
}
